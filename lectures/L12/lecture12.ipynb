{
 "cells": [
  {
   "cell_type": "markdown",
   "metadata": {
    "slideshow": {
     "slide_type": "slide"
    }
   },
   "source": [
    "# Lecture 12\n",
    "## Tuesday, October 15th 2019\n",
    "### Automatic Differentiation:  The Reverse Mode"
   ]
  },
  {
   "cell_type": "markdown",
   "metadata": {
    "slideshow": {
     "slide_type": "subslide"
    }
   },
   "source": [
    "#### References\n",
    "* [A Hitchhiker’s Guide to Automatic Differentiation](https://link.springer.com/article/10.1007/s11075-015-0067-6)\n",
    "* Griewank, A. and Walther, A., 2008. Evaluating derivatives: principles and techniques of algorithmic differentiation (Vol. 105). Siam.\n",
    "* Nocedal, J. and Wright, S., 2001. Numerical Optimization, Second Edition. Springer.\n",
    "* [Automatic Differentiation in Machine Learning:  A Survey](https://arxiv.org/pdf/1502.05767.pdf)"
   ]
  },
  {
   "cell_type": "markdown",
   "metadata": {
    "slideshow": {
     "slide_type": "subslide"
    }
   },
   "source": [
    "# Recap\n",
    "Last time:\n",
    "- Dual numbers\n",
    "- Towards implementation of the forward mode"
   ]
  },
  {
   "cell_type": "markdown",
   "metadata": {
    "slideshow": {
     "slide_type": "subslide"
    }
   },
   "source": [
    "## Today\n",
    "\n",
    "- Towards the reverse mode"
   ]
  },
  {
   "cell_type": "markdown",
   "metadata": {
    "slideshow": {
     "slide_type": "slide"
    }
   },
   "source": [
    "# Towards the Reverse Mode\n",
    "The focus of this class is on the forward mode of automatic differentiation.  The reverse mode is also extremely popular and useful (e.g. in scenarios that have $f:\\mathbb{R}^{m}\\mapsto\\mathbb{R}$).  Here we will outline the mechanics of the reverse mode, show a little example, and survey the basic equations."
   ]
  },
  {
   "cell_type": "markdown",
   "metadata": {
    "slideshow": {
     "slide_type": "subslide"
    }
   },
   "source": [
    "## A Sketch of the Reverse Mode\n",
    "* Create evaluation graph"
   ]
  },
  {
   "cell_type": "markdown",
   "metadata": {
    "slideshow": {
     "slide_type": "fragment"
    }
   },
   "source": [
    "* Forward pass does function evaluations"
   ]
  },
  {
   "cell_type": "markdown",
   "metadata": {
    "slideshow": {
     "slide_type": "fragment"
    }
   },
   "source": [
    "* Forward pass also does partial derivatives of elementary functions\n",
    "  * **It does NOT do the chain rule!**\n",
    "  * Just stores the partial derivatives\n",
    "  * If $x_{3} = x_{1}x_{2}$ is a node, we store $\\dfrac{\\partial x_{3}}{\\partial x_{1}}$ and $\\dfrac{\\partial x_{3}}{\\partial x_{2}}$.  That's it."
   ]
  },
  {
   "cell_type": "markdown",
   "metadata": {
    "slideshow": {
     "slide_type": "subslide"
    }
   },
   "source": [
    "* Reverse pass starts with $\\overline{x}_{N} = \\dfrac{\\partial f}{\\partial x_{N}} = 1$ (since $f$ is $x_{N}$)"
   ]
  },
  {
   "cell_type": "markdown",
   "metadata": {
    "slideshow": {
     "slide_type": "fragment"
    }
   },
   "source": [
    "* Then it gets $\\overline{x}_{N-1} = \\dfrac{\\partial f}{\\partial x_{N}}\\dfrac{\\partial x_{N}}{\\partial x_{N-1}}$\n",
    "  * **Note:** $\\dfrac{\\partial x_{N}}{\\partial x_{N-1}}$ is already stored from the forward pass"
   ]
  },
  {
   "cell_type": "markdown",
   "metadata": {
    "slideshow": {
     "slide_type": "fragment"
    }
   },
   "source": [
    "* The only trick occurrs when we get to a branch in the graph.  That is, when the node we're on has more than one child.  In that case, we sum the two paths.  For example, if $x_{3}$ has $x_{4}$ and $x_{5}$ as children, then we do $$\\overline{x}_{3} = \\dfrac{\\partial f}{\\partial x_{3}} = \\dfrac{\\partial f}{\\partial x_{4}}\\dfrac{\\partial x_{4}}{\\partial x_{3}} + \\dfrac{\\partial f}{\\partial x_{5}}\\dfrac{\\partial x_{5}}{\\partial x_{3}}.$$\n",
    "  * **Note:** This summation is a manifestation of the chain rule."
   ]
  },
  {
   "cell_type": "markdown",
   "metadata": {
    "slideshow": {
     "slide_type": "subslide"
    }
   },
   "source": [
    "The reverse mode cannot be interpreted in the context of dual numbers like the forward mode was.\n",
    "\n",
    "The little implementation sketch that we did for the forward mode will need to be generalized for the reverse mode."
   ]
  },
  {
   "cell_type": "markdown",
   "metadata": {
    "slideshow": {
     "slide_type": "subslide"
    }
   },
   "source": [
    "## The Basic Equations\n",
    "These equations are modified from Nocedal and Wright (page 180).\n",
    "\n",
    "The partial derivative of $f$ with respect to $x_{i}$ can be written as \n",
    "\\begin{align}\n",
    "  \\dfrac{\\partial f}{\\partial x_{i}} = \\sum_{\\text{j a child of i}}{\\dfrac{\\partial f}{\\partial x_{j}}\\dfrac{\\partial x_{j}}{\\partial x_{i}}}.\n",
    "\\end{align}\n",
    "At each node $i$ we compute \n",
    "\\begin{align}\n",
    "  \\overline{x}_{i} += \\dfrac{\\partial f}{\\partial x_{j}}\\dfrac{\\partial x_{j}}{\\partial x_{i}}.\n",
    "\\end{align}\n",
    "The $\\overline{x}_{i}$ variable stores the current value of the partial derivative at node $i$.  It is sometimes called the adjoint variable."
   ]
  },
  {
   "cell_type": "markdown",
   "metadata": {
    "slideshow": {
     "slide_type": "subslide"
    }
   },
   "source": [
    "## An Example for Intuition\n",
    "Let's try to evaluate the function $$f\\left(x,y\\right) = xy + \\exp\\left(xy\\right)$$ and its gradient at the point $a = (1,2)$.  We'll use the reverse mode this time.\n",
    "\n",
    "Clearly we have $$\\nabla f = \\begin{bmatrix} y + \\exp\\left(xy\\right)y \\\\ x + \\exp\\left(xy\\right)x \\end{bmatrix}.$$  Hence\n",
    "\\begin{align}\n",
    "  f\\left(a\\right) &= 2 + e^{2} \\\\\n",
    "  \\nabla f &= \n",
    "  \\begin{bmatrix} \n",
    "    2 + 2e^{2} \\\\ \n",
    "    1 + e^{2} \n",
    "  \\end{bmatrix}.\n",
    "\\end{align}"
   ]
  },
  {
   "cell_type": "markdown",
   "metadata": {
    "slideshow": {
     "slide_type": "subslide"
    }
   },
   "source": [
    "Here's a visualization of the computational graph:\n",
    "\n",
    "![](../fig/Reverse-Example.png)\n",
    "\n",
    "Let's use the reverse mode to calculate the gradient of $f$."
   ]
  },
  {
   "cell_type": "markdown",
   "metadata": {
    "slideshow": {
     "slide_type": "subslide"
    }
   },
   "source": [
    "1. Generate the forward trace and calculate the partial derivatives of a node wrt its children.\n",
    "  * Notice that this time we need to save the graph.\n",
    "2. Start at $x_{5}$ and start calculating the chain rule."
   ]
  },
  {
   "cell_type": "markdown",
   "metadata": {
    "slideshow": {
     "slide_type": "subslide"
    }
   },
   "source": [
    "| Node   | Current Value      | Numerical Value           | $\\partial_{1}$       | $\\partial_{1}$ Value  | $\\partial_{2}$ | $\\partial_{2}$ Value |\n",
    "| :---: | :----------------------------: | :-----------: | :----------------------------: | :-----------------:  | :-----------------: | :-----------------: |\n",
    "| $x_{1}$ | $x$                      | $1$         | $1$                        | $1$     | $0$     | $0$   |\n",
    "| $x_{2}$ | $y$                      | $2$         | $0$                        | $0$     | $1$     | $1$   | \n",
    "| $x_{3}$ | $x_{1}x_{2}$             | $2$         | $x_{2}$                    | $2$     | $x_{1}$ | $1$   |\n",
    "| $x_{4}$ | $\\exp\\left(x_{3}\\right)$ | $e^{2}$     | $\\exp\\left(x_{3}\\right)$   | $e^{2}$ | $-$     | $-$   |\n",
    "| $x_{5}$ | $x_{3} + x_{4}$          | $2 + e^{2}$ | $1$                        | $1$     | $1$     | $1$   |"
   ]
  },
  {
   "cell_type": "markdown",
   "metadata": {
    "slideshow": {
     "slide_type": "subslide"
    }
   },
   "source": [
    "![](../fig/Reverse-Example.png)\n",
    "\n",
    "| Node   | Current Value      | Numerical Value           | $\\partial_{1}$       | $\\partial_{1}$ Value  | $\\partial_{2}$ | $\\partial_{2}$ Value |\n",
    "| :---: | :----------------------------: | :-----------: | :----------------------------: | :-----------------:  | :-----------------: | :-----------------: |\n",
    "| $x_{1}$ | $x$                      | $1$         | $1$                        | $1$     | $0$     | $0$   |\n",
    "| $x_{2}$ | $y$                      | $2$         | $0$                        | $0$     | $1$     | $1$   | \n",
    "| $x_{3}$ | $x_{1}x_{2}$             | $2$         | $x_{2}$                    | $2$     | $x_{1}$ | $1$   |\n",
    "| $x_{4}$ | $\\exp\\left(x_{3}\\right)$ | $e^{2}$     | $\\exp\\left(x_{3}\\right)$   | $e^{2}$ | $-$     | $-$   |\n",
    "| $x_{5}$ | $x_{3} + x_{4}$          | $2 + e^{2}$ | $1$                        | $1$     | $1$     | $1$   |\n",
    "\n",
    "$\\overline{x}_{5} = \\dfrac{\\partial f}{\\partial x_{5}} = 1$"
   ]
  },
  {
   "cell_type": "markdown",
   "metadata": {
    "slideshow": {
     "slide_type": "subslide"
    }
   },
   "source": [
    "![](../fig/Reverse-Example.png)\n",
    "\n",
    "| Node   | Current Value      | Numerical Value           | $\\partial_{1}$       | $\\partial_{1}$ Value  | $\\partial_{2}$ | $\\partial_{2}$ Value |\n",
    "| :---: | :----------------------------: | :-----------: | :----------------------------: | :-----------------:  | :-----------------: | :-----------------: |\n",
    "| $x_{1}$ | $x$                      | $1$         | $1$                        | $1$     | $0$     | $0$   |\n",
    "| $x_{2}$ | $y$                      | $2$         | $0$                        | $0$     | $1$     | $1$   | \n",
    "| $x_{3}$ | $x_{1}x_{2}$             | $2$         | $x_{2}$                    | $2$     | $x_{1}$ | $1$   |\n",
    "| $x_{4}$ | $\\exp\\left(x_{3}\\right)$ | $e^{2}$     | $\\exp\\left(x_{3}\\right)$   | $e^{2}$ | $-$     | $-$   |\n",
    "| $x_{5}$ | $x_{3} + x_{4}$          | $2 + e^{2}$ | $1$                        | $1$     | $1$     | $1$   |\n",
    "\n",
    "$\\overline{x}_{4} = \\dfrac{\\partial f}{\\partial x_{5}}\\dfrac{\\partial x_{5}}{\\partial x_{4}} = 1 \\cdot 1 = 1$"
   ]
  },
  {
   "cell_type": "markdown",
   "metadata": {
    "slideshow": {
     "slide_type": "subslide"
    }
   },
   "source": [
    "![](../fig/Reverse-Example.png)\n",
    "\n",
    "| Node   | Current Value      | Numerical Value           | $\\partial_{1}$       | $\\partial_{1}$ Value  | $\\partial_{2}$ | $\\partial_{2}$ Value |\n",
    "| :---: | :----------------------------: | :-----------: | :----------------------------: | :-----------------:  | :-----------------: | :-----------------: |\n",
    "| $x_{1}$ | $x$                      | $1$         | $1$                        | $1$     | $0$     | $0$   |\n",
    "| $x_{2}$ | $y$                      | $2$         | $0$                        | $0$     | $1$     | $1$   | \n",
    "| $x_{3}$ | $x_{1}x_{2}$             | $2$         | $x_{2}$                    | $2$     | $x_{1}$ | $1$   |\n",
    "| $x_{4}$ | $\\exp\\left(x_{3}\\right)$ | $e^{2}$     | $\\exp\\left(x_{3}\\right)$   | $e^{2}$ | $-$     | $-$   |\n",
    "| $x_{5}$ | $x_{3} + x_{4}$          | $2 + e^{2}$ | $1$                        | $1$     | $1$     | $1$   |\n",
    "\n",
    "$\\overline{x}_{3} = \\dfrac{\\partial f}{\\partial x_{4}}\\dfrac{\\partial x_{4}}{\\partial x_{3}} + \\dfrac{\\partial f}{\\partial x_{5}}\\dfrac{\\partial x_{5}}{\\partial x_{3}}= 1 \\cdot e^{2} + 1\\cdot 1 = 1 + e^{2}$"
   ]
  },
  {
   "cell_type": "markdown",
   "metadata": {
    "slideshow": {
     "slide_type": "subslide"
    }
   },
   "source": [
    "![](../fig/Reverse-Example.png)\n",
    "\n",
    "| Node   | Current Value      | Numerical Value           | $\\partial_{1}$       | $\\partial_{1}$ Value  | $\\partial_{2}$ | $\\partial_{2}$ Value |\n",
    "| :---: | :----------------------------: | :-----------: | :----------------------------: | :-----------------:  | :-----------------: | :-----------------: |\n",
    "| $x_{1}$ | $x$                      | $1$         | $1$                        | $1$     | $0$     | $0$   |\n",
    "| $x_{2}$ | $y$                      | $2$         | $0$                        | $0$     | $1$     | $1$   | \n",
    "| $x_{3}$ | $x_{1}x_{2}$             | $2$         | $x_{2}$                    | $2$     | $x_{1}$ | $1$   |\n",
    "| $x_{4}$ | $\\exp\\left(x_{3}\\right)$ | $e^{2}$     | $\\exp\\left(x_{3}\\right)$   | $e^{2}$ | $-$     | $-$   |\n",
    "| $x_{5}$ | $x_{3} + x_{4}$          | $2 + e^{2}$ | $1$                        | $1$     | $1$     | $1$   |\n",
    "\n",
    "$\\overline{x}_{2} = \\dfrac{\\partial f}{\\partial x_{3}}\\dfrac{\\partial x_{3}}{\\partial x_{2}} = \\left(1 + e^{2}\\right)x_{1} =  1 + e^{2} = \\dfrac{\\partial f}{\\partial y}$"
   ]
  },
  {
   "cell_type": "markdown",
   "metadata": {
    "slideshow": {
     "slide_type": "subslide"
    }
   },
   "source": [
    "![](../fig/Reverse-Example.png)\n",
    "\n",
    "| Node   | Current Value      | Numerical Value           | $\\partial_{1}$       | $\\partial_{1}$ Value  | $\\partial_{2}$ | $\\partial_{2}$ Value |\n",
    "| :---: | :----------------------------: | :-----------: | :----------------------------: | :-----------------:  | :-----------------: | :-----------------: |\n",
    "| $x_{1}$ | $x$                      | $1$         | $1$                        | $1$     | $0$     | $0$   |\n",
    "| $x_{2}$ | $y$                      | $2$         | $0$                        | $0$     | $1$     | $1$   | \n",
    "| $x_{3}$ | $x_{1}x_{2}$             | $2$         | $x_{2}$                    | $2$     | $x_{1}$ | $1$   |\n",
    "| $x_{4}$ | $\\exp\\left(x_{3}\\right)$ | $e^{2}$     | $\\exp\\left(x_{3}\\right)$   | $e^{2}$ | $-$     | $-$   |\n",
    "| $x_{5}$ | $x_{3} + x_{4}$          | $2 + e^{2}$ | $1$                        | $1$     | $1$     | $1$   |\n",
    "\n",
    "$\\overline{x}_{1} = \\dfrac{\\partial f}{\\partial x_{3}}\\dfrac{\\partial x_{3}}{\\partial x_{1}} =  \\left(1 + e^{2}\\right)x_{2} =  2 + 2e^{2} = \\dfrac{\\partial f}{\\partial x}$"
   ]
  },
  {
   "cell_type": "markdown",
   "metadata": {
    "slideshow": {
     "slide_type": "subslide"
    }
   },
   "source": [
    "### Exercise 1\n",
    "\n",
    "Consider the function $$f\\left(w_{1}, w_{2}, w_{3}, w_{4}, w_{5}\\right) = w_{1}w_{2}w_{3}w_{4}w_{5}$$\n",
    "evaluated at the point $a = \\left(2, 1, 1, 1, 1\\right)$."
   ]
  },
  {
   "cell_type": "markdown",
   "metadata": {
    "slideshow": {
     "slide_type": "subslide"
    }
   },
   "source": [
    "1. Calculate the gradient using the reverse mode.\n",
    "   * You may want to start by drawing the graph to help you visualize.\n",
    "   * Set up an evaluation table.  Note that this table can have the same columns as the example in class.\n",
    "   * Write out the reverse mode based on the evaluation table.\n",
    "2. Calculate the gradient using forward mode.\n",
    "   * You can use the same graph as in the reverse mode.\n",
    "   * Set up a forward evaluation table.  Note that this table will have more columns than the one you created for the reverse mode.\n",
    "3. For both forward and reverse mode, calculate the number of operations.\n",
    "   - **Hint:** You may count only the floating point operations (e.g. addition and multiplication).  You are not required to count memory access steps, retrievals, etc."
   ]
  },
  {
   "cell_type": "markdown",
   "metadata": {
    "slideshow": {
     "slide_type": "subslide"
    }
   },
   "source": [
    "### Observations\n",
    "* The forward and reverse modes give the same answer."
   ]
  },
  {
   "cell_type": "markdown",
   "metadata": {
    "slideshow": {
     "slide_type": "fragment"
    }
   },
   "source": [
    "* Forward mode calculation depends on number of independent variables\n",
    "   - Note:  In many applications, a function will depend on some independent variables and be *parameterized* by some other variables (e.g. $L\\left(x;\\theta\\right)$.\n",
    "   - In many optimization problems, we treat $\\theta$ as the independent variable.  It is a matter of perspective."
   ]
  },
  {
   "cell_type": "markdown",
   "metadata": {
    "slideshow": {
     "slide_type": "fragment"
    }
   },
   "source": [
    "* The reverse mode calculation does not depend on the number of independent variables."
   ]
  },
  {
   "cell_type": "markdown",
   "metadata": {
    "slideshow": {
     "slide_type": "subslide"
    }
   },
   "source": [
    "## What Reverse Mode Actually Computes\n",
    "* Recall that the forward mode actually computes the Jacobian-vector product $$Jp.$$"
   ]
  },
  {
   "cell_type": "markdown",
   "metadata": {
    "slideshow": {
     "slide_type": "fragment"
    }
   },
   "source": [
    "* We noted that the full Jacobian could be computed by choosing $m$ seed vectors where $m$ is the number of independent variables, independent of $n$, the number of functions."
   ]
  },
  {
   "cell_type": "markdown",
   "metadata": {
    "slideshow": {
     "slide_type": "subslide"
    }
   },
   "source": [
    "## What Reverse Mode Actually Computes\n",
    "\n",
    "* The reverse mode computes $$J^{T}p$$ where $J^{T}$ is the transpose of the Jacobian."
   ]
  },
  {
   "cell_type": "markdown",
   "metadata": {
    "slideshow": {
     "slide_type": "fragment"
    }
   },
   "source": [
    "* If you want the transpose of the Jacobian, this can be accomplished independent of the number of independent variables."
   ]
  },
  {
   "cell_type": "markdown",
   "metadata": {
    "slideshow": {
     "slide_type": "subslide"
    }
   },
   "source": [
    "## Connection to Backpropagation\n",
    "* Backpropagation is a special case of the reverse mode of automatic differentiation."
   ]
  },
  {
   "cell_type": "markdown",
   "metadata": {
    "slideshow": {
     "slide_type": "fragment"
    }
   },
   "source": [
    "* The special case is:\n",
    "   - The objective function is a scalar function.\n",
    "   - The objective function represents an error between the output and a true value."
   ]
  },
  {
   "cell_type": "markdown",
   "metadata": {
    "slideshow": {
     "slide_type": "subslide"
    }
   },
   "source": [
    "## Some Take-Aways\n",
    "1. Automatic differentiation can be used to compute derivatives to machine precision of functions $f:\\mathbb{R}^{m} \\to \\mathbb{R}^{n}$."
   ]
  },
  {
   "cell_type": "markdown",
   "metadata": {
    "slideshow": {
     "slide_type": "subslide"
    }
   },
   "source": [
    "## Some Take-Aways\n",
    "\n",
    "2. Forward mode is more efficient when $n\\gg m$.\n",
    "   - This corresponds to the case where the number of functions to evaluate is much greater than the number of inputs.\n",
    "   - Actually computes the Jacobian-vector product $Jp$."
   ]
  },
  {
   "cell_type": "markdown",
   "metadata": {
    "slideshow": {
     "slide_type": "subslide"
    }
   },
   "source": [
    "## Some Take-Aways\n",
    "\n",
    "3. Reverse mode is more efficient when $n\\ll m$.\n",
    "   - This corresponds to the case where the number of inputs is much greater than the number of functions.\n",
    "   - Actually computes the Jacobian-transpose-vector product $J^{T}p$."
   ]
  },
  {
   "cell_type": "markdown",
   "metadata": {
    "slideshow": {
     "slide_type": "subslide"
    }
   },
   "source": [
    "## Some Take-Aways\n",
    "\n",
    "4. Backpropagation is a special case of the reverse mode applied to scalar objective functions."
   ]
  },
  {
   "cell_type": "markdown",
   "metadata": {
    "slideshow": {
     "slide_type": "slide"
    }
   },
   "source": [
    "# Applications and Extensions"
   ]
  },
  {
   "cell_type": "markdown",
   "metadata": {
    "slideshow": {
     "slide_type": "subslide"
    }
   },
   "source": [
    "So far, you've seen the mechanics of AD and the key concepts."
   ]
  },
  {
   "cell_type": "markdown",
   "metadata": {
    "slideshow": {
     "slide_type": "fragment"
    }
   },
   "source": [
    "But there are *many* extensions and applications."
   ]
  },
  {
   "cell_type": "markdown",
   "metadata": {
    "slideshow": {
     "slide_type": "fragment"
    }
   },
   "source": [
    "We will discuss just a few."
   ]
  },
  {
   "cell_type": "markdown",
   "metadata": {
    "slideshow": {
     "slide_type": "subslide"
    }
   },
   "source": [
    "## Extensions"
   ]
  },
  {
   "cell_type": "markdown",
   "metadata": {
    "slideshow": {
     "slide_type": "fragment"
    }
   },
   "source": [
    "* Higher order derivatives and mixed derivatives.\n",
    "   - e.g. $\\nabla\\nabla f$, $\\dfrac{\\partial^{2} f}{\\partial x^{2}}$, $\\dfrac{\\partial^{2} f}{\\partial x \\partial y}$, etc.\n",
    "   - Hessians and beyond"
   ]
  },
  {
   "cell_type": "markdown",
   "metadata": {
    "slideshow": {
     "slide_type": "fragment"
    }
   },
   "source": [
    "* Efficient computation\n",
    "   - Smart graph storage (if possible)\n",
    "   - Writing parts of the graph to disk and hold others in memory\n"
   ]
  },
  {
   "cell_type": "markdown",
   "metadata": {
    "slideshow": {
     "slide_type": "fragment"
    }
   },
   "source": [
    "* Combining forward and reverse mode"
   ]
  },
  {
   "cell_type": "markdown",
   "metadata": {
    "slideshow": {
     "slide_type": "subslide"
    }
   },
   "source": [
    "* Exploiting sparsity in the Jacobian and/or Hessian"
   ]
  },
  {
   "cell_type": "markdown",
   "metadata": {
    "slideshow": {
     "slide_type": "fragment"
    }
   },
   "source": [
    "* Non-differentiable functions"
   ]
  },
  {
   "cell_type": "markdown",
   "metadata": {
    "slideshow": {
     "slide_type": "fragment"
    }
   },
   "source": [
    "* Differential programming"
   ]
  },
  {
   "cell_type": "markdown",
   "metadata": {
    "slideshow": {
     "slide_type": "subslide"
    }
   },
   "source": [
    "## Applications\n",
    "\n",
    "There are a huge number of applications for AD.  Here is a sampling of a few."
   ]
  },
  {
   "cell_type": "markdown",
   "metadata": {
    "slideshow": {
     "slide_type": "subslide"
    }
   },
   "source": [
    "### Numerical Solution of Ordinary Differential Equations\n",
    "* Numerical integration of \"stiff\" differential equations.\n",
    "* This is usually accomplished using implicit discretization methods (e.g. Backward Euler).\n",
    "* Implicit methods require the solution of a nonlinear system of equations.\n",
    "* This system can be solved with Newton's method.\n",
    "* Newton's method requires Jacobian-vector products."
   ]
  },
  {
   "cell_type": "markdown",
   "metadata": {
    "slideshow": {
     "slide_type": "subslide"
    }
   },
   "source": [
    "### Optimization of Objective Functions\n",
    "* Optimize an objective (a.k.a. loss, a.k.a. cost) function.\n",
    "* This means to tune a set of parameters.\n",
    "* Algorithms to accomplish this require derivatives of the ojective wrt the parameters.\n",
    "* There are many types of objective functions out there."
   ]
  },
  {
   "cell_type": "markdown",
   "metadata": {},
   "source": [
    "### Solution of Linear Systems\n",
    "* Many problems reduce to the solution of a linear system $Ax = b$.\n",
    "* Iterative methods are powerful algorithms for solving such problems.\n",
    "* Some iterative methods require derivative information (e.g. steepest decent, conjugate gradient, biconjugate gradient, etc.)"
   ]
  }
 ],
 "metadata": {
  "celltoolbar": "Slideshow",
  "kernelspec": {
   "display_name": "Python 3",
   "language": "python",
   "name": "python3"
  },
  "language_info": {
   "codemirror_mode": {
    "name": "ipython",
    "version": 3
   },
   "file_extension": ".py",
   "mimetype": "text/x-python",
   "name": "python",
   "nbconvert_exporter": "python",
   "pygments_lexer": "ipython3",
   "version": "3.7.4"
  }
 },
 "nbformat": 4,
 "nbformat_minor": 2
}
