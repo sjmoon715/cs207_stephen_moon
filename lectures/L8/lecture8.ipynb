{
 "cells": [
  {
   "cell_type": "markdown",
   "metadata": {
    "slideshow": {
     "slide_type": "slide"
    }
   },
   "source": [
    "# Lecture 8\n",
    "## Object Oriented Programming IV\n",
    "### Tuesday, October 1st 2019"
   ]
  },
  {
   "cell_type": "markdown",
   "metadata": {
    "slideshow": {
     "slide_type": "slide"
    }
   },
   "source": [
    "## Last Time\n",
    "* Dunder methods\n",
    "* The `Python` Data Model"
   ]
  },
  {
   "cell_type": "markdown",
   "metadata": {
    "slideshow": {
     "slide_type": "subslide"
    }
   },
   "source": [
    "## Today\n",
    "* Class methods, static methods, instance methods\n",
    "* Modules and packages\n",
    "\n",
    "If we have time...\n",
    "* \"Privacy\" in `Python`\n",
    "* More details on Polymorphism"
   ]
  },
  {
   "cell_type": "markdown",
   "metadata": {
    "slideshow": {
     "slide_type": "slide"
    }
   },
   "source": [
    "## Building out our class: instances and classmethods\n",
    "At this point, you should feel comfortable with classes, special methods, and the `python` data model.\n",
    "\n",
    "We will take a short excursion to enhance our classes using `classmethods`.  We will also see `staticmethods` and regular `instance` methods."
   ]
  },
  {
   "cell_type": "markdown",
   "metadata": {
    "slideshow": {
     "slide_type": "subslide"
    }
   },
   "source": [
    "### A Favorite Example"
   ]
  },
  {
   "cell_type": "code",
   "execution_count": 1,
   "metadata": {
    "slideshow": {
     "slide_type": "fragment"
    }
   },
   "outputs": [],
   "source": [
    "class ComplexClass():\n",
    "    def __init__(self, a, b):\n",
    "        self.real = a\n",
    "        self.imaginary = b\n",
    "        \n",
    "    @classmethod\n",
    "    def make_complex(cls, a, b):\n",
    "        return cls(a, b)\n",
    "        \n",
    "    def __repr__(self):\n",
    "        class_name = type(self).__name__\n",
    "        return \"%s(real=%r, imaginary=%r)\" % (class_name, self.real, self.imaginary)\n",
    "        \n",
    "    def __eq__(self, other):\n",
    "        return (self.real == other.real) and (self.imaginary == other.imaginary)"
   ]
  },
  {
   "cell_type": "code",
   "execution_count": 2,
   "metadata": {
    "slideshow": {
     "slide_type": "fragment"
    }
   },
   "outputs": [
    {
     "data": {
      "text/plain": [
       "ComplexClass(real=1, imaginary=2)"
      ]
     },
     "execution_count": 2,
     "metadata": {},
     "output_type": "execute_result"
    }
   ],
   "source": [
    "c1 = ComplexClass(1,2)\n",
    "c1"
   ]
  },
  {
   "cell_type": "code",
   "execution_count": 3,
   "metadata": {
    "slideshow": {
     "slide_type": "subslide"
    }
   },
   "outputs": [],
   "source": [
    "class ComplexClass():\n",
    "    def __init__(self, a, b):\n",
    "        self.real = a\n",
    "        self.imaginary = b\n",
    "        \n",
    "    @classmethod\n",
    "    def make_complex(cls, a, b):\n",
    "        return cls(a, b)\n",
    "        \n",
    "    def __repr__(self):\n",
    "        class_name = type(self).__name__\n",
    "        return \"%s(real=%r, imaginary=%r)\" % (class_name, self.real, self.imaginary)\n",
    "        \n",
    "    def __eq__(self, other):\n",
    "        return (self.real == other.real) and (self.imaginary == other.imaginary)"
   ]
  },
  {
   "cell_type": "markdown",
   "metadata": {
    "slideshow": {
     "slide_type": "fragment"
    }
   },
   "source": [
    "`make_complex` is a class method. See how its signature is different above. It is a factory to produce instances."
   ]
  },
  {
   "cell_type": "code",
   "execution_count": 4,
   "metadata": {
    "slideshow": {
     "slide_type": "subslide"
    }
   },
   "outputs": [
    {
     "data": {
      "text/plain": [
       "ComplexClass(real=1, imaginary=2)"
      ]
     },
     "execution_count": 4,
     "metadata": {},
     "output_type": "execute_result"
    }
   ],
   "source": [
    "c2 = ComplexClass.make_complex(1,2)\n",
    "c2"
   ]
  },
  {
   "cell_type": "code",
   "execution_count": 5,
   "metadata": {
    "slideshow": {
     "slide_type": "fragment"
    }
   },
   "outputs": [
    {
     "data": {
      "text/plain": [
       "True"
      ]
     },
     "execution_count": 5,
     "metadata": {},
     "output_type": "execute_result"
    }
   ],
   "source": [
    "c1 == c2"
   ]
  },
  {
   "cell_type": "markdown",
   "metadata": {
    "slideshow": {
     "slide_type": "subslide"
    }
   },
   "source": [
    "#### The take-away\n",
    "* A `classmethod` has access to the actual class, but not the instance of the class"
   ]
  },
  {
   "cell_type": "markdown",
   "metadata": {
    "slideshow": {
     "slide_type": "subslide"
    }
   },
   "source": [
    "### Static Methods, Class Methods, Instance Methods\n",
    "\n",
    "What's really going on under the hood here?"
   ]
  },
  {
   "cell_type": "code",
   "execution_count": 6,
   "metadata": {
    "slideshow": {
     "slide_type": "subslide"
    }
   },
   "outputs": [],
   "source": [
    "# From fluent python\n",
    "class Demo():\n",
    "    @classmethod\n",
    "    def klassmeth(*args): # Class methods do not have to return an instance of the class\n",
    "        return args\n",
    "    \n",
    "    @staticmethod\n",
    "    def statmeth(*args): # This is just a regular function\n",
    "        return args\n",
    "    \n",
    "    def instmeth(*args): # This is a true blue instance method\n",
    "        return args\n",
    "    "
   ]
  },
  {
   "cell_type": "code",
   "execution_count": 7,
   "metadata": {
    "slideshow": {
     "slide_type": "fragment"
    }
   },
   "outputs": [
    {
     "name": "stdout",
     "output_type": "stream",
     "text": [
      "<class 'tuple'>\n"
     ]
    },
    {
     "data": {
      "text/plain": [
       "(1, 2)"
      ]
     },
     "execution_count": 7,
     "metadata": {},
     "output_type": "execute_result"
    }
   ],
   "source": [
    "sm = Demo.statmeth(1,2)\n",
    "print(type(sm))\n",
    "sm"
   ]
  },
  {
   "cell_type": "code",
   "execution_count": 8,
   "metadata": {
    "slideshow": {
     "slide_type": "subslide"
    }
   },
   "outputs": [
    {
     "name": "stdout",
     "output_type": "stream",
     "text": [
      "<class 'tuple'>\n"
     ]
    },
    {
     "data": {
      "text/plain": [
       "(__main__.Demo, 1, 2)"
      ]
     },
     "execution_count": 8,
     "metadata": {},
     "output_type": "execute_result"
    }
   ],
   "source": [
    "cm = Demo.klassmeth(1,2)\n",
    "print(type(cm))\n",
    "cm"
   ]
  },
  {
   "cell_type": "code",
   "execution_count": 9,
   "metadata": {
    "scrolled": true,
    "slideshow": {
     "slide_type": "fragment"
    }
   },
   "outputs": [
    {
     "data": {
      "text/plain": [
       "(<__main__.Demo at 0x111affa90>, 1, 2)"
      ]
     },
     "execution_count": 9,
     "metadata": {},
     "output_type": "execute_result"
    }
   ],
   "source": [
    "ademo = Demo()\n",
    "Demo.instmeth(ademo, 1,2)"
   ]
  },
  {
   "cell_type": "code",
   "execution_count": 10,
   "metadata": {
    "slideshow": {
     "slide_type": "fragment"
    }
   },
   "outputs": [
    {
     "data": {
      "text/plain": [
       "(<__main__.Demo at 0x111affa90>, 1, 2)"
      ]
     },
     "execution_count": 10,
     "metadata": {},
     "output_type": "execute_result"
    }
   ],
   "source": [
    "ademo.instmeth(1,2)"
   ]
  },
  {
   "cell_type": "markdown",
   "metadata": {
    "slideshow": {
     "slide_type": "fragment"
    }
   },
   "source": [
    "[PythonTutor Example](https://goo.gl/Q9UNK2)"
   ]
  },
  {
   "cell_type": "markdown",
   "metadata": {
    "slideshow": {
     "slide_type": "subslide"
    }
   },
   "source": [
    "### Class variables and instance variables\n",
    "\n"
   ]
  },
  {
   "cell_type": "code",
   "execution_count": 11,
   "metadata": {
    "scrolled": true,
    "slideshow": {
     "slide_type": "fragment"
    }
   },
   "outputs": [
    {
     "name": "stdout",
     "output_type": "stream",
     "text": [
      "1 1\n",
      "1 2\n"
     ]
    }
   ],
   "source": [
    "class Demo2():\n",
    "    classvar = 1\n",
    "      \n",
    "ademo2 = Demo2()\n",
    "print(Demo2.classvar, ademo2.classvar)\n",
    "\n",
    "ademo2.classvar = 2 # Different from the classvar above\n",
    "print(Demo2.classvar, ademo2.classvar)"
   ]
  },
  {
   "cell_type": "markdown",
   "metadata": {
    "slideshow": {
     "slide_type": "fragment"
    }
   },
   "source": [
    "[PythonTutor Example](https://goo.gl/3HnEGZ)"
   ]
  },
  {
   "cell_type": "markdown",
   "metadata": {
    "slideshow": {
     "slide_type": "fragment"
    }
   },
   "source": [
    "[DRY Principle](https://en.wikipedia.org/wiki/Don%27t_repeat_yourself)"
   ]
  },
  {
   "cell_type": "markdown",
   "metadata": {
    "slideshow": {
     "slide_type": "subslide"
    }
   },
   "source": [
    "## Practical Comments on class methods\n",
    "* Act as a factory to produce objects that are configured the way you want.\n",
    "    - This can make life easier:  Instead of defining a new object every time, just get a pre-defined one.\n",
    "    - See [Factory Method Design Pattern](https://en.wikipedia.org/wiki/Factory_method_pattern)\n",
    "* Pre-define commonly used objects.\n",
    "* These objects all still use the same constructor."
   ]
  },
  {
   "cell_type": "markdown",
   "metadata": {
    "slideshow": {
     "slide_type": "subslide"
    }
   },
   "source": [
    "## Practical Comments on static methods\n",
    "* Python doesn't need to instantiate a bound method for each object.\n",
    "    - This saves on cost.\n",
    "* Might improve code readability.\n",
    "    - You know right away that the method doesn't depend on the state."
   ]
  },
  {
   "cell_type": "markdown",
   "metadata": {
    "slideshow": {
     "slide_type": "slide"
    }
   },
   "source": [
    "## Code and Data for objects"
   ]
  },
  {
   "cell_type": "code",
   "execution_count": 12,
   "metadata": {
    "slideshow": {
     "slide_type": "fragment"
    }
   },
   "outputs": [],
   "source": [
    "class A():\n",
    "    \n",
    "    def __init__(self, x):\n",
    "        self.x = x\n",
    "        \n",
    "    def doit(self, y):\n",
    "        return self.x + y"
   ]
  },
  {
   "cell_type": "markdown",
   "metadata": {
    "slideshow": {
     "slide_type": "fragment"
    }
   },
   "source": [
    "`dir` for classes contains the names of its attributes and recursively of the attributes of its bases."
   ]
  },
  {
   "cell_type": "code",
   "execution_count": 13,
   "metadata": {
    "slideshow": {
     "slide_type": "subslide"
    }
   },
   "outputs": [
    {
     "data": {
      "text/plain": [
       "['__class__',\n",
       " '__delattr__',\n",
       " '__dict__',\n",
       " '__dir__',\n",
       " '__doc__',\n",
       " '__eq__',\n",
       " '__format__',\n",
       " '__ge__',\n",
       " '__getattribute__',\n",
       " '__gt__',\n",
       " '__hash__',\n",
       " '__init__',\n",
       " '__init_subclass__',\n",
       " '__le__',\n",
       " '__lt__',\n",
       " '__module__',\n",
       " '__ne__',\n",
       " '__new__',\n",
       " '__reduce__',\n",
       " '__reduce_ex__',\n",
       " '__repr__',\n",
       " '__setattr__',\n",
       " '__sizeof__',\n",
       " '__str__',\n",
       " '__subclasshook__',\n",
       " '__weakref__',\n",
       " 'doit']"
      ]
     },
     "execution_count": 13,
     "metadata": {},
     "output_type": "execute_result"
    }
   ],
   "source": [
    "dir(A)"
   ]
  },
  {
   "cell_type": "markdown",
   "metadata": {
    "slideshow": {
     "slide_type": "subslide"
    }
   },
   "source": [
    "`vars` on an object gets the contents of a special attribute called `__dict__`."
   ]
  },
  {
   "cell_type": "code",
   "execution_count": 14,
   "metadata": {
    "slideshow": {
     "slide_type": "fragment"
    }
   },
   "outputs": [
    {
     "data": {
      "text/plain": [
       "mappingproxy({'__module__': '__main__',\n",
       "              '__init__': <function __main__.A.__init__(self, x)>,\n",
       "              'doit': <function __main__.A.doit(self, y)>,\n",
       "              '__dict__': <attribute '__dict__' of 'A' objects>,\n",
       "              '__weakref__': <attribute '__weakref__' of 'A' objects>,\n",
       "              '__doc__': None})"
      ]
     },
     "execution_count": 14,
     "metadata": {},
     "output_type": "execute_result"
    }
   ],
   "source": [
    "vars(A)"
   ]
  },
  {
   "cell_type": "markdown",
   "metadata": {
    "slideshow": {
     "slide_type": "subslide"
    }
   },
   "source": [
    "Let's make an instance of `A`."
   ]
  },
  {
   "cell_type": "code",
   "execution_count": 15,
   "metadata": {
    "slideshow": {
     "slide_type": "fragment"
    }
   },
   "outputs": [],
   "source": [
    "a = A(5)"
   ]
  },
  {
   "cell_type": "markdown",
   "metadata": {
    "slideshow": {
     "slide_type": "subslide"
    }
   },
   "source": [
    "`dir` again:"
   ]
  },
  {
   "cell_type": "code",
   "execution_count": 16,
   "metadata": {
    "slideshow": {
     "slide_type": "fragment"
    }
   },
   "outputs": [
    {
     "data": {
      "text/plain": [
       "['__class__',\n",
       " '__delattr__',\n",
       " '__dict__',\n",
       " '__dir__',\n",
       " '__doc__',\n",
       " '__eq__',\n",
       " '__format__',\n",
       " '__ge__',\n",
       " '__getattribute__',\n",
       " '__gt__',\n",
       " '__hash__',\n",
       " '__init__',\n",
       " '__init_subclass__',\n",
       " '__le__',\n",
       " '__lt__',\n",
       " '__module__',\n",
       " '__ne__',\n",
       " '__new__',\n",
       " '__reduce__',\n",
       " '__reduce_ex__',\n",
       " '__repr__',\n",
       " '__setattr__',\n",
       " '__sizeof__',\n",
       " '__str__',\n",
       " '__subclasshook__',\n",
       " '__weakref__',\n",
       " 'doit',\n",
       " 'x']"
      ]
     },
     "execution_count": 16,
     "metadata": {},
     "output_type": "execute_result"
    }
   ],
   "source": [
    "dir(a)"
   ]
  },
  {
   "cell_type": "markdown",
   "metadata": {
    "slideshow": {
     "slide_type": "subslide"
    }
   },
   "source": [
    "`vars` again:"
   ]
  },
  {
   "cell_type": "code",
   "execution_count": 17,
   "metadata": {
    "slideshow": {
     "slide_type": "fragment"
    }
   },
   "outputs": [
    {
     "data": {
      "text/plain": [
       "{'x': 5}"
      ]
     },
     "execution_count": 17,
     "metadata": {},
     "output_type": "execute_result"
    }
   ],
   "source": [
    "vars(a)"
   ]
  },
  {
   "cell_type": "markdown",
   "metadata": {
    "slideshow": {
     "slide_type": "subslide"
    }
   },
   "source": [
    "There is some kind of a table implementation for Python objects (it's written in `C`). "
   ]
  },
  {
   "cell_type": "markdown",
   "metadata": {
    "slideshow": {
     "slide_type": "fragment"
    }
   },
   "source": [
    "This implementation allows us to look for attributes and methods, and if not found look elsewhere. "
   ]
  },
  {
   "cell_type": "markdown",
   "metadata": {
    "slideshow": {
     "slide_type": "fragment"
    }
   },
   "source": [
    "The exact details are complex, using descriptors and other lookups, and we'll tackle them in more detail later (hopefully). "
   ]
  },
  {
   "cell_type": "markdown",
   "metadata": {
    "slideshow": {
     "slide_type": "fragment"
    }
   },
   "source": [
    "But currently it suffices for us to know that lookup first happens in the instance table, followed by the class table (methods) and if not there somewhere up in the inheritance hierarchy."
   ]
  },
  {
   "cell_type": "code",
   "execution_count": 18,
   "metadata": {
    "slideshow": {
     "slide_type": "skip"
    }
   },
   "outputs": [
    {
     "data": {
      "text/plain": [
       "(type, __main__.A)"
      ]
     },
     "execution_count": 18,
     "metadata": {},
     "output_type": "execute_result"
    }
   ],
   "source": [
    "A.__class__, a.__class__"
   ]
  },
  {
   "cell_type": "markdown",
   "metadata": {
    "slideshow": {
     "slide_type": "slide"
    }
   },
   "source": [
    "# Creating Packages from `Python` Code"
   ]
  },
  {
   "cell_type": "markdown",
   "metadata": {
    "slideshow": {
     "slide_type": "subslide"
    }
   },
   "source": [
    "## Module Recap\n",
    "* Import a module with the `import` statement\n",
    "  ```python\n",
    "     import mymod\n",
    "  ```"
   ]
  },
  {
   "cell_type": "markdown",
   "metadata": {
    "slideshow": {
     "slide_type": "subslide"
    }
   },
   "source": [
    "Here's how `Python` searches for a module once it's imported:\n",
    "  1. The interpreter searches for a built-in module with that name.\n",
    "  2. If no built-in module exists with that name, then the interpreter searches for the name in the list of directories in the `sys.path` variable.\n",
    "  3. If the requested name can't be found, an `ImportError` exception is thrown."
   ]
  },
  {
   "cell_type": "markdown",
   "metadata": {
    "slideshow": {
     "slide_type": "subslide"
    }
   },
   "source": [
    "## The Many Ways to Import\n",
    "Suppose your module contains some methods called `myf1`, `myf2`, and so on.\n",
    "\n",
    "There are a variety of ways to import the module and its methods.  Here are a few along with their uses:"
   ]
  },
  {
   "cell_type": "markdown",
   "metadata": {
    "slideshow": {
     "slide_type": "subslide"
    }
   },
   "source": [
    "```python\n",
    "import mymod as new_name # rename mymod\n",
    "new_name.myf1() # access myf1() method in mymod via new_name\n",
    "```"
   ]
  },
  {
   "cell_type": "markdown",
   "metadata": {
    "slideshow": {
     "slide_type": "fragment"
    }
   },
   "source": [
    "```python\n",
    "from mymod import myf1 # Just import myf1() from mymod\n",
    "myf1() # Direct use\n",
    "```"
   ]
  },
  {
   "cell_type": "markdown",
   "metadata": {
    "slideshow": {
     "slide_type": "fragment"
    }
   },
   "source": [
    "```python\n",
    "from mymod import myf1 as new_f # Import myf1 from mymod and rename\n",
    "new_f() # Direct use\n",
    "```"
   ]
  },
  {
   "cell_type": "markdown",
   "metadata": {
    "slideshow": {
     "slide_type": "subslide"
    }
   },
   "source": [
    "```python\n",
    "from mymod import * # Make all methods and objects in mymod directly accessible!\n",
    "myf2()              # (Except for objects with leading underscores)\n",
    "```"
   ]
  },
  {
   "cell_type": "markdown",
   "metadata": {
    "slideshow": {
     "slide_type": "subslide"
    }
   },
   "source": [
    "## Comments on Importing\n",
    "* Generally a very bad idea to do `from mymod import *`.  Can lead to name clashes!\n",
    "* `from mymod import myf1` is also dangerous if you're not careful."
   ]
  },
  {
   "cell_type": "markdown",
   "metadata": {
    "slideshow": {
     "slide_type": "fragment"
    }
   },
   "source": [
    "* **Recommendation:**  Just do `import mymod` or `import mymod as new_name` unless you have a very good reason for doing otherwise."
   ]
  },
  {
   "cell_type": "markdown",
   "metadata": {
    "slideshow": {
     "slide_type": "subslide"
    }
   },
   "source": [
    "Where to put the `import` statements?  A common convention is:\n",
    "\n",
    "* After the module's documentation.\n",
    "\n",
    "What order to import libraries?\n",
    "\n",
    "* First import standard library modules.\n",
    "* Then import third-party library modules.\n",
    "* Then import your own modules."
   ]
  },
  {
   "cell_type": "markdown",
   "metadata": {
    "slideshow": {
     "slide_type": "subslide"
    }
   },
   "source": [
    "## Modules and Packages\n",
    "* So far, you made a toy module in your homework."
   ]
  },
  {
   "cell_type": "markdown",
   "metadata": {
    "slideshow": {
     "slide_type": "fragment"
    }
   },
   "source": [
    "* For larger projects, you will have multiple modules."
   ]
  },
  {
   "cell_type": "markdown",
   "metadata": {
    "slideshow": {
     "slide_type": "fragment"
    }
   },
   "source": [
    "* A collection of multiple modules is called a package."
   ]
  },
  {
   "cell_type": "markdown",
   "metadata": {
    "slideshow": {
     "slide_type": "subslide"
    }
   },
   "source": [
    "### Why multiple modules?\n",
    "Having multiple modules helps with code organization.\n",
    "```\n",
    "physics_code/\n",
    "             __init__.py  \n",
    "             preprocessing/\n",
    "                           __init__.py\n",
    "                           parse_xml_inputs.py\n",
    "                           parse_txt_inputs.py\n",
    "                           ...\n",
    "             solvers/\n",
    "                     __init__.py\n",
    "                     time_integrators.py\n",
    "                     discretization.py\n",
    "                     linear_solvers.py\n",
    "                     ...\n",
    "             postprocessing/\n",
    "                            __init__.py\n",
    "                            write_hdf5.py\n",
    "                            write_txt.py\n",
    "                            ...\n",
    "                            stat_utils/\n",
    "                                       __init__.py\n",
    "                                       ...\n",
    "                            viz/\n",
    "                                __init__.py\n",
    "                                line_plots.py\n",
    "                                ...\n",
    "             tests/\n",
    "                   ...\n",
    "```"
   ]
  },
  {
   "cell_type": "markdown",
   "metadata": {
    "slideshow": {
     "slide_type": "subslide"
    }
   },
   "source": [
    "## What is `__init__.py`?"
   ]
  },
  {
   "cell_type": "markdown",
   "metadata": {
    "slideshow": {
     "slide_type": "fragment"
    }
   },
   "source": [
    "* Used for package initialization-time actions."
   ]
  },
  {
   "cell_type": "markdown",
   "metadata": {
    "slideshow": {
     "slide_type": "fragment"
    }
   },
   "source": [
    "* Generates a module namespace for a directory.\n",
    "   - In Python 3.3+, empty `__init__.py` is not required:  [Packages](https://docs.python.org/3/reference/import.html#packages)\n",
    "   - Still use for package initialization"
   ]
  },
  {
   "cell_type": "markdown",
   "metadata": {
    "slideshow": {
     "slide_type": "fragment"
    }
   },
   "source": [
    "* Implements the `from *` behavior.\n",
    "  - This is done using `__all__` lists.\n",
    "  - e.g. include the line `__all__ = [\"mod1\", \"mod2\", ..., \"modN\"]`"
   ]
  },
  {
   "cell_type": "markdown",
   "metadata": {
    "slideshow": {
     "slide_type": "subslide"
    }
   },
   "source": [
    "### More Practical Comments on `__init__.py`\n",
    "* Empty `__init__.py` files no longer necessary"
   ]
  },
  {
   "cell_type": "markdown",
   "metadata": {
    "slideshow": {
     "slide_type": "fragment"
    }
   },
   "source": [
    "* They help prevent directories with common names from hiding true modules"
   ]
  },
  {
   "cell_type": "markdown",
   "metadata": {
    "slideshow": {
     "slide_type": "fragment"
    }
   },
   "source": [
    "* The first time `Python` imports through a directory, it runs the code in `__init__.py`."
   ]
  },
  {
   "cell_type": "markdown",
   "metadata": {
    "slideshow": {
     "slide_type": "subslide"
    }
   },
   "source": [
    "## Working With Packages\n",
    "* Once you have your directory structure set up (with the `__init_.py` files), you are ready to use the package."
   ]
  },
  {
   "cell_type": "markdown",
   "metadata": {
    "slideshow": {
     "slide_type": "subslide"
    }
   },
   "source": [
    "```\n",
    "dir\\\n",
    "     driver.py\n",
    "     package\\\n",
    "             __init__.py\n",
    "             subdir1\\\n",
    "                     __init__.py\n",
    "                     s1mod1.py\n",
    "                     s1mod2.py\n",
    "             subdir2\\\n",
    "                     __init__.py\n",
    "                     s2mod1.py\n",
    "                     s2mod2.py\n",
    "```"
   ]
  },
  {
   "cell_type": "markdown",
   "metadata": {
    "slideshow": {
     "slide_type": "fragment"
    }
   },
   "source": [
    "```python\n",
    "# driver.py:  can make use of the package by simple imports.\n",
    "import package.subdir1.s1mod1.py as s1mod1\n",
    "s1mod1.method()\n",
    "...\n",
    "```"
   ]
  },
  {
   "cell_type": "markdown",
   "metadata": {
    "slideshow": {
     "slide_type": "subslide"
    }
   },
   "source": [
    "### Notes on `__name__`\n",
    "* You may have seen the code snippet:\n",
    "```python\n",
    "if __name__ == \"__main__\":\n",
    "    # Do some things\n",
    "```\n",
    "* The variable `__name__` is created whenever a `.py` file is run and is set to the string `\"__main__\"`.\n",
    "* However, when a module is imported, `__name__` is set to the module's name.\n",
    "* Hence, if the module is not being run as a `Python` script, the `if` statement will not be executed."
   ]
  },
  {
   "cell_type": "markdown",
   "metadata": {
    "slideshow": {
     "slide_type": "subslide"
    }
   },
   "source": [
    "### Additional Information\n",
    "As with most things `Python`, you can simply consult the excellent documentation:  [`Python` Modules](https://docs.python.org/3/tutorial/modules.html).\n",
    "* Absolute vs. Relative imports\n",
    "* Compiled `Python` files"
   ]
  },
  {
   "cell_type": "markdown",
   "metadata": {
    "slideshow": {
     "slide_type": "subslide"
    }
   },
   "source": [
    "## Illustrative Example\n",
    "Consider the following directory structure:\n",
    "```\n",
    "dir1\\\n",
    "     __init__.py\n",
    "     dir2/\n",
    "          __init__.py\n",
    "          mymod.py\n",
    "```"
   ]
  },
  {
   "cell_type": "markdown",
   "metadata": {
    "slideshow": {
     "slide_type": "subslide"
    }
   },
   "source": [
    "Here is what is in each file:\n",
    "\n",
    "```python\n",
    "# dir1/__init__.py\n",
    "print(\"Initializing dir1/\")\n",
    "```\n",
    "\n",
    "```python\n",
    "# dir2/__init__.py\n",
    "print(\"Initializing dir2/\")\n",
    "```\n",
    "\n",
    "```python\n",
    "# dir2/mymod.py\n",
    "my_name = \"David\"\n",
    "```"
   ]
  },
  {
   "cell_type": "markdown",
   "metadata": {
    "slideshow": {
     "slide_type": "subslide"
    }
   },
   "source": [
    "### Outputs\n",
    "* If I work from the command line in the container of `dir1`, I can see various things happen.\n",
    "\n",
    "```\n",
    ">>> import dir1.dir2.mymod\n",
    "Initializing dir1/\n",
    "Initializing dir2/\n",
    ">>> dir1.dir2.mymod.my_name\n",
    "'David'\n",
    ">>> import dir1.dir2.mymod as mod\n",
    ">>> mod.my_name\n",
    "'David'\n",
    "```"
   ]
  },
  {
   "cell_type": "markdown",
   "metadata": {
    "slideshow": {
     "slide_type": "subslide"
    }
   },
   "source": [
    "### Some Practical Comments\n",
    "* It's annoying to write all those paths manually.\n",
    "* You can make the functions and classes available in `__init__.py` and then use the direct import statement"
   ]
  },
  {
   "cell_type": "markdown",
   "metadata": {
    "slideshow": {
     "slide_type": "subslide"
    }
   },
   "source": [
    "Consider the directory structure:\n",
    "```\n",
    "example.py\n",
    "dir1\\\n",
    "     __init__.py\n",
    "     mymod.py\n",
    "```"
   ]
  },
  {
   "cell_type": "markdown",
   "metadata": {
    "slideshow": {
     "slide_type": "subslide"
    }
   },
   "source": [
    "Now the import can be achieved with:\n",
    "```python\n",
    "# __init__.py\n",
    "from .mymod import myclass\n",
    "from .mymod import myfunc\n",
    "```\n",
    "```python\n",
    "# example.py\n",
    "import package\n",
    "C = package.myclass()\n",
    "```"
   ]
  },
  {
   "cell_type": "markdown",
   "metadata": {
    "slideshow": {
     "slide_type": "subslide"
    }
   },
   "source": [
    "## Creating and Distributing Packages\n",
    "At this point, you know how to create packages in `Python` and the basics of how things fit together."
   ]
  },
  {
   "cell_type": "markdown",
   "metadata": {
    "slideshow": {
     "slide_type": "fragment"
    }
   },
   "source": [
    "Ultimately, you want to be able to distribute your package to other people."
   ]
  },
  {
   "cell_type": "markdown",
   "metadata": {
    "slideshow": {
     "slide_type": "fragment"
    }
   },
   "source": [
    "There are a number of ways to do this...brace yourself."
   ]
  },
  {
   "cell_type": "markdown",
   "metadata": {
    "slideshow": {
     "slide_type": "subslide"
    }
   },
   "source": [
    "* [PyScaffold](https://pypi.org/project/PyScaffold/)\n",
    "  - It sets up the entire infrastructure for you.\n",
    "  - That's great, but you might not understand all the details.\n",
    "* [Packaging and Distributing Projects](https://packaging.python.org/tutorials/distributing-packages/)\n",
    "  - Fantastic documentation covering the meaning of everything.\n",
    "* [How To Package Your Python Code](http://python-packaging.readthedocs.io/en/latest/index.html)\n",
    "  - Excellent tutorial on packaging.\n",
    "* [Tensor Basis Neural Network](https://github.com/tbnn/tbnn)\n",
    "  - Easy-to-follow real world example.\n",
    "* [How to package a python application to make it pip-installable](https://marthall.github.io/blog/how-to-package-a-python-app/)\n",
    "  - Bare-bones example.\n",
    "* [Submitting a Python package with GitHub and PyPI](http://sherifsoliman.com/2016/09/30/Python-package-with-GitHub-PyPI/)\n",
    "  - Slightly out-of-date, but still useful."
   ]
  },
  {
   "cell_type": "markdown",
   "metadata": {
    "slideshow": {
     "slide_type": "subslide"
    }
   },
   "source": [
    "### There Are So Many Options!\n",
    "* As you can see, you have many options on how to set up and distribute your package."
   ]
  },
  {
   "cell_type": "markdown",
   "metadata": {
    "slideshow": {
     "slide_type": "fragment"
    }
   },
   "source": [
    "* I will give you broad freedom in how you do this, but your project *must* be easily installable."
   ]
  },
  {
   "cell_type": "markdown",
   "metadata": {
    "slideshow": {
     "slide_type": "subslide"
    }
   },
   "source": [
    "#### What does \"easiliy installable\" mean?\n",
    "* Using `pip` is great!  This would be the easiest for the user.\n",
    "* You are also welcome to host your project on `GitHub` and have the user manually install and test with `setup.py`.\n",
    "* Either way, your package should be installable *and* the user should be able to run the tests."
   ]
  },
  {
   "cell_type": "markdown",
   "metadata": {
    "slideshow": {
     "slide_type": "slide"
    }
   },
   "source": [
    "# Privacy in Python\n",
    "* `Python` does not have private names\n",
    "* It can \"localize\" some names in classes \n",
    "* This localization is handled by \"name mangling\"\n",
    "* **Name mangling does not prevent access by code outside the class!**\n",
    "* Name mangling is intended to help avoid namespace collisions\n",
    "\n",
    "Therefore, we say that `Python` has the notion of *pseudoprivate* names."
   ]
  },
  {
   "cell_type": "markdown",
   "metadata": {
    "slideshow": {
     "slide_type": "subslide"
    }
   },
   "source": [
    "## Pseudoprivacy and Name Mangling\n",
    "Names inside a class that begin with two underscores are expanded to include the name of the enclosing class"
   ]
  },
  {
   "cell_type": "markdown",
   "metadata": {
    "slideshow": {
     "slide_type": "fragment"
    }
   },
   "source": [
    "For example, suppose you have a class called **`Universes`** and a name in that class called **`__our_universe`**."
   ]
  },
  {
   "cell_type": "markdown",
   "metadata": {
    "slideshow": {
     "slide_type": "fragment"
    }
   },
   "source": [
    "`Python` changes the name **`__our_universe`** to **`_Universes__our_universe`**."
   ]
  },
  {
   "cell_type": "markdown",
   "metadata": {
    "slideshow": {
     "slide_type": "subslide"
    }
   },
   "source": [
    "Now if there is another class in the hierarchy containing an attribute name **`our_universe`** then the two names will not clash."
   ]
  },
  {
   "cell_type": "markdown",
   "metadata": {
    "slideshow": {
     "slide_type": "fragment"
    }
   },
   "source": [
    "If you know the name of the enclosing class, you can still access the \"private\" attributes."
   ]
  },
  {
   "cell_type": "markdown",
   "metadata": {
    "slideshow": {
     "slide_type": "subslide"
    }
   },
   "source": [
    "Some details:  [Private Variables](https://docs.python.org/3/tutorial/classes.html?highlight=name%20mangling#tut-private).\n",
    "\n",
    "**A note on single underscores:**\n",
    ">  a name prefixed with an underscore (e.g. _spam) should be treated as a non-public part of the API (whether it is a function, a method or a data member)."
   ]
  }
 ],
 "metadata": {
  "celltoolbar": "Slideshow",
  "kernelspec": {
   "display_name": "Python 3",
   "language": "python",
   "name": "python3"
  },
  "language_info": {
   "codemirror_mode": {
    "name": "ipython",
    "version": 3
   },
   "file_extension": ".py",
   "mimetype": "text/x-python",
   "name": "python",
   "nbconvert_exporter": "python",
   "pygments_lexer": "ipython3",
   "version": "3.6.7"
  }
 },
 "nbformat": 4,
 "nbformat_minor": 1
}
