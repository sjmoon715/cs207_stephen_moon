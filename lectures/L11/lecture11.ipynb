{
 "cells": [
  {
   "cell_type": "markdown",
   "metadata": {
    "slideshow": {
     "slide_type": "slide"
    }
   },
   "source": [
    "# Lecture 11\n",
    "## Thursday, October 10th 2019\n",
    "### Automatic Differentiation:  The Forward Mode"
   ]
  },
  {
   "cell_type": "markdown",
   "metadata": {
    "slideshow": {
     "slide_type": "subslide"
    }
   },
   "source": [
    "#### References\n",
    "* [A Hitchhiker’s Guide to Automatic Differentiation](https://link.springer.com/article/10.1007/s11075-015-0067-6)\n",
    "* Griewank, A. and Walther, A., 2008. Evaluating derivatives: principles and techniques of algorithmic differentiation (Vol. 105). Siam.\n",
    "* Nocedal, J. and Wright, S., 2001. Numerical Optimization, Second Edition. Springer."
   ]
  },
  {
   "cell_type": "code",
   "execution_count": 1,
   "metadata": {
    "slideshow": {
     "slide_type": "slide"
    }
   },
   "outputs": [],
   "source": [
    "# Load libraries that we'll need\n",
    "import matplotlib.pyplot as plt\n",
    "import numpy as np\n",
    "%matplotlib notebook\n",
    "# or inline\n",
    "\n",
    "def f(x):\n",
    "    # Hard-coded f(x)\n",
    "    return x - np.exp(-2.0 * np.sin(4.0*x) * np.sin(4.0*x))\n",
    "\n",
    "def dfdx(x):\n",
    "    # Hard-coded \"Jacobian matrix\" of f(x)\n",
    "    return 1.0 + 16.0 * np.exp(-2.0 * np.sin(4.0*x) * np.sin(4.0*x)) * np.sin(4.0*x) * np.cos(4.0*x)\n",
    "\n",
    "def dfdx_h(x, epsilon):\n",
    "    return (f(x + epsilon) - f(x)) / epsilon"
   ]
  },
  {
   "cell_type": "markdown",
   "metadata": {
    "slideshow": {
     "slide_type": "subslide"
    }
   },
   "source": [
    "# Recap\n",
    "Last time:\n",
    "* The basics of AD\n",
    "  - The computational graph\n",
    "  - Evaluation trace\n",
    "  - Computing derivatives of a function of one variable using the forward mode\n",
    "  - Computing derivatives of a function of two variables using the forward mode\n",
    "  - The Jacobian in forward mode\n",
    "  - What the forward mode actually computes"
   ]
  },
  {
   "cell_type": "markdown",
   "metadata": {
    "slideshow": {
     "slide_type": "subslide"
    }
   },
   "source": [
    "## Today\n",
    "\n",
    "- Dual numbers\n",
    "- Towards implementation"
   ]
  },
  {
   "cell_type": "markdown",
   "metadata": {
    "slideshow": {
     "slide_type": "slide"
    }
   },
   "source": [
    "# Automatic Differentiation and Dual Numbers\n",
    "A dual number is an extension of the real numbers.  Written out, the form looks similar to a complex number."
   ]
  },
  {
   "cell_type": "markdown",
   "metadata": {
    "slideshow": {
     "slide_type": "subslide"
    }
   },
   "source": [
    "## Review of Complex Numbers\n",
    "Recall that a complex number has the form $$z = a + ib$$ where we *define* the number $i$ so that $i^{2} = -1$."
   ]
  },
  {
   "cell_type": "markdown",
   "metadata": {
    "slideshow": {
     "slide_type": "fragment"
    }
   },
   "source": [
    "No real number has this property but it is a useful property for a number to have.  Hence the introduction of complex numbers."
   ]
  },
  {
   "cell_type": "markdown",
   "metadata": {
    "slideshow": {
     "slide_type": "fragment"
    }
   },
   "source": [
    "Visually, you can think of a real number as a number lying on a straight line.  Then, we \"extend\" the real line \"up\".  The new axis is called the *imaginary* axis."
   ]
  },
  {
   "cell_type": "markdown",
   "metadata": {
    "slideshow": {
     "slide_type": "subslide"
    }
   },
   "source": [
    "Complex numbers have several properties that we can use.\n",
    "* Complex conjugate: $z^{*} = a - ib$.\n",
    "* Magnitude of a complex number: $\\left|z\\right|^{2} = zz^{*} = \\left(a+ib\\right)\\left(a-ib\\right) = a^{2} + b^{2}$.\n",
    "* Polar form: $z = \\left|z\\right|\\exp\\left(i\\theta\\right)$ where $\\displaystyle \\theta = \\tan^{-1}\\left(\\dfrac{b}{a}\\right)$."
   ]
  },
  {
   "cell_type": "markdown",
   "metadata": {
    "slideshow": {
     "slide_type": "subslide"
    }
   },
   "source": [
    "## Towards Dual Numbers\n",
    "A dual number has a real part and a dual part.  We write $$z = a + \\epsilon b$$ and refer to $b$ as the dual part."
   ]
  },
  {
   "cell_type": "markdown",
   "metadata": {
    "slideshow": {
     "slide_type": "fragment"
    }
   },
   "source": [
    "We *define* the number $\\epsilon$ so that $\\epsilon^{2} = 0$."
   ]
  },
  {
   "cell_type": "markdown",
   "metadata": {
    "slideshow": {
     "slide_type": "fragment"
    }
   },
   "source": [
    "**This does not mean that $\\epsilon$ is zero!**  $\\epsilon$ is not a real number."
   ]
  },
  {
   "cell_type": "markdown",
   "metadata": {
    "slideshow": {
     "slide_type": "subslide"
    }
   },
   "source": [
    "#### Some properties of dual numbers:\n",
    "* Conjugate:  $z^{*} = a - \\epsilon b$.\n",
    "* Magnitude: $\\left|z\\right|^{2} = zz^{*} = \\left(a+\\epsilon b\\right)\\left(a-\\epsilon b\\right) = a^{2}$.\n",
    "* Polar form: $z = a\\left(1 + \\dfrac{b}{a}\\right)$."
   ]
  },
  {
   "cell_type": "markdown",
   "metadata": {
    "slideshow": {
     "slide_type": "subslide"
    }
   },
   "source": [
    "### Example\n",
    "Recall that the derivative of $y=x^{2}$ is $y^{\\prime} = 2x$."
   ]
  },
  {
   "cell_type": "markdown",
   "metadata": {
    "slideshow": {
     "slide_type": "fragment"
    }
   },
   "source": [
    "Now if we extend $x$ so that it has a real part and a dual part ($x\\leftarrow a + \\epsilon b$) and evaluate $y$ we have\n",
    "\\begin{align}\n",
    "  y &= \\left(a + \\epsilon b\\right)^{2} \\\\\n",
    "    &= a^{2} + 2ab\\epsilon + \\underbrace{b^{2}\\epsilon^{2}}_{=0} \\\\\n",
    "    &= a^{2} + 2ab\\epsilon.\n",
    "\\end{align}"
   ]
  },
  {
   "cell_type": "markdown",
   "metadata": {
    "slideshow": {
     "slide_type": "subslide"
    }
   },
   "source": [
    "#### Notice that the dual part contains the derivative of our function evaluated at $a$!!"
   ]
  },
  {
   "cell_type": "markdown",
   "metadata": {
    "slideshow": {
     "slide_type": "subslide"
    }
   },
   "source": [
    "### Example\n",
    "Evaluate $y = \\sin\\left(x\\right)$ when $x\\leftarrow a + \\epsilon b$.\n",
    "\n",
    "We have\n",
    "\\begin{align}\n",
    "  y & = \\sin\\left(a + \\epsilon b\\right) \\\\\n",
    "    & = \\sin\\left(a\\right)\\cos\\left(\\epsilon b\\right) + \\cos\\left(a\\right)\\sin\\left(\\epsilon b\\right).\n",
    "\\end{align}"
   ]
  },
  {
   "cell_type": "markdown",
   "metadata": {
    "slideshow": {
     "slide_type": "subslide"
    }
   },
   "source": [
    "Expanding $\\cos$ and $\\sin$ in their Taylor series gives \n",
    "\\begin{align}\n",
    "  \\sin\\left(\\epsilon b\\right) &= \\sum_{n=0}^{\\infty}{\\left(-1\\right)^{n}\\dfrac{\\left(\\epsilon b\\right)^{2n+1}}{\\left(2n+1\\right)!}} = \\epsilon b + \\dfrac{\\left(\\epsilon b\\right)^{3}}{3!} + \\cdots = \\epsilon b \\\\\n",
    "  \\cos\\left(\\epsilon b\\right) &= \\sum_{n=0}^{\\infty}{\\left(-1\\right)^{n}\\dfrac{\\left(\\epsilon b\\right)^{2n}}{\\left(2n\\right)!}} = 1 + \\dfrac{\\left(\\epsilon b\\right)^{2}}{2} + \\cdots = 1.\n",
    "\\end{align}\n",
    "Note that the definition of $\\epsilon$ was used which resulted in the collapsed sum."
   ]
  },
  {
   "cell_type": "markdown",
   "metadata": {
    "slideshow": {
     "slide_type": "subslide"
    }
   },
   "source": [
    "So we see that \n",
    "\\begin{align}\n",
    "  y & = \\sin\\left(a\\right) + \\cos\\left(a\\right) b \\epsilon.\n",
    "\\end{align}\n",
    "And once again the real component is the function and the dual component is the derivative."
   ]
  },
  {
   "cell_type": "markdown",
   "metadata": {
    "slideshow": {
     "slide_type": "skip"
    }
   },
   "source": [
    "# Automatic Differentiation and Dual Numbers\n",
    "A dual number is an extension of the real numbers.  Written out, the form looks similar to a complex number.\n",
    "\n",
    "## Review of Complex Numbers\n",
    "Recall that a complex number has the form $$z = a + ib$$ where we *define* the number $i$ so that $i^{2} = -1$.  No real number has this property but it is a useful property for a number to have.  Hence the introduction of complex numbers.  Visually, you can think of a real number as a number lying on a straight line.  Then, we \"extend\" the real line \"up\".  The new axis is called the *imaginary* axis.\n",
    "\n",
    "Complex numbers have several properties that we can use.\n",
    "* Complex conjugate: $z^{*} = a - ib$.\n",
    "* Magnitude of a complex number: $\\left|z\\right|^{2} = zz^{*} = \\left(a+ib\\right)\\left(a-ib\\right) = a^{2} + b^{2}$.\n",
    "* Polar form: $z = \\left|z\\right|\\exp\\left(i\\theta\\right)$ where $\\displaystyle \\theta = \\tan^{-1}\\left(\\dfrac{b}{a}\\right)$.\n",
    "\n",
    "## Towards Dual Numbers\n",
    "A dual number has a real part and a dual part.  We write $$z = a + \\epsilon b$$ and refer to $b$ as the dual part.  We *define* the number $\\epsilon$ so that $\\epsilon^{2} = 0$.  **This does not mean that $\\epsilon$ is zero!**  $\\epsilon$ is not a real number.\n",
    "\n",
    "#### Some properties of dual numbers:\n",
    "* Conjugate:  $z^{*} = a - \\epsilon b$.\n",
    "* Magnitude: $\\left|z\\right|^{2} = zz^{*} = \\left(a+\\epsilon b\\right)\\left(a-\\epsilon b\\right) = a^{2}$.\n",
    "* Polar form: $z = a\\left(1 + \\dfrac{b}{a}\\right)$.\n",
    "\n",
    "### Example\n",
    "Recall that the derivative of $y=x^{2}$ is $y^{\\prime} = 2x$.\n",
    "\n",
    "Now if we extend $x$ so that it has a real part and a dual part ($x\\leftarrow a + \\epsilon a$) and evaluate $y$ we have\n",
    "\\begin{align}\n",
    "  y &= \\left(a + \\epsilon b\\right)^{2} \\\\\n",
    "    &= a^{2} + 2ab\\epsilon + \\underbrace{b^{2}\\epsilon^{2}}_{=0} \\\\\n",
    "    &= a^{2} + 2ab\\epsilon.\n",
    "\\end{align}\n",
    "#### Notice that the dual part contains the derivative of our function!!\n",
    "\n",
    "### Example\n",
    "Evaluate $y = \\sin\\left(x\\right)$ when $x\\leftarrow a + \\epsilon b$.\n",
    "\n",
    "We have\n",
    "\\begin{align}\n",
    "  y & = \\sin\\left(a + \\epsilon b\\right) \\\\\n",
    "    & = \\sin\\left(a\\right)\\cos\\left(\\epsilon b\\right) + \\cos\\left(a\\right)\\sin\\left(\\epsilon b\\right).\n",
    "\\end{align}\n",
    "Expanding $\\cos$ and $\\sin$ in their Taylor series gives \n",
    "\\begin{align}\n",
    "  \\sin\\left(\\epsilon b\\right) &= \\sum_{n=0}^{\\infty}{\\left(-1\\right)^{n}\\dfrac{\\left(\\epsilon b\\right)^{2n+1}}{\\left(2n+1\\right)!}} = \\epsilon b + \\dfrac{\\left(\\epsilon b\\right)^{3}}{3!} + \\cdots = \\epsilon b \\\\\n",
    "  \\cos\\left(\\epsilon b\\right) &= \\sum_{n=0}^{\\infty}{\\left(-1\\right)^{n}\\dfrac{\\left(\\epsilon b\\right)^{2n}}{\\left(2n\\right)!}} = 1 + \\dfrac{\\left(\\epsilon b\\right)^{2}}{2} + \\cdots = 1.\n",
    "\\end{align}\n",
    "Note that the definition of $\\epsilon$ was used which resulted in the collapsed sum.\n",
    "\n",
    "So we see that \n",
    "\\begin{align}\n",
    "  y & = \\sin\\left(a\\right) + \\cos\\left(a\\right) b \\epsilon.\n",
    "\\end{align}\n",
    "And once again the real component is the function and the dual component is the derivative."
   ]
  },
  {
   "cell_type": "markdown",
   "metadata": {
    "slideshow": {
     "slide_type": "subslide"
    }
   },
   "source": [
    "### Exercise 1\n",
    "Using dual numbers, find the derivative of $$ y = e^{x^{2}}.$$  **Show your work!**\n",
    "\n",
    "You do not need to turn this exercise in."
   ]
  },
  {
   "cell_type": "markdown",
   "metadata": {
    "slideshow": {
     "slide_type": "slide"
    }
   },
   "source": [
    "# Thoughts on Implementation"
   ]
  },
  {
   "cell_type": "markdown",
   "metadata": {
    "slideshow": {
     "slide_type": "subslide"
    }
   },
   "source": [
    "There are different ways of implementing automatic differentiation.  Two predominant approaches are:\n",
    "1. code translation through pre-processor directives and \n",
    "2. operator-overloading.  \n",
    "\n",
    "We won't much to say about code translation.  It can be quite complicated, even going so far as to write a compiler.  The high-level idea is that the compiler writes additional code to compute derivatives of functions.  The benefits are that it can be very efficient and fast.\n",
    "\n",
    "Our approach will use operator overloading."
   ]
  },
  {
   "cell_type": "markdown",
   "metadata": {
    "slideshow": {
     "slide_type": "subslide"
    }
   },
   "source": [
    "## Operator Overloading\n",
    "The Wikipedia article on [operator overloading](https://en.wikipedia.org/wiki/Operator_overloading) states: \n",
    "> ...operator overloading, sometimes termed operator ad hoc polymorphism, is a specific case of polymorphism, where different operators have different implementations depending on their arguments.\n",
    "\n",
    "You have already seen the basics of this although we didn't call it operator overloading.  `Python` allows operator overloading via the special methods.  When you wrote the circle class, some of you tried to define the `__add__` method (and `__radd__` for communtivity) to add two circle objects.  In this way, you *overloaded* the additon operator (`+`)."
   ]
  },
  {
   "cell_type": "markdown",
   "metadata": {
    "slideshow": {
     "slide_type": "subslide"
    }
   },
   "source": [
    "### Example\n",
    "Let's create a class to do complex numbers again."
   ]
  },
  {
   "cell_type": "code",
   "execution_count": 2,
   "metadata": {
    "scrolled": true,
    "slideshow": {
     "slide_type": "fragment"
    }
   },
   "outputs": [
    {
     "ename": "TypeError",
     "evalue": "unsupported operand type(s) for +: 'Complex' and 'Complex'",
     "output_type": "error",
     "traceback": [
      "\u001b[0;31m---------------------------------------------------------------------------\u001b[0m",
      "\u001b[0;31mTypeError\u001b[0m                                 Traceback (most recent call last)",
      "\u001b[0;32m<ipython-input-2-5e457e1e9eab>\u001b[0m in \u001b[0;36m<module>\u001b[0;34m\u001b[0m\n\u001b[1;32m     11\u001b[0m \u001b[0;34m\u001b[0m\u001b[0m\n\u001b[1;32m     12\u001b[0m \u001b[0;31m# And add them\u001b[0m\u001b[0;34m\u001b[0m\u001b[0;34m\u001b[0m\u001b[0;34m\u001b[0m\u001b[0m\n\u001b[0;32m---> 13\u001b[0;31m \u001b[0mz\u001b[0m \u001b[0;34m=\u001b[0m \u001b[0mz1\u001b[0m \u001b[0;34m+\u001b[0m \u001b[0mz2\u001b[0m\u001b[0;34m\u001b[0m\u001b[0;34m\u001b[0m\u001b[0m\n\u001b[0m\u001b[1;32m     14\u001b[0m \u001b[0mprint\u001b[0m\u001b[0;34m(\u001b[0m\u001b[0mz\u001b[0m\u001b[0;34m.\u001b[0m\u001b[0ma\u001b[0m\u001b[0;34m,\u001b[0m \u001b[0mz\u001b[0m\u001b[0;34m.\u001b[0m\u001b[0mb\u001b[0m\u001b[0;34m)\u001b[0m\u001b[0;34m\u001b[0m\u001b[0;34m\u001b[0m\u001b[0m\n",
      "\u001b[0;31mTypeError\u001b[0m: unsupported operand type(s) for +: 'Complex' and 'Complex'"
     ]
    }
   ],
   "source": [
    "# Complex class again\n",
    "class Complex():\n",
    "    def __init__(self, a, b):\n",
    "        # Constructor to set up real and imag parts\n",
    "        self.a = a\n",
    "        self.b = b\n",
    "\n",
    "# Create some complex numbers\n",
    "z1 = Complex(0, 1)\n",
    "z2 = Complex(2, 0)\n",
    "\n",
    "# And add them\n",
    "z = z1 + z2\n",
    "print(z.a, z.b)"
   ]
  },
  {
   "cell_type": "markdown",
   "metadata": {
    "slideshow": {
     "slide_type": "subslide"
    }
   },
   "source": [
    "That didn't work.  `python` doesn't know how to apply the addition operator (`+`) to `Complex` objects!  Let's remedy that."
   ]
  },
  {
   "cell_type": "code",
   "execution_count": 6,
   "metadata": {
    "scrolled": true,
    "slideshow": {
     "slide_type": "fragment"
    }
   },
   "outputs": [
    {
     "name": "stdout",
     "output_type": "stream",
     "text": [
      "2 1\n"
     ]
    }
   ],
   "source": [
    "# Complex class again\n",
    "class Complex():\n",
    "    def __init__(self, a, b):\n",
    "        # Constructor to st up real and imag parts\n",
    "        self.a = a\n",
    "        self.b = b\n",
    "    \n",
    "    def __add__(self, other):\n",
    "        # Implementating complex addition\n",
    "        return Complex(self.a + other.a, self.b + other.b)\n",
    "\n",
    "z1 = Complex(0, 1)\n",
    "z2 = Complex(2, 0)\n",
    "z = z1 + z2\n",
    "print(z.a, z.b)"
   ]
  },
  {
   "cell_type": "markdown",
   "metadata": {
    "slideshow": {
     "slide_type": "subslide"
    }
   },
   "source": [
    "Okay, much better.  Of course, there are still many problems here:\n",
    "* No convenient way to print out a complex number (where's `__str__`?)\n",
    "* What happens when you try to add a complex number to a real number (e.g. `2 + z`)?\n",
    "  - Try it!\n",
    "  - Then check out `__radd__`.\n",
    "  - This is how you get commutivity.\n",
    "* Many operations are missing (e.g. where's multiplication?).\n",
    "\n",
    "Nevertheless, the addition operator has been (partly) successfully overloaded (we didn't get commutivity yet)."
   ]
  },
  {
   "cell_type": "markdown",
   "metadata": {
    "slideshow": {
     "slide_type": "subslide"
    }
   },
   "source": [
    "### Comments on `__add__`\n",
    "* Python calls `__add__` to add two object instances `a` and `b`.\n",
    "* When you write `a+b` Python really does `a.__add__(b)`.\n",
    "* So if you define `__add__`, you can add things to and object.\n",
    "* But, you *can't* add the object to things!"
   ]
  },
  {
   "cell_type": "markdown",
   "metadata": {
    "slideshow": {
     "slide_type": "subslide"
    }
   },
   "source": [
    "### More Comments on `__add__`\n",
    "* Suppose you have `object1` and `object2`.  These both have `__add__` defined.\n",
    "* So there's no problem for Python to call `object1.__add__(object2)`.\n",
    "* But if you tried to do `object1 + 1.0` you would (probably) get an error because the `float` type probably doesn't have the same kind of addition as `object1`.\n",
    "* So you would have to enhance `__add__` with duck-typing via `try-except` blocks.\n",
    "   - Homework!"
   ]
  },
  {
   "cell_type": "markdown",
   "metadata": {
    "slideshow": {
     "slide_type": "subslide"
    }
   },
   "source": [
    "### Comments on `__radd__`\n",
    "* But wait, there's more!  Suppose you successfully support both `object1 + object2` and `object1 + 1.0`.\n",
    "* Many things in life are commutative, so you'd really like to be able to do `1.0 + object1`.\n",
    "* So Python calls `1.0.__add__(object1)` and you get an attribute error!\n",
    "* To solve this, you must use `__radd__`\n",
    "   - Homework!\n",
    "* First Python tries `1.0.__add__(object1)` and when that fails it calls `object1.__radd__(1.0)`.\n",
    "* If `__radd__` just calls `__add__`, then all your bases are covered.\n",
    "\n",
    "See [Emulating Numeric Types](https://docs.python.org/3/reference/datamodel.html#emulating-numeric-types) for more."
   ]
  },
  {
   "cell_type": "markdown",
   "metadata": {
    "slideshow": {
     "slide_type": "subslide"
    }
   },
   "source": [
    "## Implementation with the Duals\n",
    "This section will give you a hint on how you may go about implementing the forward mode.  I will be deliberately terse.  In fact, I will not even define a class or use any operator overloading.  What I'm about to show you is almost purely conceptual.  You will do the hard work of coming up with a user-friendly implementation for your project."
   ]
  },
  {
   "cell_type": "markdown",
   "metadata": {
    "slideshow": {
     "slide_type": "subslide"
    }
   },
   "source": [
    "Let's start with a baby example.  Suppose at some point in our evaluation trace we have $$x_{3} = x_{1}x_{2}.$$  We want to evaluate $x_{3}$ and the derivative.  Following our usual conventions we have $$\\dot{x}_{3} = x_{1}\\dot{x}_{2} + \\dot{x}_{1}x_{2}.$$  For our purposes here, suppose we have that $x_{1} = 2$ and $x_{2} = 3$ as well as $\\dot{x}_{1} = 1$ and $\\dot{x}_{2} = 4$.  It doesn't matter where these values came from at the moment."
   ]
  },
  {
   "cell_type": "markdown",
   "metadata": {
    "slideshow": {
     "slide_type": "subslide"
    }
   },
   "source": [
    "Let's define an object that has two components.  The first component will hold the value of the function and the second component will hold the value of the derivative."
   ]
  },
  {
   "cell_type": "code",
   "execution_count": 4,
   "metadata": {
    "slideshow": {
     "slide_type": "fragment"
    }
   },
   "outputs": [],
   "source": [
    "#     x1   x1 dot\n",
    "x1 = [2,     1] # value and derivative\n",
    "x2 = [3,     4]"
   ]
  },
  {
   "cell_type": "markdown",
   "metadata": {
    "slideshow": {
     "slide_type": "subslide"
    }
   },
   "source": [
    "It's clear how to compute the value of the function at the point $a$.  Simply use the first component of our object to compute the function value."
   ]
  },
  {
   "cell_type": "code",
   "execution_count": 5,
   "metadata": {
    "slideshow": {
     "slide_type": "fragment"
    }
   },
   "outputs": [
    {
     "name": "stdout",
     "output_type": "stream",
     "text": [
      "[6, 0]\n"
     ]
    }
   ],
   "source": [
    "f = [0, 0] # Allocate the values of the function and its derivative\n",
    "# f(a) = x1    * x2\n",
    "f[0]   = x1[0] * x2[0]\n",
    "print(f)"
   ]
  },
  {
   "cell_type": "markdown",
   "metadata": {
    "slideshow": {
     "slide_type": "subslide"
    }
   },
   "source": [
    "But to calculate the derivative, we need to *overload* multiplication.  Any time we encounter a multiplication of something in the second slot, we need to use the chain rule."
   ]
  },
  {
   "cell_type": "code",
   "execution_count": 6,
   "metadata": {
    "scrolled": true,
    "slideshow": {
     "slide_type": "fragment"
    }
   },
   "outputs": [
    {
     "name": "stdout",
     "output_type": "stream",
     "text": [
      "[6, 11]\n"
     ]
    }
   ],
   "source": [
    "#f'(a) = x1    * x2dot + x1dot * x2\n",
    "f[1]   = x1[0] * x2[1] + x1[1] * x2[0]\n",
    "print(f)"
   ]
  },
  {
   "cell_type": "markdown",
   "metadata": {
    "slideshow": {
     "slide_type": "subslide"
    }
   },
   "source": [
    "Let's recap.  We'll use OOP vernacular.\n",
    "* We instantiated two gradient objects $x_{1}$ and $x_{2}$ (here just lists).\n",
    "* These objects have two name attributes.\n",
    "  1. The first attribute is the function value.\n",
    "  2. The second attribute is the derivative."
   ]
  },
  {
   "cell_type": "markdown",
   "metadata": {
    "slideshow": {
     "slide_type": "subslide"
    }
   },
   "source": [
    "* When performing a multiplication, the usual multiplication operator can be used for the function value part of the object.\n",
    "* However, for the derivative part, one must overload the multiplication operator.\n",
    "  - Note that this could be accomplished in a class by implementing the `__mul__` and `__rmul__` special methods and returning the gradient object (like we did for `__add__` in the `Complex` class example)."
   ]
  },
  {
   "cell_type": "markdown",
   "metadata": {
    "slideshow": {
     "slide_type": "subslide"
    }
   },
   "source": [
    "### Exercise 2\n",
    "Your turn.  Using the same approach as above, write some code to do forward mode automatic differentiation of the function $$f\\left(x\\right) = x^{r}$$ where $r \\in \\mathbb{R}$.  Evaluate the derivative and function at $a = 3$ and $r = 4$.\n",
    "\n",
    "You can turn this into a function or closure if that helps you with the concepts.\n",
    "\n",
    "#### Hints\n",
    "- Remember, your $x$ value will actually be a data structure with *two* values (one for the evaluation point, and one for the derivative).\n",
    "- Write out the derivative of your function by hand first.  Don't forget the chain rule!\n",
    "   - Note that this function would be considered an elemental function and would therefore be just one little piece of your overall software.\n",
    "\n",
    "#### Some Other Ideas if Time Permits\n",
    "- Turn this into a class\n",
    "- Overload some methods (e.g. `__pow__`)\n",
    "\n",
    "#### Deliverables\n",
    "* Submit your solution as `L11E2.py`."
   ]
  }
 ],
 "metadata": {
  "celltoolbar": "Slideshow",
  "kernelspec": {
   "display_name": "Python 3",
   "language": "python",
   "name": "python3"
  },
  "language_info": {
   "codemirror_mode": {
    "name": "ipython",
    "version": 3
   },
   "file_extension": ".py",
   "mimetype": "text/x-python",
   "name": "python",
   "nbconvert_exporter": "python",
   "pygments_lexer": "ipython3",
   "version": "3.6.7"
  }
 },
 "nbformat": 4,
 "nbformat_minor": 2
}
