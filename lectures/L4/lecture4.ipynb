{
 "cells": [
  {
   "cell_type": "markdown",
   "metadata": {
    "slideshow": {
     "slide_type": "slide"
    }
   },
   "source": [
    "# Lecture 4:  September 17, 2019\n",
    "## Branches in `Git`"
   ]
  },
  {
   "cell_type": "markdown",
   "metadata": {
    "slideshow": {
     "slide_type": "slide"
    }
   },
   "source": [
    "## Basic Branching"
   ]
  },
  {
   "cell_type": "markdown",
   "metadata": {
    "slideshow": {
     "slide_type": "subslide"
    }
   },
   "source": [
    "* We have encountered branches a few times so far but we haven't really said much about what they are or why they're important.  They are very important.  In fact, they form a core piece of the `git` workflow.\n",
    "\n",
    "* A `git` branch is a \"Sticky Note\" on the graph.  When you switch branches you are moving the \"Sticky Note\".\n",
    "\n",
    "* Suppose you have a newly initialized repository.  Your first commit is represented by the **A** block in the figure below. ![inital_commit](figs/initial_commit.png)\n",
    "\n",
    "A default branch is created and `git` named it `master`.  The name `master` has no special meaning to `git`."
   ]
  },
  {
   "cell_type": "markdown",
   "metadata": {
    "slideshow": {
     "slide_type": "subslide"
    }
   },
   "source": [
    "Now suppose we make a set of two commits (B and C).  The `master` branch (and our pointer) moves along. ![two_commits](figs/two_commits.png)"
   ]
  },
  {
   "cell_type": "markdown",
   "metadata": {
    "slideshow": {
     "slide_type": "subslide"
    }
   },
   "source": [
    "So far so good.  Suddenly we find a bug!  We could work on the bug in `master` but that's not really a good idea.  It would make a lot more sense to `branch` off of `master` and fix the bug on its own `branch`.  That way, we don't interfere with things on `master`.  We'll discuss the details of how to create branches in the lecture exercises.  For now, suppose we create a new branch called `bug1`.![bug1_branch](figs/bug1_branch.png)\n",
    "\n",
    "The new branch is a pointer to the same commit as the `master` branch (commit **C**) but the pointer moved from the `master` branch to the `bug1` branch."
   ]
  },
  {
   "cell_type": "markdown",
   "metadata": {
    "slideshow": {
     "slide_type": "subslide"
    }
   },
   "source": [
    "We do some work on the `bug1` branch and make two more commits.  The pointer and branch now move to commit **E**. ![bug1_commits](figs/bug1_commits.png)"
   ]
  },
  {
   "cell_type": "markdown",
   "metadata": {
    "collapsed": true,
    "slideshow": {
     "slide_type": "subslide"
    }
   },
   "source": [
    "* Now you decide that the bug you found has been fixed.\n",
    "* You've modified a file and maybe even added a new file.  \n",
    "* You can switch back to the `master` branch. ![switch_to_master](figs/switch_to_master.png)\n",
    "\n",
    "* What you'll see is that none of the files that you just fixed and/or created are in your working directory!  \n",
    "* The first couple of times you see this, it feels really uncomfortable.  \n",
    "* However, this is the correct `git` workflow: [`git` works with snapshots!](https://git-scm.com/book/en/v1/Getting-Started-Git-Basics)"
   ]
  },
  {
   "cell_type": "markdown",
   "metadata": {
    "slideshow": {
     "slide_type": "subslide"
    }
   },
   "source": [
    "* How do we get the bug fix into our `master` branch?\n",
    "\n",
    "* We already know the command.  From the `master` branch, just do `git merge bug1`.\n",
    "\n",
    "![git_merge_bug1](figs/git_merge_bug1.png)\n",
    "\n",
    "This looks really nice!  The `merge` brought the two change histories together prefectly."
   ]
  },
  {
   "cell_type": "markdown",
   "metadata": {
    "slideshow": {
     "slide_type": "subslide"
    }
   },
   "source": [
    "* The only thing left to do is to delete the `bug1` branch.  \n",
    "* We don't need it anymore and so we really don't want it floating around.  \n",
    "* To delete a branch you simply write `git branch -d bug1`.\n",
    "\n",
    "![git_delete_bug1](figs/git_delete_bug1.png)\n",
    "\n",
    "This looks like a nice clean tree now.  If only things were always this simple."
   ]
  },
  {
   "cell_type": "markdown",
   "metadata": {
    "slideshow": {
     "slide_type": "slide"
    }
   },
   "source": [
    "## Nonlinear Histories:  Workflow Choices"
   ]
  },
  {
   "cell_type": "markdown",
   "metadata": {
    "slideshow": {
     "slide_type": "subslide"
    }
   },
   "source": [
    "Another common scenario is as follows:\n",
    "* We created our \"story branch\" off of commit **C** to address some bug (not the same bug as before!).  Call this branch `bug2`.\n",
    "* However, some changes have happened in `master` since we branched off of **C**.  For example, `bug1` has been merged into `master`.\n",
    "* We have made a couple of commits on `bug2`."
   ]
  },
  {
   "cell_type": "markdown",
   "metadata": {
    "slideshow": {
     "slide_type": "subslide"
    }
   },
   "source": [
    "Here's the current graph: \n",
    "\n",
    "![git_branch_bug2](figs/git_branch_bug2.png)"
   ]
  },
  {
   "cell_type": "markdown",
   "metadata": {
    "slideshow": {
     "slide_type": "subslide"
    }
   },
   "source": [
    "Once we're ready to merge our bug fix, we switch back to `master`. ![switch_to_master2](figs/switch_to_master2.png)"
   ]
  },
  {
   "cell_type": "markdown",
   "metadata": {
    "slideshow": {
     "slide_type": "subslide"
    }
   },
   "source": [
    "Now we attempt to merge.  Our attempted merge should connect the new version H to both E and G (H came from E and G).\n",
    "\n",
    "![git_merge_bug2](figs/git_merge_bug2.png)\n",
    "\n",
    "This merge can be quite unpleasant if there are conflicts."
   ]
  },
  {
   "cell_type": "markdown",
   "metadata": {
    "slideshow": {
     "slide_type": "subslide"
    }
   },
   "source": [
    "Now we delete the `bug2` branch since the bug fix has been successfully merged into `master`. ![git_delete_bug2](figs/git_delete_bug2.png)\n",
    "\n",
    "* The graph is now a bit of a mess; the history is nonlinear.  \n",
    "* There's nothing particularly wrong about this.  \n",
    "* However, such a history makes it hard to see the changes independently.  \n",
    "* What if another branch came off of **G**?  You could have multiple loops!"
   ]
  },
  {
   "cell_type": "markdown",
   "metadata": {
    "slideshow": {
     "slide_type": "subslide"
    }
   },
   "source": [
    "There is another way to do merges that helps \"linearize\" the graph.  Let's pick up with our `bug2` branch just before we switched to the `master` branch for a merge. ![git_branch_bug2](figs/git_branch_bug2.png)\n",
    "\n",
    "This time, instead of starting the `merge` process right away, we'll first `rebase`."
   ]
  },
  {
   "cell_type": "markdown",
   "metadata": {
    "slideshow": {
     "slide_type": "subslide"
    }
   },
   "source": [
    "`git rebase master`. ![git_rebase_master](figs/git_rebase_master.png)\n",
    "\n",
    "What does `rebase` do?\n",
    "* Undo the changes we made off of **C**, but remember what they were\n",
    "* Re-apply those changes on **E** instead"
   ]
  },
  {
   "cell_type": "markdown",
   "metadata": {
    "slideshow": {
     "slide_type": "subslide"
    }
   },
   "source": [
    "Now we proceed as usual:\n",
    "* `git checkout master`\n",
    "* `git merge bug2`\n",
    "![git_checkout_merge_bug2](figs/git_checkout_merge_bug2.png)\n",
    "\n",
    "* Now we get a nice linear flow."
   ]
  },
  {
   "cell_type": "markdown",
   "metadata": {
    "slideshow": {
     "slide_type": "subslide"
    }
   },
   "source": [
    "#### Comments on `rebase`\n",
    "\n",
    "* The actual change set ordering in the repo mirrors what actually happened.  That is, **F'** and **G'** came after **E** rather than in parallel to it.\n",
    "* We have re-written history; this is controversial.\n",
    "\n",
    "#### Basic Rule:  Don't rebase public history\n",
    "Never rebase commits once they've been pushed to a public repository. \n",
    "\n",
    "#### Some Rough `rebase` guidelines\n",
    "Use an interactive rebase to polish a feature branch before merging it into the main code base."
   ]
  },
  {
   "cell_type": "markdown",
   "metadata": {},
   "source": [
    "## End of Slideshow --- Begin lecture exercises"
   ]
  },
  {
   "cell_type": "markdown",
   "metadata": {
    "slideshow": {
     "slide_type": "-"
    }
   },
   "source": [
    "In Lecture 2, you worked with the playground repository.  You learned how to navigate the repository from the `Git` point of view, make changes to the repo, and work with the remote repo.\n",
    "\n",
    "One very important topic in `Git` involves the concept of the branch.  You will work **extensively** with branches in any real project.  In fact, branches are central to the `Git` workflow.  In this portion of the lecture, we will discuss branches with `Git`.\n",
    "\n",
    "For more details on branches in `Git` see Chapter 3 of the `Git` Book: [Git Branching - Branches in a Nutshell](https://git-scm.com/book/en/v2/Git-Branching-Branches-in-a-Nutshell)."
   ]
  },
  {
   "cell_type": "markdown",
   "metadata": {},
   "source": [
    "----"
   ]
  },
  {
   "cell_type": "markdown",
   "metadata": {},
   "source": [
    "## Branching"
   ]
  },
  {
   "cell_type": "markdown",
   "metadata": {},
   "source": [
    "As you might have noticed by now, everything in `Git` is a branch. We have branches on remote (upstream) repositories, copies of remote branches in our local repository, and branches on local repositories which (so far) track remote branches (or more precisely local copies of remote repositories).\n",
    "\n",
    "Begin today's lecture by entering your **course repository**.  Note that the following cell is not necessary for you.  I have to re-clone the repo since I'm in a new notebook.  You should just keep working like usual from the command line."
   ]
  },
  {
   "cell_type": "code",
   "execution_count": 3,
   "metadata": {},
   "outputs": [
    {
     "name": "stderr",
     "output_type": "stream",
     "text": [
      "Cloning into 'cs207_david_sondak'...\n"
     ]
    }
   ],
   "source": [
    "%%bash\n",
    "cd /tmp\n",
    "rm -rf cs207_david_sondak #remove if it exists\n",
    "git clone https://github.com/dsondak/cs207_david_sondak.git"
   ]
  },
  {
   "cell_type": "markdown",
   "metadata": {},
   "source": [
    "Once you're in your course repo, you can look at all the branches and print out a lot of information to the screen."
   ]
  },
  {
   "cell_type": "code",
   "execution_count": 4,
   "metadata": {},
   "outputs": [
    {
     "name": "stdout",
     "output_type": "stream",
     "text": [
      "* master                    f617a3f [origin/master] FALL 2018 materials.\n",
      "  remotes/origin/HEAD       -> origin/master\n",
      "  remotes/origin/ad-project 7574906 Printing out lots of decimal places in the root.\n",
      "  remotes/origin/gh-pages   36aa8a1 Shifted schedule around.\n",
      "  remotes/origin/master     f617a3f FALL 2018 materials.\n",
      "  remotes/origin/tim        4bc23fb Added MathCS207.py\n"
     ]
    }
   ],
   "source": [
    "%%bash\n",
    "cd /tmp/cs207_david_sondak\n",
    "git branch -avv"
   ]
  },
  {
   "cell_type": "markdown",
   "metadata": {},
   "source": [
    "All of these branches are nothing but commit-streams in disguise, as can be seen above. It's a very simple model that leads to a lot of interesting version control patterns.\n",
    "\n",
    "Since branches are so light-weight, the recommended way of working on software using `git` is to create a new branch for each new feature you add, test it out, and if good, merge it into master. Then you deploy the software from `master`. We have been using branches under the hood. Let's now lift the hood.\n",
    "\n",
    "----\n",
    "### `branch`\n",
    "\n",
    "![git_branch](figs/git_branch.png)\n",
    "\n",
    "Branches can also be created manually, and they are a useful way of organizing unfinished changes.\n",
    "\n",
    "The `branch` command has two forms. The first:\n",
    "\n",
    "```bash\n",
    "git branch\n",
    "```\n",
    "\n",
    "simply lists all of the branches in your local repository. If you run it without having created any branches, it will list only one, called `master`. This is the default branch. You have also seen the use of `git branch -avv` to show all branches (even remote ones).\n",
    "\n",
    "The other form of the `branch` command creates a branch with a given name:\n",
    "\n",
    "```bash\n",
    "git branch branch_name\n",
    "```"
   ]
  },
  {
   "cell_type": "markdown",
   "metadata": {},
   "source": [
    "It's important to note that this new branch is not *active*. If you make changes, those changes will still apply to the `master` branch, not `branch_name`. That is, after executing the `git branch branch_name` command you're still on the `master` branch and **not** the `branch_name` branch.  To change this, you need the next command."
   ]
  },
  {
   "cell_type": "markdown",
   "metadata": {},
   "source": [
    "----\n",
    "### `checkout`\n",
    "\n",
    "![git_checkout](figs/git_checkout.png)\n",
    "\n",
    "`Checkout` switches the active branch. Since branches can have different changes, `checkout` may make the working directory look very different. For instance, if you have added new files to one branch and then check another branch out, those files will no longer show up in the directory. They are still stored in the `.git` folder, but since they only exist in the other branch, they cannot be accessed until you check out the original branch."
   ]
  },
  {
   "cell_type": "markdown",
   "metadata": {},
   "source": [
    "```bash\n",
    "git checkout my-new-branch\n",
    "```"
   ]
  },
  {
   "cell_type": "markdown",
   "metadata": {},
   "source": [
    "You can combine creating a new branch and checking it out with the shortcut:\n",
    "```bash\n",
    "git checkout -b my-new-branch\n",
    "```"
   ]
  },
  {
   "cell_type": "markdown",
   "metadata": {},
   "source": [
    "Try this out on your course repository."
   ]
  },
  {
   "cell_type": "code",
   "execution_count": 5,
   "metadata": {},
   "outputs": [],
   "source": [
    "%%bash\n",
    "cd /tmp/cs207_david_sondak\n",
    "git branch lecture4_exercise"
   ]
  },
  {
   "cell_type": "markdown",
   "metadata": {},
   "source": [
    "See what branches we have created."
   ]
  },
  {
   "cell_type": "code",
   "execution_count": 6,
   "metadata": {},
   "outputs": [
    {
     "name": "stdout",
     "output_type": "stream",
     "text": [
      "  lecture4_exercise\n",
      "* master\n"
     ]
    }
   ],
   "source": [
    "%%bash\n",
    "cd /tmp/cs207_david_sondak\n",
    "git branch "
   ]
  },
  {
   "cell_type": "markdown",
   "metadata": {},
   "source": [
    "Notice that you have created the `lecture4_exercise` branch but you're still _on_ the `master` branch."
   ]
  },
  {
   "cell_type": "markdown",
   "metadata": {},
   "source": [
    "Jump onto the `lecture4_exercise` branch."
   ]
  },
  {
   "cell_type": "code",
   "execution_count": 7,
   "metadata": {},
   "outputs": [
    {
     "name": "stdout",
     "output_type": "stream",
     "text": [
      "* lecture4_exercise\n",
      "  master\n"
     ]
    },
    {
     "name": "stderr",
     "output_type": "stream",
     "text": [
      "Switched to branch 'lecture4_exercise'\n"
     ]
    }
   ],
   "source": [
    "%%bash\n",
    "cd /tmp/cs207_david_sondak\n",
    "git checkout lecture4_exercise\n",
    "git branch"
   ]
  },
  {
   "cell_type": "markdown",
   "metadata": {},
   "source": [
    "Notice that it is bootstrapped off the `master` branch and has the same files.  You can check that with the `ls` command."
   ]
  },
  {
   "cell_type": "code",
   "execution_count": 8,
   "metadata": {},
   "outputs": [
    {
     "name": "stdout",
     "output_type": "stream",
     "text": [
      "LICENSE\n",
      "README.md\n",
      "homeworks\n",
      "lectures\n",
      "legacy\n",
      "notes\n",
      "project\n",
      "supplementary-python\n"
     ]
    }
   ],
   "source": [
    "%%bash\n",
    "cd /tmp/cs207_david_sondak\n",
    "ls"
   ]
  },
  {
   "cell_type": "markdown",
   "metadata": {},
   "source": [
    "**Note:** You could have created this branch and switched to it all in one go by using `git checkout -b lecture4_exercise`.\n",
    "\n",
    "Now let's check the status of our repo."
   ]
  },
  {
   "cell_type": "code",
   "execution_count": 9,
   "metadata": {},
   "outputs": [
    {
     "name": "stdout",
     "output_type": "stream",
     "text": [
      "On branch lecture4_exercise\n",
      "nothing to commit, working tree clean\n"
     ]
    }
   ],
   "source": [
    "%%bash\n",
    "cd /tmp/cs207_david_sondak\n",
    "git status"
   ]
  },
  {
   "cell_type": "markdown",
   "metadata": {},
   "source": [
    "Alright, so we're on our new branch but we haven't added or modified anything yet; there's nothing to commit."
   ]
  },
  {
   "cell_type": "markdown",
   "metadata": {},
   "source": [
    "### Adding a file on a new branch"
   ]
  },
  {
   "cell_type": "markdown",
   "metadata": {},
   "source": [
    "Let's add a new file.  Note that this file gets added on this branch only!  Notice that I'm still using the `echo` command.  Once again, this is only because `jupyter` can't work with text editors.  If I were you, I'd use `vim`, but you can use whatever text editor you like."
   ]
  },
  {
   "cell_type": "code",
   "execution_count": 10,
   "metadata": {},
   "outputs": [
    {
     "name": "stdout",
     "output_type": "stream",
     "text": [
      "On branch lecture4_exercise\n",
      "Untracked files:\n",
      "  (use \"git add <file>...\" to include in what will be committed)\n",
      "\n",
      "\tbooks.md\n",
      "\n",
      "nothing added to commit but untracked files present (use \"git add\" to track)\n"
     ]
    }
   ],
   "source": [
    "%%bash\n",
    "cd /tmp/cs207_david_sondak\n",
    "echo '# Things I wish G.R.R. Martin would say:  Finally updating A Song of Ice and Fire.' > books.md\n",
    "git status"
   ]
  },
  {
   "cell_type": "markdown",
   "metadata": {},
   "source": [
    "We add the file to the index, and then commit the files to the local repository on the `lecture4_exercise` branch."
   ]
  },
  {
   "cell_type": "code",
   "execution_count": 11,
   "metadata": {},
   "outputs": [
    {
     "name": "stdout",
     "output_type": "stream",
     "text": [
      "On branch lecture4_exercise\n",
      "Changes to be committed:\n",
      "  (use \"git reset HEAD <file>...\" to unstage)\n",
      "\n",
      "\tnew file:   books.md\n",
      "\n"
     ]
    }
   ],
   "source": [
    "%%bash\n",
    "cd /tmp/cs207_david_sondak\n",
    "git add books.md\n",
    "git status"
   ]
  },
  {
   "cell_type": "code",
   "execution_count": 12,
   "metadata": {},
   "outputs": [
    {
     "name": "stdout",
     "output_type": "stream",
     "text": [
      "[lecture4_exercise 06c0fbd] Added another test file to demonstrate git features\n",
      " 1 file changed, 1 insertion(+)\n",
      " create mode 100644 books.md\n",
      "On branch lecture4_exercise\n",
      "nothing to commit, working tree clean\n"
     ]
    }
   ],
   "source": [
    "%%bash\n",
    "cd /tmp/cs207_david_sondak\n",
    "git commit -am \"Added another test file to demonstrate git features\"\n",
    "git status"
   ]
  },
  {
   "cell_type": "markdown",
   "metadata": {},
   "source": [
    "**Pause:** Make sure you really understand what the `-am` option does!"
   ]
  },
  {
   "cell_type": "markdown",
   "metadata": {},
   "source": [
    "At this point, we have committed a new file (`books.md`) to our new branch in our local repo.  Our remote repo is still not aware of this new file (or branch).  In fact, our `master` branch is still not really aware of this file.\n",
    "\n",
    "**Note:** There are really two options at this point:\n",
    "1. Push the current branch to our upstream repo.  This would correspond to a \"long-lived\" branch.  You may want to do this if you have a version of your code that you are maintaining.\n",
    "2. Merge the new branch into the local master branch.  Depending on your chosen workflow, this may happen _much_ more frequently than the first option.  You'll be creating branches all the time for little bug fixes and features.  You don't necessary want such branches to be \"long-lived\".  Once your feature is ready, you'll merge the feature branch into the `master` branch, `stage`, `commit`, and `push` (all on `master`).  Then you'll delete the \"short-lived\" feature branch.\n",
    "\n",
    "We'll continue with the first option for now and discuss the other option later."
   ]
  },
  {
   "cell_type": "markdown",
   "metadata": {},
   "source": [
    "### Long-lived branches"
   ]
  },
  {
   "cell_type": "markdown",
   "metadata": {},
   "source": [
    "Ok, we have committed. Lets try to push!"
   ]
  },
  {
   "cell_type": "code",
   "execution_count": 14,
   "metadata": {},
   "outputs": [
    {
     "name": "stderr",
     "output_type": "stream",
     "text": [
      "fatal: The current branch lecture4_exercise has no upstream branch.\n",
      "To push the current branch and set the remote as upstream, use\n",
      "\n",
      "    git push --set-upstream origin lecture4_exercise\n",
      "\n"
     ]
    },
    {
     "ename": "CalledProcessError",
     "evalue": "Command 'b'cd /tmp/cs207_david_sondak\\ngit push\\n'' returned non-zero exit status 128.",
     "output_type": "error",
     "traceback": [
      "\u001b[0;31m---------------------------------------------------------------------------\u001b[0m",
      "\u001b[0;31mCalledProcessError\u001b[0m                        Traceback (most recent call last)",
      "\u001b[0;32m<ipython-input-14-5c7726728118>\u001b[0m in \u001b[0;36m<module>\u001b[0;34m\u001b[0m\n\u001b[0;32m----> 1\u001b[0;31m \u001b[0mget_ipython\u001b[0m\u001b[0;34m(\u001b[0m\u001b[0;34m)\u001b[0m\u001b[0;34m.\u001b[0m\u001b[0mrun_cell_magic\u001b[0m\u001b[0;34m(\u001b[0m\u001b[0;34m'bash'\u001b[0m\u001b[0;34m,\u001b[0m \u001b[0;34m''\u001b[0m\u001b[0;34m,\u001b[0m \u001b[0;34m'cd /tmp/cs207_david_sondak\\ngit push\\n'\u001b[0m\u001b[0;34m)\u001b[0m\u001b[0;34m\u001b[0m\u001b[0;34m\u001b[0m\u001b[0m\n\u001b[0m",
      "\u001b[0;32m~/anaconda3/lib/python3.6/site-packages/IPython/core/interactiveshell.py\u001b[0m in \u001b[0;36mrun_cell_magic\u001b[0;34m(self, magic_name, line, cell)\u001b[0m\n\u001b[1;32m   2319\u001b[0m             \u001b[0mmagic_arg_s\u001b[0m \u001b[0;34m=\u001b[0m \u001b[0mself\u001b[0m\u001b[0;34m.\u001b[0m\u001b[0mvar_expand\u001b[0m\u001b[0;34m(\u001b[0m\u001b[0mline\u001b[0m\u001b[0;34m,\u001b[0m \u001b[0mstack_depth\u001b[0m\u001b[0;34m)\u001b[0m\u001b[0;34m\u001b[0m\u001b[0;34m\u001b[0m\u001b[0m\n\u001b[1;32m   2320\u001b[0m             \u001b[0;32mwith\u001b[0m \u001b[0mself\u001b[0m\u001b[0;34m.\u001b[0m\u001b[0mbuiltin_trap\u001b[0m\u001b[0;34m:\u001b[0m\u001b[0;34m\u001b[0m\u001b[0;34m\u001b[0m\u001b[0m\n\u001b[0;32m-> 2321\u001b[0;31m                 \u001b[0mresult\u001b[0m \u001b[0;34m=\u001b[0m \u001b[0mfn\u001b[0m\u001b[0;34m(\u001b[0m\u001b[0mmagic_arg_s\u001b[0m\u001b[0;34m,\u001b[0m \u001b[0mcell\u001b[0m\u001b[0;34m)\u001b[0m\u001b[0;34m\u001b[0m\u001b[0;34m\u001b[0m\u001b[0m\n\u001b[0m\u001b[1;32m   2322\u001b[0m             \u001b[0;32mreturn\u001b[0m \u001b[0mresult\u001b[0m\u001b[0;34m\u001b[0m\u001b[0;34m\u001b[0m\u001b[0m\n\u001b[1;32m   2323\u001b[0m \u001b[0;34m\u001b[0m\u001b[0m\n",
      "\u001b[0;32m~/anaconda3/lib/python3.6/site-packages/IPython/core/magics/script.py\u001b[0m in \u001b[0;36mnamed_script_magic\u001b[0;34m(line, cell)\u001b[0m\n\u001b[1;32m    140\u001b[0m             \u001b[0;32melse\u001b[0m\u001b[0;34m:\u001b[0m\u001b[0;34m\u001b[0m\u001b[0;34m\u001b[0m\u001b[0m\n\u001b[1;32m    141\u001b[0m                 \u001b[0mline\u001b[0m \u001b[0;34m=\u001b[0m \u001b[0mscript\u001b[0m\u001b[0;34m\u001b[0m\u001b[0;34m\u001b[0m\u001b[0m\n\u001b[0;32m--> 142\u001b[0;31m             \u001b[0;32mreturn\u001b[0m \u001b[0mself\u001b[0m\u001b[0;34m.\u001b[0m\u001b[0mshebang\u001b[0m\u001b[0;34m(\u001b[0m\u001b[0mline\u001b[0m\u001b[0;34m,\u001b[0m \u001b[0mcell\u001b[0m\u001b[0;34m)\u001b[0m\u001b[0;34m\u001b[0m\u001b[0;34m\u001b[0m\u001b[0m\n\u001b[0m\u001b[1;32m    143\u001b[0m \u001b[0;34m\u001b[0m\u001b[0m\n\u001b[1;32m    144\u001b[0m         \u001b[0;31m# write a basic docstring:\u001b[0m\u001b[0;34m\u001b[0m\u001b[0;34m\u001b[0m\u001b[0;34m\u001b[0m\u001b[0m\n",
      "\u001b[0;32m<decorator-gen-109>\u001b[0m in \u001b[0;36mshebang\u001b[0;34m(self, line, cell)\u001b[0m\n",
      "\u001b[0;32m~/anaconda3/lib/python3.6/site-packages/IPython/core/magic.py\u001b[0m in \u001b[0;36m<lambda>\u001b[0;34m(f, *a, **k)\u001b[0m\n\u001b[1;32m    185\u001b[0m     \u001b[0;31m# but it's overkill for just that one bit of state.\u001b[0m\u001b[0;34m\u001b[0m\u001b[0;34m\u001b[0m\u001b[0;34m\u001b[0m\u001b[0m\n\u001b[1;32m    186\u001b[0m     \u001b[0;32mdef\u001b[0m \u001b[0mmagic_deco\u001b[0m\u001b[0;34m(\u001b[0m\u001b[0marg\u001b[0m\u001b[0;34m)\u001b[0m\u001b[0;34m:\u001b[0m\u001b[0;34m\u001b[0m\u001b[0;34m\u001b[0m\u001b[0m\n\u001b[0;32m--> 187\u001b[0;31m         \u001b[0mcall\u001b[0m \u001b[0;34m=\u001b[0m \u001b[0;32mlambda\u001b[0m \u001b[0mf\u001b[0m\u001b[0;34m,\u001b[0m \u001b[0;34m*\u001b[0m\u001b[0ma\u001b[0m\u001b[0;34m,\u001b[0m \u001b[0;34m**\u001b[0m\u001b[0mk\u001b[0m\u001b[0;34m:\u001b[0m \u001b[0mf\u001b[0m\u001b[0;34m(\u001b[0m\u001b[0;34m*\u001b[0m\u001b[0ma\u001b[0m\u001b[0;34m,\u001b[0m \u001b[0;34m**\u001b[0m\u001b[0mk\u001b[0m\u001b[0;34m)\u001b[0m\u001b[0;34m\u001b[0m\u001b[0;34m\u001b[0m\u001b[0m\n\u001b[0m\u001b[1;32m    188\u001b[0m \u001b[0;34m\u001b[0m\u001b[0m\n\u001b[1;32m    189\u001b[0m         \u001b[0;32mif\u001b[0m \u001b[0mcallable\u001b[0m\u001b[0;34m(\u001b[0m\u001b[0marg\u001b[0m\u001b[0;34m)\u001b[0m\u001b[0;34m:\u001b[0m\u001b[0;34m\u001b[0m\u001b[0;34m\u001b[0m\u001b[0m\n",
      "\u001b[0;32m~/anaconda3/lib/python3.6/site-packages/IPython/core/magics/script.py\u001b[0m in \u001b[0;36mshebang\u001b[0;34m(self, line, cell)\u001b[0m\n\u001b[1;32m    243\u001b[0m             \u001b[0msys\u001b[0m\u001b[0;34m.\u001b[0m\u001b[0mstderr\u001b[0m\u001b[0;34m.\u001b[0m\u001b[0mflush\u001b[0m\u001b[0;34m(\u001b[0m\u001b[0;34m)\u001b[0m\u001b[0;34m\u001b[0m\u001b[0;34m\u001b[0m\u001b[0m\n\u001b[1;32m    244\u001b[0m         \u001b[0;32mif\u001b[0m \u001b[0margs\u001b[0m\u001b[0;34m.\u001b[0m\u001b[0mraise_error\u001b[0m \u001b[0;32mand\u001b[0m \u001b[0mp\u001b[0m\u001b[0;34m.\u001b[0m\u001b[0mreturncode\u001b[0m\u001b[0;34m!=\u001b[0m\u001b[0;36m0\u001b[0m\u001b[0;34m:\u001b[0m\u001b[0;34m\u001b[0m\u001b[0;34m\u001b[0m\u001b[0m\n\u001b[0;32m--> 245\u001b[0;31m             \u001b[0;32mraise\u001b[0m \u001b[0mCalledProcessError\u001b[0m\u001b[0;34m(\u001b[0m\u001b[0mp\u001b[0m\u001b[0;34m.\u001b[0m\u001b[0mreturncode\u001b[0m\u001b[0;34m,\u001b[0m \u001b[0mcell\u001b[0m\u001b[0;34m,\u001b[0m \u001b[0moutput\u001b[0m\u001b[0;34m=\u001b[0m\u001b[0mout\u001b[0m\u001b[0;34m,\u001b[0m \u001b[0mstderr\u001b[0m\u001b[0;34m=\u001b[0m\u001b[0merr\u001b[0m\u001b[0;34m)\u001b[0m\u001b[0;34m\u001b[0m\u001b[0;34m\u001b[0m\u001b[0m\n\u001b[0m\u001b[1;32m    246\u001b[0m \u001b[0;34m\u001b[0m\u001b[0m\n\u001b[1;32m    247\u001b[0m     \u001b[0;32mdef\u001b[0m \u001b[0m_run_script\u001b[0m\u001b[0;34m(\u001b[0m\u001b[0mself\u001b[0m\u001b[0;34m,\u001b[0m \u001b[0mp\u001b[0m\u001b[0;34m,\u001b[0m \u001b[0mcell\u001b[0m\u001b[0;34m,\u001b[0m \u001b[0mto_close\u001b[0m\u001b[0;34m)\u001b[0m\u001b[0;34m:\u001b[0m\u001b[0;34m\u001b[0m\u001b[0;34m\u001b[0m\u001b[0m\n",
      "\u001b[0;31mCalledProcessError\u001b[0m: Command 'b'cd /tmp/cs207_david_sondak\\ngit push\\n'' returned non-zero exit status 128."
     ]
    }
   ],
   "source": [
    "%%bash\n",
    "cd /tmp/cs207_david_sondak\n",
    "git push"
   ]
  },
  {
   "cell_type": "markdown",
   "metadata": {},
   "source": [
    "Fail! Why? Because `git` didn't know what to push to on `origin` (the name of our remote repo) and didn't want to assume we wanted to call the branch `lecture4_exercise` on the remote. We need to tell that to `git` explicitly (just like it tells us to)."
   ]
  },
  {
   "cell_type": "code",
   "execution_count": 15,
   "metadata": {},
   "outputs": [
    {
     "name": "stdout",
     "output_type": "stream",
     "text": [
      "Branch 'lecture4_exercise' set up to track remote branch 'lecture4_exercise' from 'origin'.\n"
     ]
    },
    {
     "name": "stderr",
     "output_type": "stream",
     "text": [
      "remote: \n",
      "remote: Create a pull request for 'lecture4_exercise' on GitHub by visiting:        \n",
      "remote:      https://github.com/dsondak/cs207_david_sondak/pull/new/lecture4_exercise        \n",
      "remote: \n",
      "To https://github.com/dsondak/cs207_david_sondak.git\n",
      " * [new branch]      lecture4_exercise -> lecture4_exercise\n"
     ]
    }
   ],
   "source": [
    "%%bash\n",
    "cd /tmp/cs207_david_sondak\n",
    "git push --set-upstream origin lecture4_exercise"
   ]
  },
  {
   "cell_type": "markdown",
   "metadata": {},
   "source": [
    "Aha, now we have both a remote and a local for `lecture4_exercise`.  We can use the convenient arguments to `branch` in order to see the details of all the branches."
   ]
  },
  {
   "cell_type": "code",
   "execution_count": 16,
   "metadata": {},
   "outputs": [
    {
     "name": "stdout",
     "output_type": "stream",
     "text": [
      "* lecture4_exercise                06c0fbd [origin/lecture4_exercise] Added another test file to demonstrate git features\n",
      "  master                           f617a3f [origin/master] FALL 2018 materials.\n",
      "  remotes/origin/HEAD              -> origin/master\n",
      "  remotes/origin/ad-project        7574906 Printing out lots of decimal places in the root.\n",
      "  remotes/origin/gh-pages          36aa8a1 Shifted schedule around.\n",
      "  remotes/origin/lecture4_exercise 06c0fbd Added another test file to demonstrate git features\n",
      "  remotes/origin/master            f617a3f FALL 2018 materials.\n",
      "  remotes/origin/tim               4bc23fb Added MathCS207.py\n"
     ]
    }
   ],
   "source": [
    "%%bash\n",
    "cd /tmp/cs207_david_sondak\n",
    "git branch -avv"
   ]
  },
  {
   "cell_type": "markdown",
   "metadata": {},
   "source": [
    "We make sure we are back on master"
   ]
  },
  {
   "cell_type": "code",
   "execution_count": 17,
   "metadata": {},
   "outputs": [
    {
     "name": "stdout",
     "output_type": "stream",
     "text": [
      "Your branch is up to date with 'origin/master'.\n"
     ]
    },
    {
     "name": "stderr",
     "output_type": "stream",
     "text": [
      "Switched to branch 'master'\n"
     ]
    }
   ],
   "source": [
    "%%bash\n",
    "cd /tmp/cs207_david_sondak\n",
    "git checkout master"
   ]
  },
  {
   "cell_type": "markdown",
   "metadata": {},
   "source": [
    "What have we done?\n",
    "\n",
    "We created a new local branch, created a file on it, created that same branch on our remote repo, and pushed all the changes.  Finally, we went back to our `master` branch to continue work there."
   ]
  },
  {
   "cell_type": "markdown",
   "metadata": {},
   "source": [
    "### Deliverables\n",
    "The deliverables for this part are the `lecture4_exercise` branch in the remote course repo.\n",
    "\n",
    "**Warning:** You shouldn't `push` to `master` for this excercise because the file that you created isn't really needed in your course repo."
   ]
  },
  {
   "cell_type": "markdown",
   "metadata": {},
   "source": [
    "### Short-lived branches"
   ]
  },
  {
   "cell_type": "markdown",
   "metadata": {},
   "source": [
    "Now we'll look into option 2 above.  Suppose we want to add a feature to our repo.  We'll create a new branch to work on that feature, but we don't want this branch to be long-lived.  Here's how we can accomplish that.  \n",
    "\n",
    "We'll go a little faster this time since you've seen all these commands before.  Even though we're going a little faster this time, make sure you understand what you're doing!  Don't just copy and paste!!"
   ]
  },
  {
   "cell_type": "code",
   "execution_count": 18,
   "metadata": {},
   "outputs": [
    {
     "name": "stderr",
     "output_type": "stream",
     "text": [
      "Switched to a new branch 'feature-branch'\n"
     ]
    }
   ],
   "source": [
    "%%bash\n",
    "cd /tmp/cs207_david_sondak\n",
    "git checkout -b feature-branch"
   ]
  },
  {
   "cell_type": "code",
   "execution_count": 19,
   "metadata": {},
   "outputs": [
    {
     "name": "stdout",
     "output_type": "stream",
     "text": [
      "* feature-branch\n",
      "  lecture4_exercise\n",
      "  master\n"
     ]
    }
   ],
   "source": [
    "%%bash\n",
    "cd /tmp/cs207_david_sondak\n",
    "git branch"
   ]
  },
  {
   "cell_type": "markdown",
   "metadata": {},
   "source": [
    "### WARNING\n",
    "Do not copy the next several lines!  The example I'm giving here will be slightly different from what you will do (although all the steps will be the same).\n",
    "\n",
    "#### Your requirements\n",
    "Edit your `README.md` by including a subsection (level 2 Markdown header) called `Content`.  Under the `Content` section, create a bulleted list where each bullet is a directory name (e.g. `lectures`, `homeworks`, etc).  Provide a one-sentence description next to each bullet title.\n",
    "\n",
    "The difference between what I do below and what you will do is that you will be working with the `README.md` file and I created a new file called `feature.txt`."
   ]
  },
  {
   "cell_type": "code",
   "execution_count": 20,
   "metadata": {},
   "outputs": [],
   "source": [
    "%%bash\n",
    "cd /tmp/cs207_david_sondak\n",
    "echo '# The collected works of G.R.R. Martin.' > feature.txt"
   ]
  },
  {
   "cell_type": "code",
   "execution_count": 21,
   "metadata": {},
   "outputs": [
    {
     "name": "stdout",
     "output_type": "stream",
     "text": [
      "On branch feature-branch\n",
      "Untracked files:\n",
      "  (use \"git add <file>...\" to include in what will be committed)\n",
      "\n",
      "\tfeature.txt\n",
      "\n",
      "nothing added to commit but untracked files present (use \"git add\" to track)\n"
     ]
    }
   ],
   "source": [
    "%%bash\n",
    "cd /tmp/cs207_david_sondak\n",
    "git status"
   ]
  },
  {
   "cell_type": "code",
   "execution_count": 22,
   "metadata": {},
   "outputs": [
    {
     "name": "stdout",
     "output_type": "stream",
     "text": [
      "[feature-branch a10e6ec] George finished his books!\n",
      " 1 file changed, 1 insertion(+)\n",
      " create mode 100644 feature.txt\n"
     ]
    }
   ],
   "source": [
    "%%bash\n",
    "cd /tmp/cs207_david_sondak\n",
    "git add feature.txt\n",
    "git commit -m 'George finished his books!'"
   ]
  },
  {
   "cell_type": "markdown",
   "metadata": {},
   "source": [
    "At this point, we've committed our new feature to our feature branch in our local repo.  Presumably it's all tested and everything is working nicely.  We'd like to merge it into our `master` branch now.  First, we'll switch to the `master` branch."
   ]
  },
  {
   "cell_type": "code",
   "execution_count": 23,
   "metadata": {},
   "outputs": [
    {
     "name": "stdout",
     "output_type": "stream",
     "text": [
      "Your branch is up to date with 'origin/master'.\n",
      "LICENSE\n",
      "README.md\n",
      "homeworks\n",
      "lectures\n",
      "legacy\n",
      "notes\n",
      "project\n",
      "supplementary-python\n"
     ]
    },
    {
     "name": "stderr",
     "output_type": "stream",
     "text": [
      "Switched to branch 'master'\n"
     ]
    }
   ],
   "source": [
    "%%bash\n",
    "cd /tmp/cs207_david_sondak\n",
    "git checkout master\n",
    "ls"
   ]
  },
  {
   "cell_type": "markdown",
   "metadata": {},
   "source": [
    "The `master` branch doesn't have any idea about our new feature yet!  We should merge the feature branch into the `master` branch."
   ]
  },
  {
   "cell_type": "code",
   "execution_count": 24,
   "metadata": {},
   "outputs": [
    {
     "name": "stdout",
     "output_type": "stream",
     "text": [
      "Updating f617a3f..a10e6ec\n",
      "Fast-forward\n",
      " feature.txt | 1 +\n",
      " 1 file changed, 1 insertion(+)\n",
      " create mode 100644 feature.txt\n"
     ]
    }
   ],
   "source": [
    "%%bash\n",
    "cd /tmp/cs207_david_sondak\n",
    "git merge feature-branch"
   ]
  },
  {
   "cell_type": "code",
   "execution_count": 25,
   "metadata": {},
   "outputs": [
    {
     "name": "stdout",
     "output_type": "stream",
     "text": [
      "On branch master\n",
      "Your branch is ahead of 'origin/master' by 1 commit.\n",
      "  (use \"git push\" to publish your local commits)\n",
      "\n",
      "nothing to commit, working tree clean\n",
      "LICENSE\n",
      "README.md\n",
      "feature.txt\n",
      "homeworks\n",
      "lectures\n",
      "legacy\n",
      "notes\n",
      "project\n",
      "supplementary-python\n"
     ]
    }
   ],
   "source": [
    "%%bash\n",
    "cd /tmp/cs207_david_sondak\n",
    "git status\n",
    "ls"
   ]
  },
  {
   "cell_type": "markdown",
   "metadata": {},
   "source": [
    "Now our `master` branch is up to date with our feature branch.  We can now delete our feature branch since it is no longer relevant."
   ]
  },
  {
   "cell_type": "code",
   "execution_count": 26,
   "metadata": {},
   "outputs": [
    {
     "name": "stdout",
     "output_type": "stream",
     "text": [
      "Deleted branch feature-branch (was a10e6ec).\n"
     ]
    }
   ],
   "source": [
    "%%bash\n",
    "cd /tmp/cs207_david_sondak\n",
    "git branch -d feature-branch"
   ]
  },
  {
   "cell_type": "markdown",
   "metadata": {},
   "source": [
    "Finally, let's push the changes to our remote repo."
   ]
  },
  {
   "cell_type": "code",
   "execution_count": null,
   "metadata": {},
   "outputs": [],
   "source": [
    "%%bash\n",
    "cd /tmp/cs207_david_sondak\n",
    "git push"
   ]
  },
  {
   "cell_type": "markdown",
   "metadata": {},
   "source": [
    "Great, so now you have a basic understanding of how to work with branches.  There is much more to learn, but these commands should get you going.  You should really familiarize yourself with Chapter 3 of the [`Git` book](https://git-scm.com/book/en/v2/Git-Branching-Basic-Branching-and-Merging) for more details and workflow ideas."
   ]
  },
  {
   "cell_type": "markdown",
   "metadata": {},
   "source": [
    "### Deliverables\n",
    "For this part, your deliverable is an updated `README.md` file on your `master` branch in your remote course repo."
   ]
  },
  {
   "cell_type": "markdown",
   "metadata": {},
   "source": [
    "## Merge Conflicts"
   ]
  },
  {
   "cell_type": "markdown",
   "metadata": {},
   "source": [
    "You already have experience with merge conflicts from the first homework assignment.  Let's do it one more time under supervision, just a bit faster this time.  After this, you're on your own."
   ]
  },
  {
   "cell_type": "markdown",
   "metadata": {},
   "source": [
    "### Setting up\n",
    "Choose a partner to work with.  Please add them as a collaborator on your `playground` repo.  One of you should clone the other's playground repo.  For example, suppose Sally and Joe decide to work together.  Together, they decide that Joe will clone Sally's playground repo.  This should be done in your `Classes/CS207/` directory somewhere.  It's up to you where, just try to be organized."
   ]
  },
  {
   "cell_type": "markdown",
   "metadata": {},
   "source": [
    "### Making Some Changes\n",
    "Each partner should make some changes to the playground repo.  The easiest way to do this to start will be to change the title of the `README.md` file.  For the sake of the exercise, each partner should make the title of the `README.md` file something different.  Feel free to do something more creative / interesting.\n",
    "\n",
    "**Reminder:** One partner will be working from their original playground repo while the other partner will be working from the newly cloned playground repo.\n",
    "\n",
    "Once you've each made the changes, please try to stage-commit-push.  This should work without a problem for one of the partners.  The other partner should get an error similar to:\n",
    "\n",
    "```\n",
    "To https://github.com/dsondak/playground.git\n",
    " ! [rejected]        master -> master (fetch first)\n",
    "error: failed to push some refs to 'https://github.com/dsondak/playground.git'\n",
    "hint: Updates were rejected because the remote contains work that you do\n",
    "hint: not have locally. This is usually caused by another repository pushing\n",
    "hint: to the same ref. You may want to first integrate the remote changes\n",
    "hint: (e.g., 'git pull ...') before pushing again.\n",
    "hint: See the 'Note about fast-forwards' in 'git push --help' for details.\n",
    "```\n",
    "\n",
    "The second partner realizes that they've made a mistake.  **Always** fetch and merge (or pull) from the remote repo before doing your work for the day or pushing your recent changes.  However, perhaps you're a little nervous since it only took you a minute to make your changes.  You should realize that someone else probably did a push in the meantime.  Nevertheless, you decide to proceed."
   ]
  },
  {
   "cell_type": "markdown",
   "metadata": {},
   "source": [
    "### Resolving Some Conflicts\n",
    "The partner who failed to push should try to do a `fetch-merge` sequence.  Try out the following command:\n",
    "```bash\n",
    "git fetch\n",
    "git merge origin/master\n",
    "```\n",
    "Think about what these commands are doing!  Can you explain them?\n",
    "\n",
    "You should get an error message similar to:\n",
    "```\n",
    "Auto-merging intro.md\n",
    "CONFLICT (add/add): Merge conflict in intro.md\n",
    "Automatic merge failed; fix conflicts and then commit the result.\n",
    "From https://github.com/dsondak/playground\n",
    "   999fd74..2658cab  master     -> origin/master\n",
    "```\n",
    "\n",
    "There is a conflict in `intro.md` [in this particular example, but yours might be slightly different] and `git` can't figure out how to resolve the conflict automatically.  It doesn't know who's right.  Instead, `git` produces a file that contains information about the conflict.\n",
    "\n",
    "Do a `cat` on the conflicted file.  You should see something like:\n",
    "```bash\n",
    "<<<<<<< HEAD\n",
    "# A Project by Joe\n",
    "=======\n",
    "# A Project by Sally\n",
    ">>>>>>> origin/master\n",
    "```\n",
    "\n",
    "The partner with the conflict knows that their partner is working on the same project as they are (they're teammates) so don't be alarmed.  \n",
    "\n",
    "#### Resolve the conflict\n",
    "Talk to your partner and decide on a new title for the `README.md` file.  Update the file and do a stage-commit-push sequence (with a good commit message!!) to update the remote repo.\n",
    "\n",
    "The merge conflict has been resolved!  Of course, the other parter's local repo doesn't yet know about what just happened.  They need to `fetch` and `merge` to get the updates.  **Do this now!**\n",
    "\n",
    "You should see output similar to:\n",
    "```\n",
    "Updating 2658cab..51c6b05\n",
    "Fast-forward\n",
    " intro.md | 2 +-\n",
    " 1 file changed, 1 insertion(+), 1 deletion(-)\n",
    "From https://github.com/dsondak/playground\n",
    "   2658cab..51c6b05  master     -> origin/master\n",
    "```\n",
    "\n",
    "**Observe:** This is reporting a *fast-forward* operation.  Why wasn't there another merge conflict?  Please explain."
   ]
  },
  {
   "cell_type": "markdown",
   "metadata": {},
   "source": [
    "### Comments\n",
    "\n",
    "#### So what actually happened here?\n",
    "[Note:  We'll use Joe and Sally to explain what's going on for clarity.]\n",
    "\n",
    "And as expected, `git` knows how to resolve this conflict. The reason `git` can resolve this conflict even though the files differ on the same line is that `git` has the commit history, too. When Sally made their original commit, they were given a commit hash (starting with 2658cab). When Joe resolved the merge conflict, Joe created a new commit hash (51c6b05) which unified the changes in commit 2658cab (Sally's original commit) and commit 3b934ee (Joe's original commit). Then, when Joe pushed, all of this information was given to the upstream repository. So `git` has a record stating that the merge resolution commit 51c6b05 is a subsequent commit to Sally's original changes in 2658cab. When Sally `fetch`ed the upstream repo, Sally got this information, too. So when Sally executed a `merge`, Sally was merging a predecessor (2658cab) with its direct successor (51c6b05), which `git` handles simply by using the successor.\n",
    "\n",
    "The tricky conflict resolution that Joe did was effectively a way of taking two separate branches and tying them together.\n",
    "\n",
    "#### One more note on binary files\n",
    "A problem that students sometimes run into occurs when they try to update their local repo from another repo _after_ some changes to a `.pdf` file have been made.\n",
    "\n",
    "One of the big lessons here is that versioning binary files with `git` requires some special tools.  In this case, the binary file was a `.pdf` document.  In another case it may be an executable file.\n",
    "\n",
    "The reason why binary files are difficult to version is because `git` must store the entire file again after each commit.  This is essentially a consequence of the fact that there is no clear way to `diff` binary files.  Hence, the `merg`ing operation has problems.\n",
    "\n",
    "There is extensive information around for the special tools `git` has for working with binary files.  For the particular case of `.pdf` files, you can use some special arguments to the `git checkout` command.  A nice discussion can be found at [https://stackoverflow.com/questions/278081/resolving-a-git-conflict-with-binary-files](https://stackoverflow.com/questions/278081/resolving-a-git-conflict-with-binary-files).\n",
    "\n",
    "My recommendation is that you try to stay away from versioning binary files.  I put them up on `git` because I will not be changing the lectures slides much (if at all) over the course of the semester and because the lecture slides do not take up much space (and will therefore not have much of an effect on the speed of `git`)."
   ]
  },
  {
   "cell_type": "markdown",
   "metadata": {},
   "source": [
    "## Git habits"
   ]
  },
  {
   "cell_type": "markdown",
   "metadata": {},
   "source": [
    "** * Commit early, commit often. * **\n",
    "\n",
    "Git is more effective when used at a fine granularity. For starters, you can't undo what you haven't committed, so committing lots of small changes makes it easier to find the right rollback point. Also, merging becomes a lot easier when you only have to deal with a handful of conflicts.\n",
    "\n",
    "** * Commit unrelated changes separately. * **\n",
    "\n",
    "Identifying the source of a bug or understanding the reason why a particular piece of code exists is much easier when commits focus on related changes. Some of this has to do with simplifying commit messages and making it easier to look through logs, but it has other related benefits: commits are smaller and simpler, and merge conflicts are confined to only the commits which actually have conflicting code.\n",
    "\n",
    "** * Do not commit binaries and other temporary files. * **\n",
    "\n",
    "Git is meant for tracking changes. In nearly all cases, the only meaningful difference between the contents of two binaries is that they are different. If you change source files, compile, and commit the resulting binary, git sees an entirely different file. The end result is that the git repository (which contains a complete history, remember) begins to become bloated with the history of many dissimilar binaries. Worse, there's often little advantage to keeping those files in the history. An argument can be made for periodically snapshotting working binaries, but things like object files, compiled python files, and editor auto-saves are basically wasted space.\n",
    "\n",
    "** * Ignore files which should not be committed * **\n",
    "\n",
    "Git comes with a built-in mechanism for ignoring certain types of files. Placing filenames or wildcards in a `.gitignore` file placed in the top-level directory (where the `.git` directory is also located) will cause git to ignore those files when checking file status. This is a good way to ensure you don't commit the wrong files accidentally, and it also makes the output of `git status` somewhat cleaner.\n",
    "\n",
    "** * Always make a branch for new changes * **\n",
    "\n",
    "While it's tempting to work on new code directly in the `master` branch, it's usually a good idea to create a new one instead, especially for team-based projects. The major advantage to this practice is that it keeps logically disparate change sets separate. This means that if two people are working on improvements in two different branches, when they merge, the actual workflow is reflected in the git history. Plus, explicitly creating branches adds some semantic meaning to your branch structure. Moreover, there is very little difference in how you use git.\n",
    "\n",
    "** * Write good commit messages * **\n",
    "\n",
    "I cannot understate the importance of this.\n",
    "\n",
    "** Seriously. Write good commit messages. **"
   ]
  }
 ],
 "metadata": {
  "celltoolbar": "Slideshow",
  "kernelspec": {
   "display_name": "Python 3",
   "language": "python",
   "name": "python3"
  },
  "language_info": {
   "codemirror_mode": {
    "name": "ipython",
    "version": 3
   },
   "file_extension": ".py",
   "mimetype": "text/x-python",
   "name": "python",
   "nbconvert_exporter": "python",
   "pygments_lexer": "ipython3",
   "version": "3.6.7"
  }
 },
 "nbformat": 4,
 "nbformat_minor": 2
}
