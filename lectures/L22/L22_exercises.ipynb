{
 "cells": [
  {
   "cell_type": "markdown",
   "metadata": {
    "slideshow": {
     "slide_type": "slide"
    }
   },
   "source": [
    "# Lecture 22\n",
    "## Thursday, November 19th, 2019\n",
    "### Databases II"
   ]
  },
  {
   "cell_type": "markdown",
   "metadata": {},
   "source": [
    "# `SQLite` Exercises\n",
    "Today you will work with the `candidates` and `contributors` datasets to create a database in `Python` using `SQLite`.  This is a hands-on lecture.  The result will be a Python file.\n",
    "\n",
    "The exercises will consist of a sequence of steps to help illustrate basic commands."
   ]
  },
  {
   "cell_type": "markdown",
   "metadata": {
    "slideshow": {
     "slide_type": "subslide"
    }
   },
   "source": [
    "<a id='deliverables'></a>\n",
    "# Exercise Deliverables\n",
    "1. Make a copy of this notebook and call it `L22_Exercises.ipynb.`\n",
    "2. For each step in this lecture notebook, there are instructions labeled \"**Do the following:**\".  Put all the code from those instructions in a single cell immediately following the instructions.  It should look like a `Python` script.  You *must* comment where appropriate to demonstrate that you understand what you are doing.\n",
    "   - **Note:** To get the pandas tables to display in a cell, use `display()`.\n",
    "3. Save and close your database.  Be sure to upload your database with the lecture exercises.  You must name your database **`L22DB.sqlite`**."
   ]
  },
  {
   "cell_type": "markdown",
   "metadata": {},
   "source": [
    "## Table of Contents\n",
    "[Setting the Stage](#setting_the_stage)\n",
    "\n",
    "[Step 1](#step_1)\n",
    "\n",
    "[Interlude](#interlude): Not required but highly recommended.\n",
    "\n",
    "[Step 2](#step_2)\n",
    "\n",
    "[Step 3](#step_3)\n",
    "\n",
    "[Step 4](#step_4)\n",
    "\n",
    "[Step 5](#step_5)\n",
    "\n",
    "[Step 6](#step_6)\n",
    "\n",
    "[Step 7](#step_7)\n",
    "\n",
    "[Step 8](#step_8)"
   ]
  },
  {
   "cell_type": "markdown",
   "metadata": {},
   "source": [
    "---"
   ]
  },
  {
   "cell_type": "markdown",
   "metadata": {},
   "source": [
    "<a id='setting_the_stage'></a>\n",
    "# Setting the Stage\n",
    "You should import `sqlite3` again like last time."
   ]
  },
  {
   "cell_type": "markdown",
   "metadata": {},
   "source": [
    "What if we want to rename or delete a columm?  It can't be done with `SQLite` with a single command.  We need to follow some roundabout steps (see [`SQLite` ALTER TABLE](http://www.sqlitetutorial.net/sqlite-alter-table/)).  We won't consider this case at the moment."
   ]
  },
  {
   "cell_type": "code",
   "execution_count": 8,
   "metadata": {},
   "outputs": [
    {
     "name": "stdout",
     "output_type": "stream",
     "text": [
      "Requirement already satisfied: pandas in /Library/Frameworks/Python.framework/Versions/3.8/lib/python3.8/site-packages (0.23.4)\n",
      "Requirement already satisfied: python-dateutil>=2.5.0 in /Library/Frameworks/Python.framework/Versions/3.8/lib/python3.8/site-packages (from pandas) (2.8.0)\n",
      "Requirement already satisfied: pytz>=2011k in /Library/Frameworks/Python.framework/Versions/3.8/lib/python3.8/site-packages (from pandas) (2019.3)\n",
      "Requirement already satisfied: numpy>=1.9.0 in /Library/Frameworks/Python.framework/Versions/3.8/lib/python3.8/site-packages (from pandas) (1.17.4)\n",
      "Requirement already satisfied: six>=1.5 in /Users/stephenmoon/Library/Python/3.8/lib/python/site-packages (from python-dateutil>=2.5.0->pandas) (1.12.0)\n",
      "\u001b[33mWARNING: You are using pip version 19.2.3, however version 19.3.1 is available.\n",
      "You should consider upgrading via the 'pip install --upgrade pip' command.\u001b[0m\n"
     ]
    }
   ],
   "source": [
    "import sqlite3\n",
    "!pip3 install pandas"
   ]
  },
  {
   "cell_type": "markdown",
   "metadata": {},
   "source": [
    "We will also use a basic a `pandas` feature to display tables in the database.  Although this lecture isn't on `pandas`, I will still have you use it a little bit."
   ]
  },
  {
   "cell_type": "code",
   "execution_count": 9,
   "metadata": {},
   "outputs": [
    {
     "ename": "ModuleNotFoundError",
     "evalue": "No module named 'pandas'",
     "output_type": "error",
     "traceback": [
      "\u001b[0;31m---------------------------------------------------------------------------\u001b[0m",
      "\u001b[0;31mModuleNotFoundError\u001b[0m                       Traceback (most recent call last)",
      "\u001b[0;32m<ipython-input-9-d449578b2256>\u001b[0m in \u001b[0;36m<module>\u001b[0;34m\u001b[0m\n\u001b[0;32m----> 1\u001b[0;31m \u001b[0;32mimport\u001b[0m \u001b[0mpandas\u001b[0m \u001b[0;32mas\u001b[0m \u001b[0mpd\u001b[0m\u001b[0;34m\u001b[0m\u001b[0;34m\u001b[0m\u001b[0m\n\u001b[0m\u001b[1;32m      2\u001b[0m \u001b[0mpd\u001b[0m\u001b[0;34m.\u001b[0m\u001b[0mset_option\u001b[0m\u001b[0;34m(\u001b[0m\u001b[0;34m'display.width'\u001b[0m\u001b[0;34m,\u001b[0m \u001b[0;36m500\u001b[0m\u001b[0;34m)\u001b[0m\u001b[0;34m\u001b[0m\u001b[0;34m\u001b[0m\u001b[0m\n\u001b[1;32m      3\u001b[0m \u001b[0mpd\u001b[0m\u001b[0;34m.\u001b[0m\u001b[0mset_option\u001b[0m\u001b[0;34m(\u001b[0m\u001b[0;34m'display.max_columns'\u001b[0m\u001b[0;34m,\u001b[0m \u001b[0;36m100\u001b[0m\u001b[0;34m)\u001b[0m\u001b[0;34m\u001b[0m\u001b[0;34m\u001b[0m\u001b[0m\n\u001b[1;32m      4\u001b[0m \u001b[0mpd\u001b[0m\u001b[0;34m.\u001b[0m\u001b[0mset_option\u001b[0m\u001b[0;34m(\u001b[0m\u001b[0;34m'display.notebook_repr_html'\u001b[0m\u001b[0;34m,\u001b[0m \u001b[0;32mTrue\u001b[0m\u001b[0;34m)\u001b[0m\u001b[0;34m\u001b[0m\u001b[0;34m\u001b[0m\u001b[0m\n\u001b[1;32m      5\u001b[0m \u001b[0;34m\u001b[0m\u001b[0m\n",
      "\u001b[0;31mModuleNotFoundError\u001b[0m: No module named 'pandas'"
     ]
    }
   ],
   "source": [
    "import pandas as pd\n",
    "pd.set_option('display.width', 500)\n",
    "pd.set_option('display.max_columns', 100)\n",
    "pd.set_option('display.notebook_repr_html', True)\n",
    "\n",
    "from IPython.display import display"
   ]
  },
  {
   "cell_type": "markdown",
   "metadata": {},
   "source": [
    "Now we create the tables in the database (just like last time)."
   ]
  },
  {
   "cell_type": "code",
   "execution_count": 29,
   "metadata": {},
   "outputs": [],
   "source": [
    "db = sqlite3.connect('L22DB_demo.sqlite')\n",
    "cursor = db.cursor()\n",
    "cursor.execute(\"DROP TABLE IF EXISTS candidates\")\n",
    "cursor.execute(\"DROP TABLE IF EXISTS contributors\")\n",
    "cursor.execute(\"PRAGMA foreign_keys=1\")\n",
    "\n",
    "cursor.execute('''CREATE TABLE candidates (\n",
    "               id INTEGER PRIMARY KEY NOT NULL, \n",
    "               first_name TEXT, \n",
    "               last_name TEXT, \n",
    "               middle_init TEXT, \n",
    "               party TEXT NOT NULL)''')\n",
    "\n",
    "db.commit() # Commit changes to the database\n",
    "\n",
    "cursor.execute('''CREATE TABLE contributors (\n",
    "          id INTEGER PRIMARY KEY AUTOINCREMENT NOT NULL, \n",
    "          last_name TEXT, \n",
    "          first_name TEXT, \n",
    "          middle_name TEXT, \n",
    "          street_1 TEXT, \n",
    "          street_2 TEXT, \n",
    "          city TEXT, \n",
    "          state TEXT, \n",
    "          zip TEXT, \n",
    "          amount REAL, \n",
    "          date DATETIME, \n",
    "          candidate_id INTEGER NOT NULL, \n",
    "          FOREIGN KEY(candidate_id) REFERENCES candidates(id))''')\n",
    "\n",
    "db.commit()"
   ]
  },
  {
   "cell_type": "markdown",
   "metadata": {},
   "source": [
    "<a id='step_1'></a>\n",
    "# Step 1\n",
    "Read `candidates.txt` and `contributors.txt` and insert their values into the respective tables."
   ]
  },
  {
   "cell_type": "code",
   "execution_count": 30,
   "metadata": {},
   "outputs": [],
   "source": [
    "with open (\"candidates.txt\") as candidates:\n",
    "    next(candidates) # jump over the header\n",
    "    for line in candidates.readlines():\n",
    "        cid, first_name, last_name, middle_name, party = line.strip().split('|')\n",
    "        vals_to_insert = (int(cid), first_name, last_name, middle_name, party)\n",
    "        cursor.execute('''INSERT INTO candidates \n",
    "                  (id, first_name, last_name, middle_init, party)\n",
    "                  VALUES (?, ?, ?, ?, ?)''', vals_to_insert)"
   ]
  },
  {
   "cell_type": "code",
   "execution_count": 31,
   "metadata": {},
   "outputs": [],
   "source": [
    "with open (\"contributors.txt\") as contributors:\n",
    "    next(contributors)\n",
    "    for line in contributors.readlines():\n",
    "        cid, last_name, first_name, middle_name, street_1, street_2, \\\n",
    "            city, state, zip_code, amount, date, candidate_id = line.strip().split('|')\n",
    "        vals_to_insert = (last_name, first_name, middle_name, street_1, street_2, \n",
    "                          city, state, int(zip_code), amount, date, candidate_id)\n",
    "        cursor.execute('''INSERT INTO contributors (last_name, first_name, middle_name, \n",
    "                           street_1, street_2, city, state, zip, amount, date, candidate_id) \n",
    "                           VALUES (?, ?, ?, ?, ?, ?, ?, ?, ?, ?, ?)''', vals_to_insert)"
   ]
  },
  {
   "cell_type": "markdown",
   "metadata": {},
   "source": [
    "---"
   ]
  },
  {
   "cell_type": "markdown",
   "metadata": {},
   "source": [
    "<a id='interlude'></a>\n",
    "## Interlude\n",
    "Now that you have values in the tables of the database, it would be convenient to be able to visualize those tables in some way.  We'll write a little helper function to accomplish this."
   ]
  },
  {
   "cell_type": "code",
   "execution_count": 32,
   "metadata": {},
   "outputs": [],
   "source": [
    "def viz_tables(cols, query):\n",
    "    q = cursor.execute(query).fetchall()\n",
    "    framelist = dict()\n",
    "    for i, col_name in enumerate(cols):\n",
    "        framelist[col_name] = [row[i] for row in q]\n",
    "    return pd.DataFrame.from_dict(framelist)"
   ]
  },
  {
   "cell_type": "markdown",
   "metadata": {},
   "source": [
    "Here's how we can use our helper function.  It gives a pretty nice visualization of our table.  You should do the same thing with the `contributors` table."
   ]
  },
  {
   "cell_type": "code",
   "execution_count": 33,
   "metadata": {},
   "outputs": [
    {
     "ename": "NameError",
     "evalue": "name 'pd' is not defined",
     "output_type": "error",
     "traceback": [
      "\u001b[0;31m---------------------------------------------------------------------------\u001b[0m",
      "\u001b[0;31mNameError\u001b[0m                                 Traceback (most recent call last)",
      "\u001b[0;32m<ipython-input-33-5168bab27386>\u001b[0m in \u001b[0;36m<module>\u001b[0;34m\u001b[0m\n\u001b[1;32m      1\u001b[0m \u001b[0mcandidate_cols\u001b[0m \u001b[0;34m=\u001b[0m \u001b[0;34m[\u001b[0m\u001b[0mcol\u001b[0m\u001b[0;34m[\u001b[0m\u001b[0;36m1\u001b[0m\u001b[0;34m]\u001b[0m \u001b[0;32mfor\u001b[0m \u001b[0mcol\u001b[0m \u001b[0;32min\u001b[0m \u001b[0mcursor\u001b[0m\u001b[0;34m.\u001b[0m\u001b[0mexecute\u001b[0m\u001b[0;34m(\u001b[0m\u001b[0;34m\"PRAGMA table_info(candidates)\"\u001b[0m\u001b[0;34m)\u001b[0m\u001b[0;34m]\u001b[0m\u001b[0;34m\u001b[0m\u001b[0;34m\u001b[0m\u001b[0m\n\u001b[1;32m      2\u001b[0m \u001b[0mquery\u001b[0m \u001b[0;34m=\u001b[0m \u001b[0;34m'''SELECT * FROM candidates'''\u001b[0m\u001b[0;34m\u001b[0m\u001b[0;34m\u001b[0m\u001b[0m\n\u001b[0;32m----> 3\u001b[0;31m \u001b[0mdisplay\u001b[0m\u001b[0;34m(\u001b[0m\u001b[0mviz_tables\u001b[0m\u001b[0;34m(\u001b[0m\u001b[0mcandidate_cols\u001b[0m\u001b[0;34m,\u001b[0m \u001b[0mquery\u001b[0m\u001b[0;34m)\u001b[0m\u001b[0;34m)\u001b[0m\u001b[0;34m\u001b[0m\u001b[0;34m\u001b[0m\u001b[0m\n\u001b[0m",
      "\u001b[0;32m<ipython-input-32-3fb602856d84>\u001b[0m in \u001b[0;36mviz_tables\u001b[0;34m(cols, query)\u001b[0m\n\u001b[1;32m      4\u001b[0m     \u001b[0;32mfor\u001b[0m \u001b[0mi\u001b[0m\u001b[0;34m,\u001b[0m \u001b[0mcol_name\u001b[0m \u001b[0;32min\u001b[0m \u001b[0menumerate\u001b[0m\u001b[0;34m(\u001b[0m\u001b[0mcols\u001b[0m\u001b[0;34m)\u001b[0m\u001b[0;34m:\u001b[0m\u001b[0;34m\u001b[0m\u001b[0;34m\u001b[0m\u001b[0m\n\u001b[1;32m      5\u001b[0m         \u001b[0mframelist\u001b[0m\u001b[0;34m[\u001b[0m\u001b[0mcol_name\u001b[0m\u001b[0;34m]\u001b[0m \u001b[0;34m=\u001b[0m \u001b[0;34m[\u001b[0m\u001b[0mrow\u001b[0m\u001b[0;34m[\u001b[0m\u001b[0mi\u001b[0m\u001b[0;34m]\u001b[0m \u001b[0;32mfor\u001b[0m \u001b[0mrow\u001b[0m \u001b[0;32min\u001b[0m \u001b[0mq\u001b[0m\u001b[0;34m]\u001b[0m\u001b[0;34m\u001b[0m\u001b[0;34m\u001b[0m\u001b[0m\n\u001b[0;32m----> 6\u001b[0;31m     \u001b[0;32mreturn\u001b[0m \u001b[0mpd\u001b[0m\u001b[0;34m.\u001b[0m\u001b[0mDataFrame\u001b[0m\u001b[0;34m.\u001b[0m\u001b[0mfrom_dict\u001b[0m\u001b[0;34m(\u001b[0m\u001b[0mframelist\u001b[0m\u001b[0;34m)\u001b[0m\u001b[0;34m\u001b[0m\u001b[0;34m\u001b[0m\u001b[0m\n\u001b[0m",
      "\u001b[0;31mNameError\u001b[0m: name 'pd' is not defined"
     ]
    }
   ],
   "source": [
    "candidate_cols = [col[1] for col in cursor.execute(\"PRAGMA table_info(candidates)\")]\n",
    "query = '''SELECT * FROM candidates'''\n",
    "display(viz_tables(candidate_cols, query))"
   ]
  },
  {
   "cell_type": "markdown",
   "metadata": {},
   "source": [
    "<a id='step_2'></a>\n",
    "# Step 2:  Various Queries\n",
    "We can query our database for entries with certain characteristics.  For example, we can query the `candidates` table for entries whose middle name fields are not empty."
   ]
  },
  {
   "cell_type": "code",
   "execution_count": null,
   "metadata": {},
   "outputs": [],
   "source": [
    "query = '''SELECT * FROM candidates WHERE middle_init <> \"\"'''\n",
    "viz_tables(candidate_cols, query)"
   ]
  },
  {
   "cell_type": "markdown",
   "metadata": {},
   "source": [
    "We can also see how many entries satisfy the query:"
   ]
  },
  {
   "cell_type": "code",
   "execution_count": null,
   "metadata": {},
   "outputs": [],
   "source": [
    "print(\"{} candidates have a middle initial.\".format(viz_tables(candidate_cols, query).shape[0]))"
   ]
  },
  {
   "cell_type": "markdown",
   "metadata": {},
   "source": [
    "### Do the following queries:\n",
    "* Display the contributors where the state is \"PA\"\n",
    "* Display the contributors where the amount contributed is greater than $\\$1000.00$.\n",
    "* Display the contributors from \"UT\" where the amount contributed is greater than $\\$1000.00$.\n",
    "* Display the contributors who didn't list their state\n",
    "  - **Hint**:  Match `state` to the empty string\n",
    "* Display the contributors from \"WA\" or \"PA\"\n",
    "  - **Hint**:  You will need to use `IN (\"WA\", \"PA\")` in your `SELECT` statement.\n",
    "* Display the contributors who contributed between $\\$100.00$ and $\\$200.00$.\n",
    "  - **Hint**: You can use the `BETWEEN 100.00 and 200.00` clause."
   ]
  },
  {
   "cell_type": "code",
   "execution_count": 3,
   "metadata": {},
   "outputs": [
    {
     "ename": "NameError",
     "evalue": "name 'viz_tables' is not defined",
     "output_type": "error",
     "traceback": [
      "\u001b[0;31m---------------------------------------------------------------------------\u001b[0m",
      "\u001b[0;31mNameError\u001b[0m                                 Traceback (most recent call last)",
      "\u001b[0;32m<ipython-input-3-96831c9c3e10>\u001b[0m in \u001b[0;36m<module>\u001b[0;34m\u001b[0m\n\u001b[1;32m      1\u001b[0m \u001b[0;31m# 1)\u001b[0m\u001b[0;34m\u001b[0m\u001b[0;34m\u001b[0m\u001b[0;34m\u001b[0m\u001b[0m\n\u001b[1;32m      2\u001b[0m \u001b[0mquery\u001b[0m \u001b[0;34m=\u001b[0m \u001b[0;34m'''SELECT * FROM contributors WHERE state=\"PA\"'''\u001b[0m\u001b[0;34m\u001b[0m\u001b[0;34m\u001b[0m\u001b[0m\n\u001b[0;32m----> 3\u001b[0;31m \u001b[0mdisplay\u001b[0m\u001b[0;34m(\u001b[0m\u001b[0mviz_tables\u001b[0m\u001b[0;34m(\u001b[0m\u001b[0mcontributor_cols\u001b[0m\u001b[0;34m,\u001b[0m \u001b[0mquery\u001b[0m\u001b[0;34m)\u001b[0m\u001b[0;34m)\u001b[0m\u001b[0;34m\u001b[0m\u001b[0;34m\u001b[0m\u001b[0m\n\u001b[0m",
      "\u001b[0;31mNameError\u001b[0m: name 'viz_tables' is not defined"
     ]
    }
   ],
   "source": [
    "# 1)\n",
    "query = '''SELECT * FROM contributors WHERE state=\"PA\"'''\n",
    "\n",
    "# 2)\n",
    "query = '''SELECT * FROM contributors WHERE amount>1000.00'''\n",
    "\n",
    "# 3)\n",
    "query = '''SELECT * FROM contributors WHERE state=\"UT\" AND amount>1000.00'''\n",
    "\n",
    "# 4)\n",
    "query = '''SELECT * FROM contributors WHERE state = \"\"'''\n",
    "\n",
    "# 5)\n",
    "query = '''SELECT * FROM contributors WHERE state IN (\"WA\", \"PA\")'''\n",
    "\n",
    "# 6)\n",
    "query = '''SELECT * FROM contributors WHERE amount BETWEEN 100.00 and 200.00'''"
   ]
  },
  {
   "cell_type": "markdown",
   "metadata": {},
   "source": [
    "<a id='step_3'></a>\n",
    "# Step 3:  Sorting\n",
    "It could be beneficial to sort by one of the attributes in the database.  The following cell contains a basic sorting demo."
   ]
  },
  {
   "cell_type": "code",
   "execution_count": null,
   "metadata": {},
   "outputs": [],
   "source": [
    "query = '''SELECT * FROM candidates ORDER BY id DESC'''\n",
    "viz_tables(candidate_cols, query)"
   ]
  },
  {
   "cell_type": "markdown",
   "metadata": {},
   "source": [
    "### Do the following sorts on the `contributors` table:\n",
    "* Sort the `candidates` table by `last_name`.\n",
    "* Sort the contributors table by the `amount` in decending order where `amount` is restricted to be between $\\$1000.00$ and $\\$5000.00$.\n",
    "* Sort the contributors who donted between $\\$1000.00$ and $\\$5000.00$ by `candidate_id` and then by `amount` in descending order.\n",
    "  - **Hint**:  Multiple orderings can be accomplished by separating requests after `ORDER BY` with commas.\n",
    "  - e.g. `ORDER BY amount ASC, last_name DESC`"
   ]
  },
  {
   "cell_type": "code",
   "execution_count": null,
   "metadata": {},
   "outputs": [],
   "source": [
    "# 1)\n",
    "query = '''SELECT * FROM candidates ORDER BY last_name'''\n",
    "\n",
    "# 2)\n",
    "query = '''SELECT * FROM contributors WHERE amount BETWEEN 1000.00 and 5000.00 ORDER BY amount DESC'''\n",
    "\n",
    "# 3)\n",
    "query = '''SELECT * FROM contributors WHERE amount BETWEEN 1000.00 and 5000.00 ORDER BY candidate_id, amount DESC'''"
   ]
  },
  {
   "cell_type": "markdown",
   "metadata": {},
   "source": [
    "<a id='step_4'></a>\n",
    "# Step 4:  Selecting Columns\n",
    "So far, we've been selecting all columns from a table (i.e. `SELECT * FROM`).  Often, we just want to select specific columns (e.g. `SELECT amount FROM`)."
   ]
  },
  {
   "cell_type": "code",
   "execution_count": null,
   "metadata": {},
   "outputs": [],
   "source": [
    "query = '''SELECT last_name, party FROM candidates'''\n",
    "viz_tables(['last_name', 'party'], query)"
   ]
  },
  {
   "cell_type": "markdown",
   "metadata": {},
   "source": [
    "Using the `DISTINCT` clause, you remove duplicate rows."
   ]
  },
  {
   "cell_type": "code",
   "execution_count": null,
   "metadata": {
    "scrolled": true
   },
   "outputs": [],
   "source": [
    "query = '''SELECT DISTINCT party FROM candidates'''\n",
    "viz_tables(['party'], query)"
   ]
  },
  {
   "cell_type": "markdown",
   "metadata": {},
   "source": [
    "### Do the following:\n",
    "* Get the first and last name of contributors.  Make sure each row has distinct values."
   ]
  },
  {
   "cell_type": "code",
   "execution_count": null,
   "metadata": {},
   "outputs": [],
   "source": [
    "query = '''SELECT DISTINCT last_name, first_name FROM contributors'''"
   ]
  },
  {
   "cell_type": "markdown",
   "metadata": {},
   "source": [
    "<a id='step_5'></a>\n",
    "# Step 5:  Altering Tables\n",
    "The `ALTER` clause allows us to modify tables in our database.  Here, we add a new column to our candidates table called `full_name`."
   ]
  },
  {
   "cell_type": "code",
   "execution_count": null,
   "metadata": {},
   "outputs": [],
   "source": [
    "cursor.execute('''ALTER TABLE candidates ADD COLUMN full_name TEXT''')\n",
    "candidate_cols = [col[1] for col in cursor.execute(\"PRAGMA table_info(candidates)\")]\n",
    "viz_tables(candidate_cols, '''SELECT * FROM candidates''')"
   ]
  },
  {
   "cell_type": "markdown",
   "metadata": {},
   "source": [
    "For now, let's put a few commands together to populate the `full_name` column."
   ]
  },
  {
   "cell_type": "code",
   "execution_count": 16,
   "metadata": {},
   "outputs": [
    {
     "ename": "NameError",
     "evalue": "name 'pd' is not defined",
     "output_type": "error",
     "traceback": [
      "\u001b[0;31m---------------------------------------------------------------------------\u001b[0m",
      "\u001b[0;31mNameError\u001b[0m                                 Traceback (most recent call last)",
      "\u001b[0;32m<ipython-input-16-90aaca5a6050>\u001b[0m in \u001b[0;36m<module>\u001b[0;34m\u001b[0m\n\u001b[1;32m      8\u001b[0m \u001b[0;34m\u001b[0m\u001b[0m\n\u001b[1;32m      9\u001b[0m \u001b[0mquery\u001b[0m \u001b[0;34m=\u001b[0m \u001b[0;34m'''SELECT * FROM candidates'''\u001b[0m\u001b[0;34m\u001b[0m\u001b[0;34m\u001b[0m\u001b[0m\n\u001b[0;32m---> 10\u001b[0;31m \u001b[0mviz_tables\u001b[0m\u001b[0;34m(\u001b[0m\u001b[0mcandidate_cols\u001b[0m\u001b[0;34m,\u001b[0m \u001b[0mquery\u001b[0m\u001b[0;34m)\u001b[0m\u001b[0;34m\u001b[0m\u001b[0;34m\u001b[0m\u001b[0m\n\u001b[0m",
      "\u001b[0;32m<ipython-input-6-3fb602856d84>\u001b[0m in \u001b[0;36mviz_tables\u001b[0;34m(cols, query)\u001b[0m\n\u001b[1;32m      4\u001b[0m     \u001b[0;32mfor\u001b[0m \u001b[0mi\u001b[0m\u001b[0;34m,\u001b[0m \u001b[0mcol_name\u001b[0m \u001b[0;32min\u001b[0m \u001b[0menumerate\u001b[0m\u001b[0;34m(\u001b[0m\u001b[0mcols\u001b[0m\u001b[0;34m)\u001b[0m\u001b[0;34m:\u001b[0m\u001b[0;34m\u001b[0m\u001b[0;34m\u001b[0m\u001b[0m\n\u001b[1;32m      5\u001b[0m         \u001b[0mframelist\u001b[0m\u001b[0;34m[\u001b[0m\u001b[0mcol_name\u001b[0m\u001b[0;34m]\u001b[0m \u001b[0;34m=\u001b[0m \u001b[0;34m[\u001b[0m\u001b[0mrow\u001b[0m\u001b[0;34m[\u001b[0m\u001b[0mi\u001b[0m\u001b[0;34m]\u001b[0m \u001b[0;32mfor\u001b[0m \u001b[0mrow\u001b[0m \u001b[0;32min\u001b[0m \u001b[0mq\u001b[0m\u001b[0;34m]\u001b[0m\u001b[0;34m\u001b[0m\u001b[0;34m\u001b[0m\u001b[0m\n\u001b[0;32m----> 6\u001b[0;31m     \u001b[0;32mreturn\u001b[0m \u001b[0mpd\u001b[0m\u001b[0;34m.\u001b[0m\u001b[0mDataFrame\u001b[0m\u001b[0;34m.\u001b[0m\u001b[0mfrom_dict\u001b[0m\u001b[0;34m(\u001b[0m\u001b[0mframelist\u001b[0m\u001b[0;34m)\u001b[0m\u001b[0;34m\u001b[0m\u001b[0;34m\u001b[0m\u001b[0m\n\u001b[0m",
      "\u001b[0;31mNameError\u001b[0m: name 'pd' is not defined"
     ]
    }
   ],
   "source": [
    "candidate_cols = [col[1] for col in cursor.execute(\"PRAGMA table_info(candidates)\")] # regenerate columns with full_name\n",
    "query = '''SELECT id, last_name, first_name FROM candidates''' # Select a few columns\n",
    "full_name_and_id = [(attr[1] + \", \" + attr[2], attr[0]) for attr in cursor.execute(query).fetchall()] # List of tuples: (full_name, id)\n",
    "\n",
    "update = '''UPDATE candidates SET full_name = ? WHERE id = ?''' # Update the table\n",
    "for rows in full_name_and_id:\n",
    "    cursor.execute(update, rows)\n",
    "\n",
    "query = '''SELECT * FROM candidates'''\n",
    "viz_tables(candidate_cols, query)"
   ]
  },
  {
   "cell_type": "markdown",
   "metadata": {},
   "source": [
    "Here's another update, this time on an existing column."
   ]
  },
  {
   "cell_type": "code",
   "execution_count": null,
   "metadata": {},
   "outputs": [],
   "source": [
    "update = '''UPDATE candidates SET full_name = \"Eventual Winner\" WHERE last_name = \"Obama\"'''\n",
    "cursor.execute(update)\n",
    "update = '''UPDATE candidates SET full_name = \"Eventual Loser\" WHERE last_name = \"Romney\"'''\n",
    "cursor.execute(update)\n",
    "viz_tables(candidate_cols, query)"
   ]
  },
  {
   "cell_type": "markdown",
   "metadata": {},
   "source": [
    "### Do the following:\n",
    "* Add a new column to the contributors table called `full_name`.  The value in that column should be in the form `last_name, first_name`.\n",
    "* Change the value in the `full_name` column to the string `\"Too Much\"` if someone donated more than $\\$1000.00$."
   ]
  },
  {
   "cell_type": "markdown",
   "metadata": {},
   "source": [
    "<a id='step_6'></a>\n",
    "# Step 6: Aggregation\n",
    "You can perform some nice operations on the values in the database.  For example, you can compute the maximum, minimum, and sum of a set.  You can also count the number of items in a given set.  Here's a little example.  You can do the rest."
   ]
  },
  {
   "cell_type": "code",
   "execution_count": null,
   "metadata": {},
   "outputs": [],
   "source": [
    "contributor_cols = [col[1] for col in cursor.execute(\"PRAGMA table_info(contributors)\")] # You've already done this part.  I just need to do it here b/c I haven't yet.\n",
    "function = '''SELECT *, MAX(amount) AS max_amount FROM contributors'''\n",
    "viz_tables(contributor_cols, function)"
   ]
  },
  {
   "cell_type": "markdown",
   "metadata": {},
   "source": [
    "### Do the following:\n",
    "\n",
    "* Count how many donations there were above $\\$1000.00$.\n",
    "* Calculate the average donation.\n",
    "* Calculate the average contribution from each state and display in a table.\n",
    "  - **Hint**:  Use code that looks like: \n",
    "\n",
    "  ```python\n",
    "  \"SELECT state,SUM(amount) FROM contributors GROUP BY state\"\n",
    "  ```"
   ]
  },
  {
   "cell_type": "markdown",
   "metadata": {},
   "source": [
    "<a id='step_7'></a>\n",
    "# Step 7: DELETE\n",
    "We have already noted that `SQLite` can't drop columns in a straightfoward manner.  However, it can delete rows quite simply.  Here's the syntax:\n",
    "```python\n",
    "deletion = '''DELETE FROM table_name WHERE condition'''\n",
    "```\n",
    "\n",
    "### Do the following:\n",
    "* Delete rows in the `contributors` table with last name \"Ahrens\"."
   ]
  },
  {
   "cell_type": "code",
   "execution_count": null,
   "metadata": {},
   "outputs": [],
   "source": [
    "delete = '''DELETE FROM contributors WHERE last_name = \"Ahrens\"'''\n",
    "cursor.execute(delete)"
   ]
  },
  {
   "cell_type": "markdown",
   "metadata": {},
   "source": [
    "<a id='step_8'></a>\n",
    "# Step 8:  LIMIT\n",
    "The `LIMIT` clause offers convenient functionality.  It allows you to constrain the number of rows returned by your query.  It shows up in many guises."
   ]
  },
  {
   "cell_type": "code",
   "execution_count": null,
   "metadata": {},
   "outputs": [],
   "source": [
    "query = '''SELECT * FROM candidates LIMIT 3'''\n",
    "viz_tables(candidate_cols, query)"
   ]
  },
  {
   "cell_type": "code",
   "execution_count": null,
   "metadata": {},
   "outputs": [],
   "source": [
    "query = '''SELECT * FROM candidates LIMIT 4 OFFSET 5'''\n",
    "viz_tables(candidate_cols, query)"
   ]
  },
  {
   "cell_type": "code",
   "execution_count": null,
   "metadata": {},
   "outputs": [],
   "source": [
    "query = '''SELECT * FROM candidates ORDER BY last_name LIMIT 4 OFFSET 5'''\n",
    "viz_tables(candidate_cols, query)"
   ]
  },
  {
   "cell_type": "markdown",
   "metadata": {},
   "source": [
    "### Do the following:\n",
    "* Query and display the ten most generous donors.\n",
    "* Query and display the ten least generous donors who donated a positive amount of money (since the data we have has some negative numbers in it...)."
   ]
  },
  {
   "cell_type": "code",
   "execution_count": null,
   "metadata": {},
   "outputs": [],
   "source": [
    "# 1)\n",
    "query = '''SELECT * FROM contributors ORDER BY amount DESC LIMIT 10'''\n",
    "\n",
    "# 2)\n",
    "query = '''SELECT * FROM contributors WHERE amount > 0 ORDER BY amount LIMIT 10'''"
   ]
  },
  {
   "cell_type": "markdown",
   "metadata": {},
   "source": [
    "# Save\n",
    "Don't forget to save all of these changes to your database using `db.commit()`.  Before closing shop, be sure to close the database connection with `db.close()`."
   ]
  },
  {
   "cell_type": "code",
   "execution_count": null,
   "metadata": {},
   "outputs": [],
   "source": [
    "db.commit()\n",
    "db.close()"
   ]
  }
 ],
 "metadata": {
  "kernelspec": {
   "display_name": "Python 3",
   "language": "python",
   "name": "python3"
  },
  "language_info": {
   "codemirror_mode": {
    "name": "ipython",
    "version": 3
   },
   "file_extension": ".py",
   "mimetype": "text/x-python",
   "name": "python",
   "nbconvert_exporter": "python",
   "pygments_lexer": "ipython3",
   "version": "3.7.4"
  }
 },
 "nbformat": 4,
 "nbformat_minor": 1
}
