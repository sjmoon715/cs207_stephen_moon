{
 "cells": [
  {
   "cell_type": "markdown",
   "metadata": {
    "slideshow": {
     "slide_type": "slide"
    }
   },
   "source": [
    "# Lecture 14\n",
    "## Tuesday, October 22th 2019"
   ]
  },
  {
   "cell_type": "markdown",
   "metadata": {
    "slideshow": {
     "slide_type": "slide"
    }
   },
   "source": [
    "# Practice with Packaging and Deployment\n",
    "\n",
    "* Virtual environments\n",
    "  * Motivation\n",
    "  * `virtualenv`\n",
    "  * `pipenv`\n",
    "  * `conda`\n",
    "  * Others:  [Why is pipenv the recommended packaging tool by the community and `PyPA`?](https://www.reddit.com/r/Python/comments/8jd6aq/why_is_pipenv_the_recommended_packaging_tool_by/)\n",
    "* Deployment"
   ]
  },
  {
   "cell_type": "markdown",
   "metadata": {
    "slideshow": {
     "slide_type": "subslide"
    }
   },
   "source": [
    "## Package Requirements\n",
    "\n",
    "* Come up with a basic project directory structure (this one will be pretty bare bones).  For example:\n",
    "  ```\n",
    "     myproj\\\n",
    "           myproj\\\n",
    "                 __init__.py\n",
    "                 module.py\n",
    "                 tests/\n",
    "                      __init__.py\n",
    "           README.md\n",
    "           setup.py\n",
    "           LICENSE\n",
    "  ```\n",
    "\n",
    "* Note: I'm using the [\"Tests as part of application code\"](https://docs.pytest.org/en/latest/goodpractices.html#test-discovery) from the `pytest` documentation."
   ]
  },
  {
   "cell_type": "markdown",
   "metadata": {
    "slideshow": {
     "slide_type": "slide"
    }
   },
   "source": [
    "# Virtual Environments\n",
    "* You've got a package ready to go\n",
    "* You probably (hopefully) developed it in the CS207 working directory\n",
    "* What if you're developing many packages with different requirements?\n",
    "* How do you deploy it?"
   ]
  },
  {
   "cell_type": "markdown",
   "metadata": {
    "slideshow": {
     "slide_type": "subslide"
    }
   },
   "source": [
    "## Virtual Environments\n",
    "\n",
    "* A virtual environment allows the developer to develop (and deploy) a package without having to worry about dependencies\n",
    "  * For example, your project may include several external dependencies\n",
    "  * You don't want to muck up or pollute your global environment with all these dependencies\n",
    "  * However, you need to install those dependencies to use the package!"
   ]
  },
  {
   "cell_type": "markdown",
   "metadata": {
    "slideshow": {
     "slide_type": "subslide"
    }
   },
   "source": [
    "## Virtual Environments\n",
    "\n",
    "* You may have different packages with different dependencies and you'd like to keep those environments separate while developing\n",
    "* You may want to make it easy for a user to install dependencies so they can get up and running with your package right away"
   ]
  },
  {
   "cell_type": "markdown",
   "metadata": {
    "slideshow": {
     "slide_type": "subslide"
    }
   },
   "source": [
    "## What are Virtual Environments?\n",
    "A virtual environment is a directory with the following components:\n",
    "1. `site_packages/` directory where third-party libraries are installed.\n",
    "2. Links [really symlinks] to the Python executables on your system.\n",
    "3. Some scripts that ensure that Python code uses the interpreter and site packages in the virtual environment."
   ]
  },
  {
   "cell_type": "markdown",
   "metadata": {
    "slideshow": {
     "slide_type": "slide"
    }
   },
   "source": [
    "# `virtualenv`"
   ]
  },
  {
   "cell_type": "markdown",
   "metadata": {
    "slideshow": {
     "slide_type": "subslide"
    }
   },
   "source": [
    "## `virtualenv`\n",
    "* `virtualenv` has historically been an indispensable tool for managing virtual environments\n",
    "* Nowadays, `virtualenv` has been incorporated into broader tools such as [`pipenv`](https://pipenv.readthedocs.io/en/latest/)\n",
    "* `virtualenv` is still a great way of illustrating the basic ideas\n",
    "* `virtualenv` is shipped with `Anaconda`"
   ]
  },
  {
   "cell_type": "markdown",
   "metadata": {
    "slideshow": {
     "slide_type": "subslide"
    }
   },
   "source": [
    "## Getting Going with `virtualenv`\n",
    "1. You probably already have `virtualenv`, but just in case type `sudo easy_install virtualenv`\n",
    "2. Now, navigate to the top level of your project directory and type `virtualenv env`\n",
    "   - What do you see when you do `ls`?\n",
    "3. Next type `source env/bin/activate`\n",
    "   - What do you see?"
   ]
  },
  {
   "cell_type": "markdown",
   "metadata": {
    "slideshow": {
     "slide_type": "subslide"
    }
   },
   "source": [
    "## Comments on `virtualenv`\n",
    "* You created and activated a virtual environment called `env`\n",
    "* Now everything you install will be in that virtual environment\n",
    "* Within the virtual environment type `pip install sparsegrad`. (See [`sparsegrad`](https://pypi.org/project/sparsegrad/))\n",
    "  - Type `python` to start the `python` interpreter\n",
    "  - In the `python` interpreter type `import sparsegrad`\n",
    "  - It works!"
   ]
  },
  {
   "cell_type": "markdown",
   "metadata": {
    "slideshow": {
     "slide_type": "subslide"
    }
   },
   "source": [
    "## More comments on `virtualenv`\n",
    "* Now exit the `python` interpreter\n",
    "* And exit the virtual environment (Just type `deactivate`)\n",
    "* Open the `python` interpreter again\n",
    "  - Notice that you're going to run `python` outside of the virtual environment\n",
    "* Type `import sparsegrad`\n",
    "* It's not there!"
   ]
  },
  {
   "cell_type": "markdown",
   "metadata": {
    "slideshow": {
     "slide_type": "subslide"
    }
   },
   "source": [
    "## Summary so Far\n",
    "Hopefully you have the basic idea now of the utility of virtual environments for development purposes.\n",
    "\n",
    "They can also be useful for developers to share codes (deployment).\n",
    "\n",
    "Suppose you have a package that you want to share with me.\n",
    "\n",
    "You want to make it easy for me to install the dependencies, but otherwise you trust that I more or less know what I'm doing."
   ]
  },
  {
   "cell_type": "markdown",
   "metadata": {
    "slideshow": {
     "slide_type": "subslide"
    }
   },
   "source": [
    "## A Scenario\n",
    "Here's a possible scenario:\n",
    "\n",
    "  * You send me the package (probably in an archive file like `.tar.gz`) and the `requirements.txt` file\n",
    "  * I create a directory called `myproj` and unpack the project into that directory\n",
    "  * Then I do the following:\n",
    "    - `virtualenv env`\n",
    "    - `source env/bin/activate`\n",
    "    - `pip install -r requirements.txt`"
   ]
  },
  {
   "cell_type": "markdown",
   "metadata": {
    "slideshow": {
     "slide_type": "slide"
    }
   },
   "source": [
    "# `conda`"
   ]
  },
  {
   "cell_type": "markdown",
   "metadata": {
    "slideshow": {
     "slide_type": "slide"
    }
   },
   "source": [
    "## `conda` environments\n",
    "`virtualenv` is great, but `conda` environments are a bit more powerful.\n",
    "\n",
    "* `pip` is a package manager for Python.\n",
    "* `virtualenv` is an environment manager for Python.\n",
    "* `conda` is a package and environment manager and is language agnostic\n",
    "\n",
    "[conda vs. pip vs. virtualenv](https://conda.io/projects/conda/en/latest/commands.html#conda-vs-pip-vs-virtualenv-commands)"
   ]
  },
  {
   "cell_type": "markdown",
   "metadata": {
    "slideshow": {
     "slide_type": "subslide"
    }
   },
   "source": [
    "* Create an environment with the command\n",
    "\n",
    "```bash\n",
    "conda create --name env_name python\n",
    "```"
   ]
  },
  {
   "cell_type": "markdown",
   "metadata": {
    "slideshow": {
     "slide_type": "fragment"
    }
   },
   "source": [
    "* `env_name` is the name of the environment."
   ]
  },
  {
   "cell_type": "markdown",
   "metadata": {
    "slideshow": {
     "slide_type": "subslide"
    }
   },
   "source": [
    "* You can specify a different Python version with\n",
    "\n",
    "```bash\n",
    "conda create --name env_name python=3.7\n",
    "```"
   ]
  },
  {
   "cell_type": "markdown",
   "metadata": {
    "slideshow": {
     "slide_type": "fragment"
    }
   },
   "source": [
    "* You can even install other packages:\n",
    "\n",
    "```bash\n",
    "conda create -n env_name python=3.7 numpy\n",
    "```"
   ]
  },
  {
   "cell_type": "markdown",
   "metadata": {
    "slideshow": {
     "slide_type": "fragment"
    }
   },
   "source": [
    "* Note:  You can also specify which versions of the packages you'd like to install."
   ]
  },
  {
   "cell_type": "markdown",
   "metadata": {
    "slideshow": {
     "slide_type": "subslide"
    }
   },
   "source": [
    "### Activating the environment\n",
    "\n",
    "* You can try `conda activate env_name`.  This will work on many platforms.\n",
    "   - It is possible that `conda` will complain that your shell hasn't been configured to use `conda activate`.\n",
    "   - You can run `conda init`, but this may modify your `bash_profile` to always use a `conda base` environment.\n",
    "\n",
    "* Alternatively, you may simply use `source activate env_name`."
   ]
  },
  {
   "cell_type": "markdown",
   "metadata": {
    "slideshow": {
     "slide_type": "fragment"
    }
   },
   "source": [
    "* You can get out of the environment (deactivate it) by typing `conda deactivate`."
   ]
  },
  {
   "cell_type": "markdown",
   "metadata": {
    "slideshow": {
     "slide_type": "subslide"
    }
   },
   "source": [
    "### Where `conda` environments live\n",
    "\n",
    "* When working with `virtualenv`, we saw that our environment lives directly in the package directory.\n",
    "* `conda` environments live, by default, in `/Users/user-name/anaconda3/envs` (or similar).\n",
    "* Note:  You can override the default path by using the `--prefix` (or `-p`) flag:  `conda create -p /path/to/env_name`.\n",
    "   - This can complicate things.  See the [docs](https://conda.io/projects/conda/en/latest/user-guide/configuration/index.html) for more information.\n",
    "* You can list your environments with `conda env list`."
   ]
  },
  {
   "cell_type": "markdown",
   "metadata": {
    "slideshow": {
     "slide_type": "subslide"
    }
   },
   "source": [
    "## Installing Packages in a `conda` environment\n",
    "\n",
    "* Inside the environment simply type `conda install package_name=version`.\n",
    "* List the installed packages in your environment with `conda list`.\n",
    "* You can install packages with `pip` as well.\n",
    "   - You should try `conda install` first."
   ]
  },
  {
   "cell_type": "markdown",
   "metadata": {
    "slideshow": {
     "slide_type": "subslide"
    }
   },
   "source": [
    "Note:  To remove a `conda` environment, use `conda remove --name env_name --all`."
   ]
  },
  {
   "cell_type": "markdown",
   "metadata": {
    "slideshow": {
     "slide_type": "subslide"
    }
   },
   "source": [
    "### Exercise (Part 1)\n",
    "* Clone [the course `playground` repo](https://github.com/dsondak/playground).\n",
    "* Go into `playground`.\n",
    "* Create a `conda` `python` virtual environment\n",
    "  - You can name it anything you like.\n",
    "  - Don't install `numpy` or `pytest` for the moment.\n",
    "* Activate the virtual environment.\n",
    "* Try to run the tests with `pytest`."
   ]
  },
  {
   "cell_type": "markdown",
   "metadata": {
    "slideshow": {
     "slide_type": "subslide"
    }
   },
   "source": [
    "### Exercise (Part 2)\n",
    "* Create a new `conda` `python` virtual environment\n",
    "  - Install `numpy` or `pytest` when you build the environment.\n",
    "* Activate the virtual environment.\n",
    "* Try to run the tests with `pytest`."
   ]
  },
  {
   "cell_type": "markdown",
   "metadata": {
    "slideshow": {
     "slide_type": "subslide"
    }
   },
   "source": [
    "### Exercise (Part 3)\n",
    "* Create a new `conda` `python` virtual environment using `conda env create -n env_name -f environment.yml`\n",
    "* Activate the virtual environment.\n",
    "* Try to run the tests with `pytest`."
   ]
  },
  {
   "cell_type": "markdown",
   "metadata": {
    "slideshow": {
     "slide_type": "subslide"
    }
   },
   "source": [
    "### Exercise Summary\n",
    "* The virtual environment doesn't have the correct dependencies in general --- you need to customize this.\n",
    "* In this exercise, the package came with an `environment.yml` file.\n",
    "* Using the `environment.yml` file, you can create a virtual environment with the exact same setup that the package developers use.\n",
    "* Note:  If you want to generate the `environment.yml` file for your own packages, simply use `conda env export -f environment.yml`."
   ]
  },
  {
   "cell_type": "markdown",
   "metadata": {
    "slideshow": {
     "slide_type": "subslide"
    }
   },
   "source": [
    "### Notes\n",
    "* You may should probably remove the three environments that you just created.\n",
    "* If you want to add the packages in an `environment.yml` file you can use `conda env update -n conda-env -f environment.yml`."
   ]
  },
  {
   "cell_type": "markdown",
   "metadata": {
    "slideshow": {
     "slide_type": "subslide"
    }
   },
   "source": [
    "## Concluding Remarks on Virtual Environments\n",
    "\n",
    "#### Advantages\n",
    "* Pretty useful stuff if you're working with a fellow developer.\n",
    "* To remove all the things that we don't want, just remove the virtual environment directories.\n",
    "\n",
    "#### Disadvantages\n",
    "* Not so great if we want to deploy our package to a wider audience\n",
    "* The process can be streamlined a fair bit (e.g. [`Pipenv`](https://pipenv.readthedocs.io/en/latest/))"
   ]
  },
  {
   "cell_type": "markdown",
   "metadata": {
    "slideshow": {
     "slide_type": "subslide"
    }
   },
   "source": [
    "#### Additional Reading\n",
    "* (https://towardsdatascience.com/virtual-environments-104c62d48c54)\n",
    "* (https://towardsdatascience.com/a-guide-to-conda-environments-bc6180fc533)\n",
    "* [`conda` docs:  Managing Environments](https://docs.conda.io/projects/conda/en/latest/user-guide/tasks/manage-environments.html#removing-an-environment)"
   ]
  },
  {
   "cell_type": "markdown",
   "metadata": {
    "slideshow": {
     "slide_type": "slide"
    }
   },
   "source": [
    "# Deployment and Exercise 2\n",
    "Now let's say you want to make your `Complex` package more widely available.\n",
    "\n",
    "You should follow the tutorial at [Packaging Python Projects](https://packaging.python.org/tutorials/packaging-projects/).\n",
    "\n",
    "You can work with the tutorial practice package (rather than the Complex package).\n",
    "\n",
    "Notes:  \n",
    "* Might need to use `conda install -c conda-forge twine` to get `twine`\n",
    "* You will need to verify your email address after you sign up for [`TestPyPI`](https://test.pypi.org/)\n",
    "* Please use a `conda` environment rather than `virtualenv`."
   ]
  },
  {
   "cell_type": "markdown",
   "metadata": {
    "slideshow": {
     "slide_type": "subslide"
    }
   },
   "source": [
    "## Further notes on Deployment\n",
    "* Packaging in `python` can be a contentious topic (see the link at the beginning of this notebook)\n",
    "* For a pretty nice discussion on packaging in `python` refer to [An Overview of Packaging for Python](https://packaging.python.org/overview/)\n",
    "* For some more details on packaging in `python` see [Packaging and distributing projects](https://packaging.python.org/guides/distributing-packages-using-setuptools/)\n",
    "* Another packaging tutorial:  [How To Package Your Python Code](https://python-packaging.readthedocs.io/en/latest/index.html)"
   ]
  }
 ],
 "metadata": {
  "celltoolbar": "Slideshow",
  "kernelspec": {
   "display_name": "Python 3",
   "language": "python",
   "name": "python3"
  },
  "language_info": {
   "codemirror_mode": {
    "name": "ipython",
    "version": 3
   },
   "file_extension": ".py",
   "mimetype": "text/x-python",
   "name": "python",
   "nbconvert_exporter": "python",
   "pygments_lexer": "ipython3",
   "version": "3.7.4"
  }
 },
 "nbformat": 4,
 "nbformat_minor": 2
}
