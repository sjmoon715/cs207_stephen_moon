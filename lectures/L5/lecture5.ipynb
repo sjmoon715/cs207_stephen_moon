{
 "cells": [
  {
   "cell_type": "markdown",
   "metadata": {
    "slideshow": {
     "slide_type": "slide"
    }
   },
   "source": [
    "# Lecture 5:  Thursday, September 19th 2019\n",
    "\n",
    "### Recap\n",
    "At this point, you should be comfortable with:\n",
    "* The command line\n",
    "* Basic version control\n",
    "\n",
    "Now it's time to write some code."
   ]
  },
  {
   "cell_type": "markdown",
   "metadata": {
    "slideshow": {
     "slide_type": "subslide"
    }
   },
   "source": [
    "Topics:\n",
    "* Recap:  How does Python really work?\n",
    "* Nested environments\n",
    "* Closures\n",
    "* Decorators"
   ]
  },
  {
   "cell_type": "markdown",
   "metadata": {
    "slideshow": {
     "slide_type": "subslide"
    }
   },
   "source": [
    "## Recap So Far\n",
    "It is assumed that you are familiar with the very basics of `Python` and especially its syntax.  For example, you should have reviewed the supplementary `Python` notebooks that go along with this course.  They contain, among other things, the following topics:\n",
    "* `python` types\n",
    "* Basic data structures including lists, dictionaries, and tuples\n",
    "* How to write user-defined functions including variable numbers of arguments (i.e. the `*args` and `**kwargs` syntax)"
   ]
  },
  {
   "cell_type": "markdown",
   "metadata": {
    "slideshow": {
     "slide_type": "subslide"
    }
   },
   "source": [
    "* `for` loops including the indispensible `enumerate` and `zip` formats\n",
    "* Proper synax for opening files (i.e. the `with` syntax)\n",
    "* Basic exception handling\n",
    "* Plotting with `matplotlib`\n",
    "\n",
    "Today, we will fill in a few of the gaps by revealing a bit more about what is going on under the hood."
   ]
  },
  {
   "cell_type": "markdown",
   "metadata": {
    "slideshow": {
     "slide_type": "slide"
    }
   },
   "source": [
    "### Preliminaries\n",
    "Before we begin, there is something that you should know about.  It's [http://pythontutor.com/](http://pythontutor.com/) and it's a great way to learn what is going on under the hood when you write `Python`.  You can visualize the `Python` code you write:  [Visualize](http://pythontutor.com/visualize.html#mode=edit).  I'll have you test out and visualize some very small scripts using that website.\n",
    "\n",
    "Note:  When trying to embed HTML into your notebook, you need to use the syntax:  `HTML('url')`.  `pythontutor` has a `Generate embed code` button which will generate the necessary code to embed into your webpage."
   ]
  },
  {
   "cell_type": "markdown",
   "metadata": {
    "slideshow": {
     "slide_type": "slide"
    }
   },
   "source": [
    "### Reference Variables\n",
    "Let's revisit the most basic `Python`.  Here, we'll just assign values to some names.\n",
    "\n",
    "Note that a variable in `Python` is called a *name*.  So the assignment statement ```a = 1``` says that the name `a` is assigned the integer value `1`.  You can call `a` a variable too if you like."
   ]
  },
  {
   "cell_type": "code",
   "execution_count": 1,
   "metadata": {
    "slideshow": {
     "slide_type": "subslide"
    }
   },
   "outputs": [
    {
     "data": {
      "text/html": [
       "<iframe width=\"800\" height=\"400\" frameborder=\"0\" src=\"http://pythontutor.com/iframe-embed.html#code=a%20%3D%20%5B1,%203,%205%5D%0Ab%20%3D%20a%0Aprint%28%22a%20%3D%20%7B0%7D%20and%20has%20id%20%7B1%7D%22.format%28a,%20id%28a%29%29%29%0Aprint%28%22b%20%3D%20%7B0%7D%20and%20has%20id%20%7B1%7D%22.format%28b,%20id%28b%29%29%29%0Aprint%28%22Is%20b%20a%3F%20%7B0%7D%22.format%28b%20is%20a%29%29%0A%0Aa.append%287%29%0Aprint%28%22a%20%3D%20%7B%7D%22.format%28a%29%29%0Aprint%28%22b%20%3D%20%7B%7D%22.format%28b%29%29&codeDivHeight=400&codeDivWidth=350&cumulative=false&curInstr=0&heapPrimitives=false&origin=opt-frontend.js&py=3&rawInputLstJSON=%5B%5D&textReferences=false\"> </iframe>"
      ],
      "text/plain": [
       "<IPython.core.display.HTML object>"
      ]
     },
     "execution_count": 1,
     "metadata": {},
     "output_type": "execute_result"
    }
   ],
   "source": [
    "from IPython.display import HTML # Allows us to embed HTML into our notebook.\n",
    "HTML('<iframe width=\"800\" height=\"400\" frameborder=\"0\" src=\"http://pythontutor.com/iframe-embed.html#code=a%20%3D%20%5B1,%203,%205%5D%0Ab%20%3D%20a%0Aprint%28%22a%20%3D%20%7B0%7D%20and%20has%20id%20%7B1%7D%22.format%28a,%20id%28a%29%29%29%0Aprint%28%22b%20%3D%20%7B0%7D%20and%20has%20id%20%7B1%7D%22.format%28b,%20id%28b%29%29%29%0Aprint%28%22Is%20b%20a%3F%20%7B0%7D%22.format%28b%20is%20a%29%29%0A%0Aa.append%287%29%0Aprint%28%22a%20%3D%20%7B%7D%22.format%28a%29%29%0Aprint%28%22b%20%3D%20%7B%7D%22.format%28b%29%29&codeDivHeight=400&codeDivWidth=350&cumulative=false&curInstr=0&heapPrimitives=false&origin=opt-frontend.js&py=3&rawInputLstJSON=%5B%5D&textReferences=false\"> </iframe>')"
   ]
  },
  {
   "cell_type": "markdown",
   "metadata": {
    "slideshow": {
     "slide_type": "subslide"
    }
   },
   "source": [
    "So what is going on?  Well, `Python` variables are reference variables.  You could say \"the variable `a` (`b`) is assigned to a list\" rather than \"the list is assigned to the variable `a` (`b`)\".\n",
    "\n",
    "From the Python Language Reference, Section 3.1:\n",
    "\n",
    ">Every object has an identity, a type and a value. An object’s identity never changes once it has been created; you may think of it as the object’s address in memory. The ‘is‘ operator compares the identity of two objects; the id() function returns an integer representing its identity (currently implemented as its address)."
   ]
  },
  {
   "cell_type": "markdown",
   "metadata": {
    "slideshow": {
     "slide_type": "subslide"
    }
   },
   "source": [
    "From **Fluent Python**: ![sticksnotboxes](figs/sticksnotboxes.png)"
   ]
  },
  {
   "cell_type": "markdown",
   "metadata": {
    "slideshow": {
     "slide_type": "subslide"
    }
   },
   "source": [
    "Note, if the example on the website doesn't render, here is the code for you to try in pythontutor.com:\n",
    "\n",
    "```python\n",
    "a = [1, 3, 5]\n",
    "b = a\n",
    "print(\"a = {0} and has id {1}\".format(a, id(a)))\n",
    "print(\"b = {0} and has id {1}\".format(b, id(b)))\n",
    "print(\"Is b a? {0}\".format(b is a))\n",
    "\n",
    "a.append(7)\n",
    "print(\"a = {}\".format(a))\n",
    "print(\"b = {}\".format(b))\n",
    "```"
   ]
  },
  {
   "cell_type": "markdown",
   "metadata": {
    "slideshow": {
     "slide_type": "slide"
    }
   },
   "source": [
    "### `Python` Types\n",
    "* Every variable in `Python` gets a type \n",
    "* Python is a strongly typed language\n",
    "* It is also dynamically typed \n",
    "  * Types are assigned at run-time rather than at compile time as in a language like `C`\n",
    "  * This makes it slower since the way data is stored cannot be initially optimal\n",
    "  * When the program starts you don't know what that variable will point to."
   ]
  },
  {
   "cell_type": "markdown",
   "metadata": {
    "slideshow": {
     "slide_type": "subslide"
    }
   },
   "source": [
    "Here is a discussion from Chapter 11: Further Reading in *Fluent Python*:\n",
    "\n",
    "**Strong versus weak typing**\n",
    " \n",
    "\"If the language rarely performs implicit conversion of types, it’s considered strongly typed; if it often does it, it’s weakly typed. Java, C++, and `Python` are strongly typed. PHP, JavaScript, and Perl are weakly typed.\"\n",
    "\n",
    "**Static versus dynamic typing**\n",
    "\n",
    "\"If type-checking is performed at compile time, the language is statically typed; if it happens at runtime, it’s dynamically typed. Static typing requires type declarations (some modern languages use type inference to avoid some of that). Fortran and Lisp are the two oldest programming languages still alive and they use, respectively, static and dynamic typing.\""
   ]
  },
  {
   "cell_type": "markdown",
   "metadata": {
    "slideshow": {
     "slide_type": "slide"
    }
   },
   "source": [
    "### Frames\n",
    "Whenever we use *Python Tutor* we see two columns.  The first column is labeled **Frames**.\n",
    "\n",
    "What is a frame?\n",
    "\n",
    "The evaluation of any expression requires *knowledge of the context in which the expression is being evaluated*. This context is called a *frame*. An environment is a sequence of frames, with each frame or context having a bunch of labels, or *bindings*, associating variables with values. \n",
    "\n",
    "The sequence starts at the \"global\" frame, which has bindings for imports, built-ins, etc."
   ]
  },
  {
   "cell_type": "code",
   "execution_count": 2,
   "metadata": {
    "scrolled": false,
    "slideshow": {
     "slide_type": "subslide"
    }
   },
   "outputs": [
    {
     "data": {
      "text/html": [
       "<iframe width=\"1000\" height=\"500\" frameborder=\"0\" src=\"http://pythontutor.com/iframe-embed.html#code=a%20%3D%20%5B2,%203,%204%5D%0Ac1%20%3D%202.0**2.0%0Ac2%20%3D%20%5Bi**2.0%20for%20i%20in%20a%5D%0Aprint%28c2%29&codeDivHeight=400&codeDivWidth=350&cumulative=false&curInstr=0&heapPrimitives=false&origin=opt-frontend.js&py=3&rawInputLstJSON=%5B%5D&textReferences=false\"> </iframe>"
      ],
      "text/plain": [
       "<IPython.core.display.HTML object>"
      ]
     },
     "execution_count": 2,
     "metadata": {},
     "output_type": "execute_result"
    }
   ],
   "source": [
    "HTML('<iframe width=\"1000\" height=\"500\" frameborder=\"0\" src=\"http://pythontutor.com/iframe-embed.html#code=a%20%3D%20%5B2,%203,%204%5D%0Ac1%20%3D%202.0**2.0%0Ac2%20%3D%20%5Bi**2.0%20for%20i%20in%20a%5D%0Aprint%28c2%29&codeDivHeight=400&codeDivWidth=350&cumulative=false&curInstr=0&heapPrimitives=false&origin=opt-frontend.js&py=3&rawInputLstJSON=%5B%5D&textReferences=false\"> </iframe>')"
   ]
  },
  {
   "cell_type": "markdown",
   "metadata": {
    "slideshow": {
     "slide_type": "subslide"
    }
   },
   "source": [
    "Note, if the example on the website doesn't render, here is the code for you to try in pythontutor.com:\n",
    "\n",
    "```python\n",
    "a = [2, 3, 4]\n",
    "c1 = 2.0**2.0\n",
    "c2 = [i**2.0 for i in a]\n",
    "print(c2)\n",
    "```"
   ]
  },
  {
   "cell_type": "markdown",
   "metadata": {
    "slideshow": {
     "slide_type": "slide"
    }
   },
   "source": [
    "## Functions and Environments"
   ]
  },
  {
   "cell_type": "markdown",
   "metadata": {
    "slideshow": {
     "slide_type": "subslide"
    }
   },
   "source": [
    "Functions are first class in `Python`.  If you don't know what this means, please consult the supplementary Python lecture notes."
   ]
  },
  {
   "cell_type": "code",
   "execution_count": 3,
   "metadata": {
    "slideshow": {
     "slide_type": "subslide"
    }
   },
   "outputs": [
    {
     "data": {
      "text/html": [
       "<iframe width=\"1000\" height=\"500\" frameborder=\"0\" src=\"http://pythontutor.com/iframe-embed.html#code=s%20%3D%20'The%20lost%20world...'%0Alen_of_s%20%3D%20len%28s%29%0Amy_len%20%3D%20len%0Amy_len_of_s%20%3D%20my_len%28s%29&codeDivHeight=400&codeDivWidth=350&cumulative=false&curInstr=0&heapPrimitives=false&origin=opt-frontend.js&py=3&rawInputLstJSON=%5B%5D&textReferences=false\"> </iframe>"
      ],
      "text/plain": [
       "<IPython.core.display.HTML object>"
      ]
     },
     "execution_count": 3,
     "metadata": {},
     "output_type": "execute_result"
    }
   ],
   "source": [
    "HTML('<iframe width=\"1000\" height=\"500\" frameborder=\"0\" src=\"http://pythontutor.com/iframe-embed.html#code=s%20%3D%20\\'The%20lost%20world...\\'%0Alen_of_s%20%3D%20len%28s%29%0Amy_len%20%3D%20len%0Amy_len_of_s%20%3D%20my_len%28s%29&codeDivHeight=400&codeDivWidth=350&cumulative=false&curInstr=0&heapPrimitives=false&origin=opt-frontend.js&py=3&rawInputLstJSON=%5B%5D&textReferences=false\"> </iframe>')"
   ]
  },
  {
   "cell_type": "markdown",
   "metadata": {
    "slideshow": {
     "slide_type": "subslide"
    }
   },
   "source": [
    "Note, if the example on the website doesn't render, here is the code for you to try in pythontutor.com:\n",
    "```python\n",
    "s = 'The lost world...'\n",
    "len_of_s = len(s)\n",
    "my_len = len\n",
    "my_len_of_s = my_len(s)\n",
    "```"
   ]
  },
  {
   "cell_type": "markdown",
   "metadata": {
    "slideshow": {
     "slide_type": "subslide"
    }
   },
   "source": [
    "### Defining your own environment\n",
    "\n",
    "When we apply a user defined function to some arguments, something slightly different happens from what we saw in the previous example:\n",
    "\n",
    "1. We bind the names of the arguments in a **new** local frame\n",
    "2. We evaluate the body of the function in this new frame"
   ]
  },
  {
   "cell_type": "code",
   "execution_count": 4,
   "metadata": {
    "slideshow": {
     "slide_type": "subslide"
    }
   },
   "outputs": [
    {
     "data": {
      "text/html": [
       "<iframe width=\"1000\" height=\"500\" frameborder=\"0\" src=\"http://pythontutor.com/iframe-embed.html#code=def%20check_oddness%28x%29%3A%0A%20%20%20%20if%20x%252%20%3D%3D%200%3A%0A%20%20%20%20%20%20%20%20return%20x%20/%202.0%0A%20%20%20%20else%3A%0A%20%20%20%20%20%20%20%20return%20%28x%20-%201.0%29%20/%202.0%0A%0Aa%20%3D%206.0%0An1%20%3D%20check_oddness%28a%29%0A%0Ab%20%3D%2015.0%0An2%20%3D%20check_oddness%28b%29&codeDivHeight=400&codeDivWidth=350&cumulative=false&curInstr=0&heapPrimitives=false&origin=opt-frontend.js&py=3&rawInputLstJSON=%5B%5D&textReferences=false\"> </iframe>"
      ],
      "text/plain": [
       "<IPython.core.display.HTML object>"
      ]
     },
     "execution_count": 4,
     "metadata": {},
     "output_type": "execute_result"
    }
   ],
   "source": [
    "HTML('<iframe width=\"1000\" height=\"500\" frameborder=\"0\" src=\"http://pythontutor.com/iframe-embed.html#code=def%20check_oddness%28x%29%3A%0A%20%20%20%20if%20x%252%20%3D%3D%200%3A%0A%20%20%20%20%20%20%20%20return%20x%20/%202.0%0A%20%20%20%20else%3A%0A%20%20%20%20%20%20%20%20return%20%28x%20-%201.0%29%20/%202.0%0A%0Aa%20%3D%206.0%0An1%20%3D%20check_oddness%28a%29%0A%0Ab%20%3D%2015.0%0An2%20%3D%20check_oddness%28b%29&codeDivHeight=400&codeDivWidth=350&cumulative=false&curInstr=0&heapPrimitives=false&origin=opt-frontend.js&py=3&rawInputLstJSON=%5B%5D&textReferences=false\"> </iframe>')"
   ]
  },
  {
   "cell_type": "markdown",
   "metadata": {
    "slideshow": {
     "slide_type": "subslide"
    }
   },
   "source": [
    "Note, if the example on the website doesn't render, here is the code for you to try in pythontutor.com:\n",
    "\n",
    "```python\n",
    "def check_oddness(x):\n",
    "\tif x%2 == 0:\n",
    "\t    return x / 2.0\n",
    "\telse:\n",
    "\t    return (x - 1.0) / 2.0\n",
    "\t\n",
    "a = 6.0\n",
    "n1 = check_oddness(a)\n",
    "\n",
    "b = 15.0\n",
    "n2 = check_oddness(b)\n",
    "```"
   ]
  },
  {
   "cell_type": "markdown",
   "metadata": {
    "slideshow": {
     "slide_type": "subslide"
    }
   },
   "source": [
    "### Model of Evaluation\n",
    "The combination of\n",
    "\n",
    "- environments\n",
    "- variables bound to values\n",
    "- functions \n",
    "\n",
    "together describes a *Model of Evaluation*. This model can be used to implement an interpreter for a programming language."
   ]
  },
  {
   "cell_type": "markdown",
   "metadata": {
    "slideshow": {
     "slide_type": "subslide"
    }
   },
   "source": [
    "### Parameters are passed by sharing in `Python`\n",
    "Each formal parameter in a function gets \"a *copy* of the *reference*\". Thus the parameters inside the function arguments become aliases of the actual arguments. You could also say: a function gets a copy of the arguments, but the arguments are always references.\n",
    "\n",
    "Actually, this discussion can be a bit more nuanced than what we just presented.  Here are some more detailed references for those interested:\n",
    "* [StackOverflow:  How do I pass a variable by reference?](https://stackoverflow.com/questions/986006/how-do-i-pass-a-variable-by-reference)\n",
    "* [Is Python call-by-value or call-by-reference? Neither.](https://jeffknupp.com/blog/2012/11/13/is-python-callbyvalue-or-callbyreference-neither/)"
   ]
  },
  {
   "cell_type": "code",
   "execution_count": 1,
   "metadata": {
    "slideshow": {
     "slide_type": "subslide"
    }
   },
   "outputs": [],
   "source": [
    "def f(x):\n",
    "    print(id(x))"
   ]
  },
  {
   "cell_type": "markdown",
   "metadata": {
    "slideshow": {
     "slide_type": "fragment"
    }
   },
   "source": [
    "Note:  `id(x)` is the memory address where x is stored."
   ]
  },
  {
   "cell_type": "code",
   "execution_count": 2,
   "metadata": {
    "slideshow": {
     "slide_type": "fragment"
    }
   },
   "outputs": [
    {
     "name": "stdout",
     "output_type": "stream",
     "text": [
      "4443566296\n"
     ]
    }
   ],
   "source": [
    "d={'a':17.0, 'b':35.0}\n",
    "print(id(d))"
   ]
  },
  {
   "cell_type": "code",
   "execution_count": 3,
   "metadata": {
    "slideshow": {
     "slide_type": "fragment"
    }
   },
   "outputs": [
    {
     "name": "stdout",
     "output_type": "stream",
     "text": [
      "4443566296\n"
     ]
    }
   ],
   "source": [
    "f(d)"
   ]
  },
  {
   "cell_type": "markdown",
   "metadata": {
    "slideshow": {
     "slide_type": "subslide"
    }
   },
   "source": [
    "### A few more comments"
   ]
  },
  {
   "cell_type": "markdown",
   "metadata": {
    "slideshow": {
     "slide_type": "subslide"
    }
   },
   "source": [
    "#### The binding of names (from [Python Execution Model Document](https://docs.python.org/3/reference/executionmodel.html))\n",
    "\n",
    "\"The following constructs bind names: formal parameters to functions, import statements, class and function definitions (these bind the class or function name in the defining block), and targets that are identifiers if occurring in an assignment, for loop header, or after as in a with statement or except clause. The import statement of the form from ... import * binds all names defined in the imported module, except those beginning with an underscore. This form may only be used at the module level.\"\n",
    "\n",
    "\"If a name is bound in a block, it is a local variable of that block, unless declared as nonlocal or global. If a name is bound at the module level, it is a global variable. (The variables of the module code block are local and global.) If a variable is used in a code block but not defined there, it is a free variable.\""
   ]
  },
  {
   "cell_type": "markdown",
   "metadata": {
    "slideshow": {
     "slide_type": "subslide"
    }
   },
   "source": [
    "#### The lookup of names\n",
    "\n",
    "> A scope defines the visibility of a name within a block. If a local variable is defined in a block, its scope includes that block. If the definition occurs in a function block, the scope extends to any blocks contained within the defining one, unless a contained block introduces a different binding for the name.\n",
    "\n",
    ">When a name is used in a code block, it is resolved using the nearest enclosing scope. The set of all such scopes visible to a code block is called the block’s environment."
   ]
  },
  {
   "cell_type": "code",
   "execution_count": 4,
   "metadata": {
    "slideshow": {
     "slide_type": "subslide"
    }
   },
   "outputs": [
    {
     "name": "stdout",
     "output_type": "stream",
     "text": [
      "13.0\n"
     ]
    }
   ],
   "source": [
    "import numpy as np\n",
    "c = 5000.0\n",
    "def do_integral(function):\n",
    "    c = 13.0\n",
    "    # Some algorithm for carrying out an integration\n",
    "    print(c)\n",
    "\n",
    "x = np.linspace(-1.0, 1.0, 100)\n",
    "y = x * x\n",
    "do_integral(y)"
   ]
  },
  {
   "cell_type": "markdown",
   "metadata": {
    "slideshow": {
     "slide_type": "slide"
    }
   },
   "source": [
    "## Towards Intermediate Python\n",
    "\n",
    "* Nested environments\n",
    "* Closures\n",
    "* Decorators"
   ]
  },
  {
   "cell_type": "markdown",
   "metadata": {
    "slideshow": {
     "slide_type": "slide"
    }
   },
   "source": [
    "## Nested Environments\n",
    "You can nest the definitions of functions. When you do this, inner function definitions are not even evaluated until the outer function is called. These inner functions have access to the name bindings in the scope of the outer function."
   ]
  },
  {
   "cell_type": "markdown",
   "metadata": {
    "slideshow": {
     "slide_type": "subslide"
    }
   },
   "source": [
    "In the example below, in `make_statement()`, both `s` and `key` will be defined."
   ]
  },
  {
   "cell_type": "code",
   "execution_count": 5,
   "metadata": {
    "slideshow": {
     "slide_type": "fragment"
    }
   },
   "outputs": [],
   "source": [
    "def make_statement(s):\n",
    "    def key(k):\n",
    "        c = (s, k)\n",
    "        return c\n",
    "    return key\n",
    "key_val = make_statement('name: ') # We have captured the first element of the tuple as a \"kind of state\""
   ]
  },
  {
   "cell_type": "code",
   "execution_count": 6,
   "metadata": {
    "slideshow": {
     "slide_type": "fragment"
    }
   },
   "outputs": [
    {
     "name": "stdout",
     "output_type": "stream",
     "text": [
      "('name: ', 'Albert')\n"
     ]
    }
   ],
   "source": [
    "name = key_val('Albert')\n",
    "print(name)"
   ]
  },
  {
   "cell_type": "code",
   "execution_count": 7,
   "metadata": {
    "slideshow": {
     "slide_type": "fragment"
    }
   },
   "outputs": [
    {
     "name": "stdout",
     "output_type": "stream",
     "text": [
      "('name: ', 'Emmy')\n"
     ]
    }
   ],
   "source": [
    "name2 = key_val('Emmy')\n",
    "print(name2)"
   ]
  },
  {
   "cell_type": "markdown",
   "metadata": {
    "slideshow": {
     "slide_type": "fragment"
    }
   },
   "source": [
    "In `key`, you have access to `s`. This sharing is called *lexical scoping*."
   ]
  },
  {
   "cell_type": "markdown",
   "metadata": {
    "slideshow": {
     "slide_type": "subslide"
    }
   },
   "source": [
    "Here is a more explicit explanation:  In the line `key_val = make_statement('name: ')`, `make_statement()` has returned the inner function `key` and the inner function has been given the name `key_val`.  Now, when we call `key_val()` the inner function returns the desired tuple."
   ]
  },
  {
   "cell_type": "markdown",
   "metadata": {
    "slideshow": {
     "slide_type": "fragment"
    }
   },
   "source": [
    "The reason this works is that in addition to the environment in which a user-defined function is running, that function has access to a second environment: the environment in which the function was defined.  Here, `key` has access to the environment of `make_statement`. In this sense the environment of `make_statement` is the parent of the environment of `key`."
   ]
  },
  {
   "cell_type": "markdown",
   "metadata": {
    "slideshow": {
     "slide_type": "subslide"
    }
   },
   "source": [
    "This enables two things:\n",
    "\n",
    "1. Names inside the inner functions (or the outer ones for that matter) do not interfere with names in the global scope. Inside the outer and inner functions, the \"most lexically local\" names are the ones that matter\n",
    "2. An inner function can access the environment of its enclosing (outer) function"
   ]
  },
  {
   "cell_type": "markdown",
   "metadata": {
    "slideshow": {
     "slide_type": "subslide"
    }
   },
   "source": [
    "#### By the way, you can read about [Albert](https://en.wikipedia.org/wiki/Albert_Einstein) and [Emmy](https://en.wikipedia.org/wiki/Emmy_Noether)."
   ]
  },
  {
   "cell_type": "markdown",
   "metadata": {
    "slideshow": {
     "slide_type": "slide"
    }
   },
   "source": [
    "### Closures\n",
    "\n",
    "Since the inner functions can \"capture\" information from an outer function's environment, the inner function is sometimes called a *closure*.\n",
    "\n",
    "Notice that `s`, once captured by the inner function, cannot now be changed:  we have *lost direct access to its manipulation*. \n",
    "\n",
    "```python\n",
    "def make_statement(s):\n",
    "    def key(k):\n",
    "        c=(s, k)\n",
    "        return c\n",
    "    return key\n",
    "```\n",
    "\n",
    "This process is called *encapsulation*, and is a cornerstone of *object oriented programming*."
   ]
  },
  {
   "cell_type": "markdown",
   "metadata": {
    "slideshow": {
     "slide_type": "subslide"
    }
   },
   "source": [
    "### Augmenting Functions\n",
    "\n",
    "Since functions are first class, we might want to augment them to put out, for example, call information, time information, etc."
   ]
  },
  {
   "cell_type": "markdown",
   "metadata": {
    "slideshow": {
     "slide_type": "slide"
    }
   },
   "source": [
    "### Example 1"
   ]
  },
  {
   "cell_type": "markdown",
   "metadata": {
    "slideshow": {
     "slide_type": "fragment"
    }
   },
   "source": [
    "In the following function, `timer()` accepts a function `f` as its argument and returns an inner function called `inner`."
   ]
  },
  {
   "cell_type": "code",
   "execution_count": 8,
   "metadata": {
    "slideshow": {
     "slide_type": "fragment"
    }
   },
   "outputs": [],
   "source": [
    "# First we write our timer function\n",
    "import time\n",
    "def timer(f):\n",
    "    def inner(*args):\n",
    "        t0 = time.time()\n",
    "        output = f(*args)\n",
    "        elapsed = time.time() - t0\n",
    "        print(\"Time Elapsed\", elapsed)\n",
    "        return output\n",
    "    return inner"
   ]
  },
  {
   "cell_type": "markdown",
   "metadata": {
    "slideshow": {
     "slide_type": "subslide"
    }
   },
   "source": [
    "```python\n",
    "# First we write our timer function\n",
    "import time\n",
    "def timer(f):\n",
    "    def inner(*args):\n",
    "        t0 = time.time()\n",
    "        output = f(*args)\n",
    "        elapsed = time.time() - t0\n",
    "        print(\"Time Elapsed\", elapsed)\n",
    "        return output\n",
    "    return inner\n",
    "```"
   ]
  },
  {
   "cell_type": "markdown",
   "metadata": {
    "slideshow": {
     "slide_type": "fragment"
    }
   },
   "source": [
    "`inner` accepts a variable argument list and wraps the function `f` with timers to time how long it takes `f` to execute.\n",
    "\n",
    "Note that `f` is passed a variable argument list (see the supplementary notes)."
   ]
  },
  {
   "cell_type": "code",
   "execution_count": 9,
   "metadata": {
    "scrolled": true,
    "slideshow": {
     "slide_type": "subslide"
    }
   },
   "outputs": [
    {
     "name": "stdout",
     "output_type": "stream",
     "text": [
      "33554432\n",
      "Time Elapsed 0.10662484169006348\n",
      "Time Elapsed 0.20488190650939941\n"
     ]
    }
   ],
   "source": [
    "# Now we prepare to use our timer function\n",
    "import numpy as np # Import numpy\n",
    "\n",
    "# User-defined functions\n",
    "def allocate1(x, N):\n",
    "    return [x]*N\n",
    "\n",
    "def allocate2(x, N):\n",
    "    return x * np.ones(N)\n",
    "\n",
    "x = 1.0\n",
    "N = 2**25\n",
    "print(N)\n",
    "\n",
    "# Time allocation with lists\n",
    "my_alloc = timer(allocate1)\n",
    "l1 = my_alloc(x, N)\n",
    "\n",
    "\n",
    "# Time allocation with numpy array\n",
    "my_alloc2 = timer(allocate2)\n",
    "l2 = my_alloc2(x, N)"
   ]
  },
  {
   "cell_type": "markdown",
   "metadata": {
    "slideshow": {
     "slide_type": "subslide"
    }
   },
   "source": [
    "That seemed pretty useful.  We might want to do such things a lot (and not just for timing purposes)."
   ]
  },
  {
   "cell_type": "markdown",
   "metadata": {
    "slideshow": {
     "slide_type": "slide"
    }
   },
   "source": [
    "### Decorators"
   ]
  },
  {
   "cell_type": "markdown",
   "metadata": {
    "slideshow": {
     "slide_type": "subslide"
    }
   },
   "source": [
    "Let's recap the pattern that was so useful.\n",
    "\n",
    "Basically, we wrote a nice function to \"decorate\" our function of interest.  In this case, we wrote a timer function whose closure wrapped up any function we gave to it in a timing construct.  In order to invoke our nice decorations, we had to pass a function to the timer function and get a new, decorated function back.  Then we called the decorated function."
   ]
  },
  {
   "cell_type": "markdown",
   "metadata": {
    "slideshow": {
     "slide_type": "subslide"
    }
   },
   "source": [
    "So the idea is as follows.  We have a decorator (call it `decorator`) that sweetens up some function (call it `target`). \n",
    "```python\n",
    "def target():\n",
    "    pass\n",
    "decorated_target = decorator(target)\n",
    "```"
   ]
  },
  {
   "cell_type": "markdown",
   "metadata": {
    "slideshow": {
     "slide_type": "fragment"
    }
   },
   "source": [
    "`Python` provides what's called syntactic sugar.  We can just write:\n",
    "```python\n",
    "@decorator\n",
    "def target():\n",
    "    pass\n",
    "```"
   ]
  },
  {
   "cell_type": "markdown",
   "metadata": {
    "slideshow": {
     "slide_type": "fragment"
    }
   },
   "source": [
    "Now `target` is decorated.  Let's see how this all works."
   ]
  },
  {
   "cell_type": "code",
   "execution_count": 21,
   "metadata": {
    "scrolled": true,
    "slideshow": {
     "slide_type": "subslide"
    }
   },
   "outputs": [
    {
     "name": "stdout",
     "output_type": "stream",
     "text": [
      "Time Elapsed 0.000993967056274414\n"
     ]
    }
   ],
   "source": [
    "@timer\n",
    "def allocate1(x, N):\n",
    "    return [x]*N\n",
    "\n",
    "x = 2.0\n",
    "N = 2**20\n",
    "l1 = allocate1(x, N)"
   ]
  },
  {
   "cell_type": "markdown",
   "metadata": {
    "slideshow": {
     "slide_type": "fragment"
    }
   },
   "source": [
    "Very nice!  Make sure you understand what happened here.  That syntactic sugar hides all of the details."
   ]
  },
  {
   "cell_type": "markdown",
   "metadata": {
    "slideshow": {
     "slide_type": "subslide"
    }
   },
   "source": [
    "### Example 2\n",
    "We'll just create a demo decorator here."
   ]
  },
  {
   "cell_type": "code",
   "execution_count": 22,
   "metadata": {
    "slideshow": {
     "slide_type": "subslide"
    }
   },
   "outputs": [
    {
     "name": "stdout",
     "output_type": "stream",
     "text": [
      "Let's decorate!\n"
     ]
    }
   ],
   "source": [
    "def decorate(f):\n",
    "    print(\"Let's decorate!\")\n",
    "    d = 1.0\n",
    "    def wrapper(*args):\n",
    "        print(\"Entering function.\")\n",
    "        output = f(*args)\n",
    "        print(\"Exited function.\")\n",
    "        if output > d :\n",
    "            print(\"My distance is bigger than yours.\")\n",
    "        elif output < d:\n",
    "            print(\"Your distance is bigger than mine.\")\n",
    "        else:\n",
    "            print(\"Our distances are the same size.\")\n",
    "    return wrapper\n",
    "\n",
    "@decorate\n",
    "def useful_f(a, b, c):\n",
    "    d1 = np.sqrt(a * a + b * b + c * c)\n",
    "    return d1"
   ]
  },
  {
   "cell_type": "code",
   "execution_count": 23,
   "metadata": {
    "slideshow": {
     "slide_type": "fragment"
    }
   },
   "outputs": [
    {
     "name": "stdout",
     "output_type": "stream",
     "text": [
      "Entering function.\n",
      "Exited function.\n",
      "My distance is bigger than yours.\n"
     ]
    }
   ],
   "source": [
    "d = useful_f(1.0, 2.0, 3.0)"
   ]
  },
  {
   "cell_type": "markdown",
   "metadata": {
    "slideshow": {
     "slide_type": "subslide"
    }
   },
   "source": [
    "A key thing to remmember is that a decorator is run **right after** the function is defined, not when the function is called. Thus if you had the above decorator code in a module, it would print \"Let's decorate!\" when importing the module. \n",
    "\n",
    "Notice that the concept of a closure is used: the state ```d=1``` is captured into the decorated function above."
   ]
  }
 ],
 "metadata": {
  "celltoolbar": "Slideshow",
  "kernelspec": {
   "display_name": "Python 3",
   "language": "python",
   "name": "python3"
  },
  "language_info": {
   "codemirror_mode": {
    "name": "ipython",
    "version": 3
   },
   "file_extension": ".py",
   "mimetype": "text/x-python",
   "name": "python",
   "nbconvert_exporter": "python",
   "pygments_lexer": "ipython3",
   "version": "3.6.7"
  }
 },
 "nbformat": 4,
 "nbformat_minor": 2
}
